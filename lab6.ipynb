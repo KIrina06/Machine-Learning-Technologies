{
 "cells": [
  {
   "cell_type": "code",
   "execution_count": 3,
   "metadata": {
    "id": "gwurApfNcZaq"
   },
   "outputs": [],
   "source": [
    "import numpy as np\n",
    "import pandas as pd\n",
    "import seaborn as sns\n",
    "import matplotlib.pyplot as plt\n",
    "from sklearn.model_selection import train_test_split\n",
    "from sklearn.linear_model import LinearRegression\n",
    "%matplotlib inline\n",
    "sns.set(style=\"ticks\")"
   ]
  },
  {
   "cell_type": "markdown",
   "metadata": {},
   "source": [
    "## Загрузка данных и первичный анализ"
   ]
  },
  {
   "cell_type": "code",
   "execution_count": 4,
   "metadata": {
    "id": "VzsFRkHWc1Qu"
   },
   "outputs": [],
   "source": [
    "df = pd.read_csv('medical_insurance.csv', sep=\",\")"
   ]
  },
  {
   "cell_type": "code",
   "execution_count": 5,
   "metadata": {
    "colab": {
     "base_uri": "https://localhost:8080/",
     "height": 423
    },
    "id": "5mHYw3ybdOv6",
    "outputId": "b64f197e-cc48-4c4b-ee2a-11695048d2f2"
   },
   "outputs": [
    {
     "data": {
      "text/html": [
       "<div>\n",
       "<style scoped>\n",
       "    .dataframe tbody tr th:only-of-type {\n",
       "        vertical-align: middle;\n",
       "    }\n",
       "\n",
       "    .dataframe tbody tr th {\n",
       "        vertical-align: top;\n",
       "    }\n",
       "\n",
       "    .dataframe thead th {\n",
       "        text-align: right;\n",
       "    }\n",
       "</style>\n",
       "<table border=\"1\" class=\"dataframe\">\n",
       "  <thead>\n",
       "    <tr style=\"text-align: right;\">\n",
       "      <th></th>\n",
       "      <th>age</th>\n",
       "      <th>sex</th>\n",
       "      <th>bmi</th>\n",
       "      <th>children</th>\n",
       "      <th>smoker</th>\n",
       "      <th>region</th>\n",
       "      <th>charges</th>\n",
       "    </tr>\n",
       "  </thead>\n",
       "  <tbody>\n",
       "    <tr>\n",
       "      <th>0</th>\n",
       "      <td>19</td>\n",
       "      <td>female</td>\n",
       "      <td>27.900</td>\n",
       "      <td>0</td>\n",
       "      <td>yes</td>\n",
       "      <td>southwest</td>\n",
       "      <td>16884.92400</td>\n",
       "    </tr>\n",
       "    <tr>\n",
       "      <th>1</th>\n",
       "      <td>18</td>\n",
       "      <td>male</td>\n",
       "      <td>33.770</td>\n",
       "      <td>1</td>\n",
       "      <td>no</td>\n",
       "      <td>southeast</td>\n",
       "      <td>1725.55230</td>\n",
       "    </tr>\n",
       "    <tr>\n",
       "      <th>2</th>\n",
       "      <td>28</td>\n",
       "      <td>male</td>\n",
       "      <td>33.000</td>\n",
       "      <td>3</td>\n",
       "      <td>no</td>\n",
       "      <td>southeast</td>\n",
       "      <td>4449.46200</td>\n",
       "    </tr>\n",
       "    <tr>\n",
       "      <th>3</th>\n",
       "      <td>33</td>\n",
       "      <td>male</td>\n",
       "      <td>22.705</td>\n",
       "      <td>0</td>\n",
       "      <td>no</td>\n",
       "      <td>northwest</td>\n",
       "      <td>21984.47061</td>\n",
       "    </tr>\n",
       "    <tr>\n",
       "      <th>4</th>\n",
       "      <td>32</td>\n",
       "      <td>male</td>\n",
       "      <td>28.880</td>\n",
       "      <td>0</td>\n",
       "      <td>no</td>\n",
       "      <td>northwest</td>\n",
       "      <td>3866.85520</td>\n",
       "    </tr>\n",
       "    <tr>\n",
       "      <th>...</th>\n",
       "      <td>...</td>\n",
       "      <td>...</td>\n",
       "      <td>...</td>\n",
       "      <td>...</td>\n",
       "      <td>...</td>\n",
       "      <td>...</td>\n",
       "      <td>...</td>\n",
       "    </tr>\n",
       "    <tr>\n",
       "      <th>2767</th>\n",
       "      <td>47</td>\n",
       "      <td>female</td>\n",
       "      <td>45.320</td>\n",
       "      <td>1</td>\n",
       "      <td>no</td>\n",
       "      <td>southeast</td>\n",
       "      <td>8569.86180</td>\n",
       "    </tr>\n",
       "    <tr>\n",
       "      <th>2768</th>\n",
       "      <td>21</td>\n",
       "      <td>female</td>\n",
       "      <td>34.600</td>\n",
       "      <td>0</td>\n",
       "      <td>no</td>\n",
       "      <td>southwest</td>\n",
       "      <td>2020.17700</td>\n",
       "    </tr>\n",
       "    <tr>\n",
       "      <th>2769</th>\n",
       "      <td>19</td>\n",
       "      <td>male</td>\n",
       "      <td>26.030</td>\n",
       "      <td>1</td>\n",
       "      <td>yes</td>\n",
       "      <td>northwest</td>\n",
       "      <td>16450.89470</td>\n",
       "    </tr>\n",
       "    <tr>\n",
       "      <th>2770</th>\n",
       "      <td>23</td>\n",
       "      <td>male</td>\n",
       "      <td>18.715</td>\n",
       "      <td>0</td>\n",
       "      <td>no</td>\n",
       "      <td>northwest</td>\n",
       "      <td>21595.38229</td>\n",
       "    </tr>\n",
       "    <tr>\n",
       "      <th>2771</th>\n",
       "      <td>54</td>\n",
       "      <td>male</td>\n",
       "      <td>31.600</td>\n",
       "      <td>0</td>\n",
       "      <td>no</td>\n",
       "      <td>southwest</td>\n",
       "      <td>9850.43200</td>\n",
       "    </tr>\n",
       "  </tbody>\n",
       "</table>\n",
       "<p>2772 rows × 7 columns</p>\n",
       "</div>"
      ],
      "text/plain": [
       "      age     sex     bmi  children smoker     region      charges\n",
       "0      19  female  27.900         0    yes  southwest  16884.92400\n",
       "1      18    male  33.770         1     no  southeast   1725.55230\n",
       "2      28    male  33.000         3     no  southeast   4449.46200\n",
       "3      33    male  22.705         0     no  northwest  21984.47061\n",
       "4      32    male  28.880         0     no  northwest   3866.85520\n",
       "...   ...     ...     ...       ...    ...        ...          ...\n",
       "2767   47  female  45.320         1     no  southeast   8569.86180\n",
       "2768   21  female  34.600         0     no  southwest   2020.17700\n",
       "2769   19    male  26.030         1    yes  northwest  16450.89470\n",
       "2770   23    male  18.715         0     no  northwest  21595.38229\n",
       "2771   54    male  31.600         0     no  southwest   9850.43200\n",
       "\n",
       "[2772 rows x 7 columns]"
      ]
     },
     "execution_count": 5,
     "metadata": {},
     "output_type": "execute_result"
    }
   ],
   "source": [
    "df"
   ]
  },
  {
   "cell_type": "code",
   "execution_count": 4,
   "metadata": {
    "colab": {
     "base_uri": "https://localhost:8080/"
    },
    "id": "EYSXP2CcdSEO",
    "outputId": "95230c1e-ac5c-4d5d-9a69-15b561e19c98"
   },
   "outputs": [
    {
     "data": {
      "text/plain": [
       "(2772, 7)"
      ]
     },
     "execution_count": 4,
     "metadata": {},
     "output_type": "execute_result"
    }
   ],
   "source": [
    "df.shape"
   ]
  },
  {
   "cell_type": "code",
   "execution_count": 5,
   "metadata": {
    "colab": {
     "base_uri": "https://localhost:8080/"
    },
    "id": "-QCsRq09dSG6",
    "outputId": "c23740b7-54e4-4d7d-91a9-e5da18d0d1f0"
   },
   "outputs": [
    {
     "data": {
      "text/plain": [
       "age         0\n",
       "sex         0\n",
       "bmi         0\n",
       "children    0\n",
       "smoker      0\n",
       "region      0\n",
       "charges     0\n",
       "dtype: int64"
      ]
     },
     "execution_count": 5,
     "metadata": {},
     "output_type": "execute_result"
    }
   ],
   "source": [
    "# ищем пропуски\n",
    "df.isna().sum()"
   ]
  },
  {
   "cell_type": "code",
   "execution_count": 6,
   "metadata": {
    "colab": {
     "base_uri": "https://localhost:8080/"
    },
    "id": "SVPRjbCUhRXV",
    "outputId": "c2a1079a-55b6-4cb2-f0c6-5be3a1d115f9"
   },
   "outputs": [
    {
     "data": {
      "text/plain": [
       "age           int64\n",
       "sex          object\n",
       "bmi         float64\n",
       "children      int64\n",
       "smoker       object\n",
       "region       object\n",
       "charges     float64\n",
       "dtype: object"
      ]
     },
     "execution_count": 6,
     "metadata": {},
     "output_type": "execute_result"
    }
   ],
   "source": [
    "df.dtypes"
   ]
  },
  {
   "cell_type": "code",
   "execution_count": 6,
   "metadata": {
    "colab": {
     "base_uri": "https://localhost:8080/"
    },
    "id": "Eup1eOHQg4Vy",
    "outputId": "bc862e4b-38fc-4e30-d14a-1ac51fff291e"
   },
   "outputs": [
    {
     "data": {
      "text/plain": [
       "['sex', 'smoker', 'region']"
      ]
     },
     "execution_count": 6,
     "metadata": {},
     "output_type": "execute_result"
    }
   ],
   "source": [
    "categorical_cols=df.select_dtypes(include=object).columns.to_list()\n",
    "categorical_cols"
   ]
  },
  {
   "cell_type": "code",
   "execution_count": 7,
   "metadata": {
    "colab": {
     "base_uri": "https://localhost:8080/"
    },
    "id": "Od7Xf5-Yg4Yf",
    "outputId": "491f94d0-8d45-480b-ed9b-26a047ae9272"
   },
   "outputs": [
    {
     "name": "stdout",
     "output_type": "stream",
     "text": [
      "column -- sex: ['female' 'male']\n",
      "column -- smoker: ['yes' 'no']\n",
      "column -- region: ['southwest' 'southeast' 'northwest' 'northeast']\n"
     ]
    }
   ],
   "source": [
    "for cat in categorical_cols:\n",
    "    print(f\"column -- {cat}: {df[cat].unique()}\")"
   ]
  },
  {
   "cell_type": "code",
   "execution_count": 8,
   "metadata": {
    "id": "1qBF-lqfg4lQ"
   },
   "outputs": [],
   "source": [
    "from sklearn.preprocessing import LabelEncoder"
   ]
  },
  {
   "cell_type": "code",
   "execution_count": 9,
   "metadata": {
    "id": "ViRtnYK6iC0V"
   },
   "outputs": [],
   "source": [
    "for cat in categorical_cols:\n",
    "    le = LabelEncoder()\n",
    "    df[cat] = le.fit_transform(df[cat])"
   ]
  },
  {
   "cell_type": "code",
   "execution_count": 11,
   "metadata": {
    "colab": {
     "base_uri": "https://localhost:8080/",
     "height": 423
    },
    "id": "1L7a57UuiC20",
    "outputId": "3b380270-ffaf-45cc-ae6d-fa3cfab7bf25"
   },
   "outputs": [
    {
     "data": {
      "text/html": [
       "<div>\n",
       "<style scoped>\n",
       "    .dataframe tbody tr th:only-of-type {\n",
       "        vertical-align: middle;\n",
       "    }\n",
       "\n",
       "    .dataframe tbody tr th {\n",
       "        vertical-align: top;\n",
       "    }\n",
       "\n",
       "    .dataframe thead th {\n",
       "        text-align: right;\n",
       "    }\n",
       "</style>\n",
       "<table border=\"1\" class=\"dataframe\">\n",
       "  <thead>\n",
       "    <tr style=\"text-align: right;\">\n",
       "      <th></th>\n",
       "      <th>age</th>\n",
       "      <th>sex</th>\n",
       "      <th>bmi</th>\n",
       "      <th>children</th>\n",
       "      <th>smoker</th>\n",
       "      <th>region</th>\n",
       "      <th>charges</th>\n",
       "    </tr>\n",
       "  </thead>\n",
       "  <tbody>\n",
       "    <tr>\n",
       "      <th>0</th>\n",
       "      <td>19</td>\n",
       "      <td>0</td>\n",
       "      <td>27.900</td>\n",
       "      <td>0</td>\n",
       "      <td>1</td>\n",
       "      <td>3</td>\n",
       "      <td>16884.92400</td>\n",
       "    </tr>\n",
       "    <tr>\n",
       "      <th>1</th>\n",
       "      <td>18</td>\n",
       "      <td>1</td>\n",
       "      <td>33.770</td>\n",
       "      <td>1</td>\n",
       "      <td>0</td>\n",
       "      <td>2</td>\n",
       "      <td>1725.55230</td>\n",
       "    </tr>\n",
       "    <tr>\n",
       "      <th>2</th>\n",
       "      <td>28</td>\n",
       "      <td>1</td>\n",
       "      <td>33.000</td>\n",
       "      <td>3</td>\n",
       "      <td>0</td>\n",
       "      <td>2</td>\n",
       "      <td>4449.46200</td>\n",
       "    </tr>\n",
       "    <tr>\n",
       "      <th>3</th>\n",
       "      <td>33</td>\n",
       "      <td>1</td>\n",
       "      <td>22.705</td>\n",
       "      <td>0</td>\n",
       "      <td>0</td>\n",
       "      <td>1</td>\n",
       "      <td>21984.47061</td>\n",
       "    </tr>\n",
       "    <tr>\n",
       "      <th>4</th>\n",
       "      <td>32</td>\n",
       "      <td>1</td>\n",
       "      <td>28.880</td>\n",
       "      <td>0</td>\n",
       "      <td>0</td>\n",
       "      <td>1</td>\n",
       "      <td>3866.85520</td>\n",
       "    </tr>\n",
       "    <tr>\n",
       "      <th>...</th>\n",
       "      <td>...</td>\n",
       "      <td>...</td>\n",
       "      <td>...</td>\n",
       "      <td>...</td>\n",
       "      <td>...</td>\n",
       "      <td>...</td>\n",
       "      <td>...</td>\n",
       "    </tr>\n",
       "    <tr>\n",
       "      <th>2767</th>\n",
       "      <td>47</td>\n",
       "      <td>0</td>\n",
       "      <td>45.320</td>\n",
       "      <td>1</td>\n",
       "      <td>0</td>\n",
       "      <td>2</td>\n",
       "      <td>8569.86180</td>\n",
       "    </tr>\n",
       "    <tr>\n",
       "      <th>2768</th>\n",
       "      <td>21</td>\n",
       "      <td>0</td>\n",
       "      <td>34.600</td>\n",
       "      <td>0</td>\n",
       "      <td>0</td>\n",
       "      <td>3</td>\n",
       "      <td>2020.17700</td>\n",
       "    </tr>\n",
       "    <tr>\n",
       "      <th>2769</th>\n",
       "      <td>19</td>\n",
       "      <td>1</td>\n",
       "      <td>26.030</td>\n",
       "      <td>1</td>\n",
       "      <td>1</td>\n",
       "      <td>1</td>\n",
       "      <td>16450.89470</td>\n",
       "    </tr>\n",
       "    <tr>\n",
       "      <th>2770</th>\n",
       "      <td>23</td>\n",
       "      <td>1</td>\n",
       "      <td>18.715</td>\n",
       "      <td>0</td>\n",
       "      <td>0</td>\n",
       "      <td>1</td>\n",
       "      <td>21595.38229</td>\n",
       "    </tr>\n",
       "    <tr>\n",
       "      <th>2771</th>\n",
       "      <td>54</td>\n",
       "      <td>1</td>\n",
       "      <td>31.600</td>\n",
       "      <td>0</td>\n",
       "      <td>0</td>\n",
       "      <td>3</td>\n",
       "      <td>9850.43200</td>\n",
       "    </tr>\n",
       "  </tbody>\n",
       "</table>\n",
       "<p>2772 rows × 7 columns</p>\n",
       "</div>"
      ],
      "text/plain": [
       "      age  sex     bmi  children  smoker  region      charges\n",
       "0      19    0  27.900         0       1       3  16884.92400\n",
       "1      18    1  33.770         1       0       2   1725.55230\n",
       "2      28    1  33.000         3       0       2   4449.46200\n",
       "3      33    1  22.705         0       0       1  21984.47061\n",
       "4      32    1  28.880         0       0       1   3866.85520\n",
       "...   ...  ...     ...       ...     ...     ...          ...\n",
       "2767   47    0  45.320         1       0       2   8569.86180\n",
       "2768   21    0  34.600         0       0       3   2020.17700\n",
       "2769   19    1  26.030         1       1       1  16450.89470\n",
       "2770   23    1  18.715         0       0       1  21595.38229\n",
       "2771   54    1  31.600         0       0       3   9850.43200\n",
       "\n",
       "[2772 rows x 7 columns]"
      ]
     },
     "execution_count": 11,
     "metadata": {},
     "output_type": "execute_result"
    }
   ],
   "source": [
    "df"
   ]
  },
  {
   "cell_type": "code",
   "execution_count": 12,
   "metadata": {
    "colab": {
     "base_uri": "https://localhost:8080/"
    },
    "id": "spaf2jaRipgs",
    "outputId": "05a03cd7-2f40-48e1-bcf3-bf448c5ab77a"
   },
   "outputs": [
    {
     "data": {
      "text/plain": [
       "age           int64\n",
       "sex           int64\n",
       "bmi         float64\n",
       "children      int64\n",
       "smoker        int64\n",
       "region        int64\n",
       "charges     float64\n",
       "dtype: object"
      ]
     },
     "execution_count": 12,
     "metadata": {},
     "output_type": "execute_result"
    }
   ],
   "source": [
    "df.dtypes"
   ]
  },
  {
   "cell_type": "code",
   "execution_count": 13,
   "metadata": {
    "colab": {
     "base_uri": "https://localhost:8080/"
    },
    "id": "7YecXwXEitJ9",
    "outputId": "0f017c8d-d53e-4f82-b59c-7d669cd7861c"
   },
   "outputs": [
    {
     "name": "stdout",
     "output_type": "stream",
     "text": [
      "column -- sex: [0 1]\n",
      "column -- smoker: [1 0]\n",
      "column -- region: [3 2 1 0]\n"
     ]
    }
   ],
   "source": [
    "for cat in categorical_cols:\n",
    "    print(f\"column -- {cat}: {df[cat].unique()}\")"
   ]
  },
  {
   "cell_type": "code",
   "execution_count": 10,
   "metadata": {
    "id": "BV3R83WZLlC9"
   },
   "outputs": [],
   "source": [
    "X = df.drop('charges', axis=1)  # Замените 'целевая_переменная' на название вашей целевой переменной\n",
    "y = df['charges']"
   ]
  },
  {
   "cell_type": "code",
   "execution_count": 11,
   "metadata": {
    "id": "bFz_SlJ4gYN4"
   },
   "outputs": [],
   "source": [
    "# Формирование обучающей и тестовой выборки\n",
    "X_train, X_test, y_train, y_test = train_test_split(X, y, test_size = 0.2, random_state = 42)"
   ]
  },
  {
   "cell_type": "code",
   "execution_count": 16,
   "metadata": {
    "colab": {
     "base_uri": "https://localhost:8080/",
     "height": 628
    },
    "id": "yHWvmuKkgYQO",
    "outputId": "9c6f504d-20af-4ff9-b83e-670a81638f59"
   },
   "outputs": [
    {
     "data": {
      "text/plain": [
       "<Axes: >"
      ]
     },
     "execution_count": 16,
     "metadata": {},
     "output_type": "execute_result"
    },
    {
     "data": {
      "image/png": "[encoded data removed]",
      "text/plain": [
       "<Figure size 1500x700 with 2 Axes>"
      ]
     },
     "metadata": {},
     "output_type": "display_data"
    }
   ],
   "source": [
    "#Построим корреляционную матрицу\n",
    "fig, ax = plt.subplots(figsize=(15,7))\n",
    "sns.heatmap(df.corr(method='pearson'), ax=ax, annot=True, fmt='.2f')"
   ]
  },
  {
   "cell_type": "code",
   "execution_count": 12,
   "metadata": {
    "id": "pieuNKjMgYVL"
   },
   "outputs": [],
   "source": [
    "from sklearn.preprocessing import StandardScaler\n",
    "from sklearn.metrics import mean_absolute_error, mean_squared_error, r2_score"
   ]
  },
  {
   "cell_type": "code",
   "execution_count": 13,
   "metadata": {
    "id": "XVMtuxqRkt2o"
   },
   "outputs": [],
   "source": [
    "# Scaling the features\n",
    "scaler = StandardScaler()\n",
    "X_train_scale = scaler.fit_transform(X_train)\n",
    "X_test_scale = scaler.transform(X_test)\n",
    "\n",
    "# Converting the scaled arrays into DataFrames\n",
    "X_train = pd.DataFrame(X_train_scale, columns=X_train.columns)\n",
    "X_test = pd.DataFrame(X_test_scale, columns=X_test.columns)"
   ]
  },
  {
   "cell_type": "code",
   "execution_count": 14,
   "metadata": {},
   "outputs": [
    {
     "data": {
      "text/plain": [
       "(2217, 6)"
      ]
     },
     "execution_count": 14,
     "metadata": {},
     "output_type": "execute_result"
    }
   ],
   "source": [
    "X_train.shape"
   ]
  },
  {
   "cell_type": "code",
   "execution_count": 15,
   "metadata": {},
   "outputs": [
    {
     "data": {
      "text/plain": [
       "(555, 6)"
      ]
     },
     "execution_count": 15,
     "metadata": {},
     "output_type": "execute_result"
    }
   ],
   "source": [
    "X_test.shape"
   ]
  },
  {
   "cell_type": "code",
   "execution_count": 25,
   "metadata": {
    "id": "zSlGwqE_jTR9"
   },
   "outputs": [],
   "source": [
    "def create_df(data,models, cols):\n",
    "    index = []\n",
    "    for model in models:\n",
    "        model_name = type(model).__name__\n",
    "        if model_name in index:\n",
    "            model_name = str(type(model).__name__) + '_hyp'       \n",
    "        index.append(model_name)\n",
    "\n",
    "    df = pd.DataFrame(data = data,\n",
    "                     index = index)\n",
    "    df.rename(columns=dict(zip(df.columns, cols)), inplace=True)\n",
    "    return df\n",
    "\n",
    "def training(models, X=X_train, y=y_train):\n",
    "    metric = {}\n",
    "    train_model = []\n",
    "    mses =[]\n",
    "    maes =[]\n",
    "    r2s =[]\n",
    "    index =[]\n",
    "    for model in models:\n",
    "        #score = []  # Initialize score for each model\n",
    "        model.fit(X, y)\n",
    "        train_model.append(model)\n",
    "        y_pred = model.predict(X)\n",
    "        mse = mean_squared_error(y, y_pred)\n",
    "        mses.append(mse)\n",
    "        mae = mean_absolute_error(y, y_pred)\n",
    "        maes.append(mae)\n",
    "        r2 = r2_score(y, y_pred)*100\n",
    "        r2s.append(r2)\n",
    "        #score.extend([mse, mae, r2])  # Use extend to add multiple elements to score\n",
    "        \n",
    "    cols=['train_mse', 'train_mae', 'train_r2']\n",
    "    metric['mse'] = mses\n",
    "    metric['mae'] = maes\n",
    "    metric['r2'] = r2s\n",
    "    metric_df = create_df(data=metric,models= train_model, cols = cols)\n",
    "    return metric_df, train_model\n",
    "\n",
    "def testing(models,X = X_test, y = y_test):\n",
    "    mses =[]\n",
    "    maes =[]\n",
    "    r2s =[]\n",
    "    index =[]\n",
    "    metric = {}\n",
    "    for model in models:\n",
    "        #score = []  # Initialize score for each model\n",
    "        y_pred = model.predict(X)\n",
    "        mse = mean_squared_error(y, y_pred)\n",
    "        mses.append(mse)\n",
    "        mae = mean_absolute_error(y, y_pred)\n",
    "        maes.append(mae)\n",
    "        r2 = r2_score(y, y_pred)*100\n",
    "        r2s.append(r2)\n",
    "        #score.extend([mse, mae, r2])  # Use extend to add multiple elements to score\n",
    "    metric['mse'] = mses\n",
    "    metric['mae'] = maes\n",
    "    metric['re'] = r2s\n",
    "    cols=['test_mse', 'test_mae', 'test_r2']\n",
    "    metric_df = create_df(data=metric,models= models, cols=cols)\n",
    "    return metric_df"
   ]
  },
  {
   "cell_type": "code",
   "execution_count": 17,
   "metadata": {
    "id": "aGKiTpXgnBDq"
   },
   "outputs": [],
   "source": [
    "from sklearn.ensemble import RandomForestRegressor\n",
    "from sklearn.tree import export_graphviz\n",
    "from sklearn.ensemble import ExtraTreesRegressor\n",
    "from sklearn.tree import DecisionTreeRegressor\n",
    "from sklearn.ensemble import AdaBoostRegressor\n",
    "from sklearn.ensemble import GradientBoostingRegressor\n",
    "base_model = DecisionTreeRegressor(max_depth=3)\n",
    "rf = RandomForestRegressor(n_estimators=5, oob_score=True, random_state=42)\n",
    "etr = ExtraTreesRegressor(n_estimators=5, oob_score=True, random_state=42, bootstrap=True)\n",
    "abr = AdaBoostRegressor(base_estimator=base_model, n_estimators=5, random_state=42)\n",
    "gbr = GradientBoostingRegressor(n_estimators=200, learning_rate=0.1, random_state=42)"
   ]
  },
  {
   "cell_type": "code",
   "execution_count": 23,
   "metadata": {
    "colab": {
     "base_uri": "https://localhost:8080/",
     "height": 206
    },
    "id": "eTPUuSFejTUr",
    "outputId": "6d14d0b9-f43e-4ef1-ddc8-04a57a2f7b70"
   },
   "outputs": [
    {
     "name": "stderr",
     "output_type": "stream",
     "text": [
      "/home/sofi_flin/Documents/ml_spring_23/.venv/lib/python3.10/site-packages/sklearn/ensemble/_forest.py:583: UserWarning: Some inputs do not have OOB scores. This probably means too few trees were used to compute any reliable OOB estimates.\n",
      "  warn(\n",
      "/home/sofi_flin/Documents/ml_spring_23/.venv/lib/python3.10/site-packages/sklearn/ensemble/_forest.py:583: UserWarning: Some inputs do not have OOB scores. This probably means too few trees were used to compute any reliable OOB estimates.\n",
      "  warn(\n",
      "/home/sofi_flin/Documents/ml_spring_23/.venv/lib/python3.10/site-packages/sklearn/ensemble/_base.py:166: FutureWarning: `base_estimator` was renamed to `estimator` in version 1.2 and will be removed in 1.4.\n",
      "  warnings.warn(\n"
     ]
    },
    {
     "data": {
      "text/html": [
       "<div>\n",
       "<style scoped>\n",
       "    .dataframe tbody tr th:only-of-type {\n",
       "        vertical-align: middle;\n",
       "    }\n",
       "\n",
       "    .dataframe tbody tr th {\n",
       "        vertical-align: top;\n",
       "    }\n",
       "\n",
       "    .dataframe thead th {\n",
       "        text-align: right;\n",
       "    }\n",
       "</style>\n",
       "<table border=\"1\" class=\"dataframe\">\n",
       "  <thead>\n",
       "    <tr style=\"text-align: right;\">\n",
       "      <th></th>\n",
       "      <th>train_mse</th>\n",
       "      <th>train_mae</th>\n",
       "      <th>train_r2</th>\n",
       "    </tr>\n",
       "  </thead>\n",
       "  <tbody>\n",
       "    <tr>\n",
       "      <th>RandomForestRegressor</th>\n",
       "      <td>2179569.176</td>\n",
       "      <td>498.927</td>\n",
       "      <td>98.508</td>\n",
       "    </tr>\n",
       "    <tr>\n",
       "      <th>ExtraTreesRegressor</th>\n",
       "      <td>2118513.707</td>\n",
       "      <td>493.815</td>\n",
       "      <td>98.550</td>\n",
       "    </tr>\n",
       "    <tr>\n",
       "      <th>AdaBoostRegressor</th>\n",
       "      <td>22643419.217</td>\n",
       "      <td>3679.647</td>\n",
       "      <td>84.500</td>\n",
       "    </tr>\n",
       "    <tr>\n",
       "      <th>GradientBoostingRegressor</th>\n",
       "      <td>10957994.903</td>\n",
       "      <td>1769.074</td>\n",
       "      <td>92.499</td>\n",
       "    </tr>\n",
       "  </tbody>\n",
       "</table>\n",
       "</div>"
      ],
      "text/plain": [
       "                             train_mse  train_mae  train_r2\n",
       "RandomForestRegressor      2179569.176    498.927    98.508\n",
       "ExtraTreesRegressor        2118513.707    493.815    98.550\n",
       "AdaBoostRegressor         22643419.217   3679.647    84.500\n",
       "GradientBoostingRegressor 10957994.903   1769.074    92.499"
      ]
     },
     "execution_count": 23,
     "metadata": {},
     "output_type": "execute_result"
    }
   ],
   "source": [
    "pd.options.display.float_format = '{:.3f}'.format\n",
    "models = [rf, etr, abr, gbr]\n",
    "training_df, train_models = training(models)\n",
    "\n",
    "training_df"
   ]
  },
  {
   "cell_type": "code",
   "execution_count": 24,
   "metadata": {
    "colab": {
     "base_uri": "https://localhost:8080/",
     "height": 206
    },
    "id": "yDHk3GkujTXR",
    "outputId": "c3226ef9-c271-4723-fe1c-9c590c06fd75"
   },
   "outputs": [
    {
     "data": {
      "text/html": [
       "<div>\n",
       "<style scoped>\n",
       "    .dataframe tbody tr th:only-of-type {\n",
       "        vertical-align: middle;\n",
       "    }\n",
       "\n",
       "    .dataframe tbody tr th {\n",
       "        vertical-align: top;\n",
       "    }\n",
       "\n",
       "    .dataframe thead th {\n",
       "        text-align: right;\n",
       "    }\n",
       "</style>\n",
       "<table border=\"1\" class=\"dataframe\">\n",
       "  <thead>\n",
       "    <tr style=\"text-align: right;\">\n",
       "      <th></th>\n",
       "      <th>test_mse</th>\n",
       "      <th>test_mae</th>\n",
       "      <th>test_r2</th>\n",
       "    </tr>\n",
       "  </thead>\n",
       "  <tbody>\n",
       "    <tr>\n",
       "      <th>RandomForestRegressor</th>\n",
       "      <td>9444619.196</td>\n",
       "      <td>1343.661</td>\n",
       "      <td>93.846</td>\n",
       "    </tr>\n",
       "    <tr>\n",
       "      <th>ExtraTreesRegressor</th>\n",
       "      <td>10098510.710</td>\n",
       "      <td>1416.470</td>\n",
       "      <td>93.420</td>\n",
       "    </tr>\n",
       "    <tr>\n",
       "      <th>AdaBoostRegressor</th>\n",
       "      <td>25702298.929</td>\n",
       "      <td>3785.518</td>\n",
       "      <td>83.254</td>\n",
       "    </tr>\n",
       "    <tr>\n",
       "      <th>GradientBoostingRegressor</th>\n",
       "      <td>16573386.339</td>\n",
       "      <td>2119.189</td>\n",
       "      <td>89.202</td>\n",
       "    </tr>\n",
       "  </tbody>\n",
       "</table>\n",
       "</div>"
      ],
      "text/plain": [
       "                              test_mse  test_mae  test_r2\n",
       "RandomForestRegressor      9444619.196  1343.661   93.846\n",
       "ExtraTreesRegressor       10098510.710  1416.470   93.420\n",
       "AdaBoostRegressor         25702298.929  3785.518   83.254\n",
       "GradientBoostingRegressor 16573386.339  2119.189   89.202"
      ]
     },
     "execution_count": 24,
     "metadata": {},
     "output_type": "execute_result"
    }
   ],
   "source": [
    "test_df = testing(train_models)\n",
    "\n",
    "test_df"
   ]
  },
  {
   "cell_type": "code",
   "execution_count": null,
   "metadata": {},
   "outputs": [],
   "source": [
    "from sklearn.metrics import mean_absolute_error, r2_score\n",
    "\n",
    "def val_metrics(model, train_x, train_y, test_x, test_y):\n",
    "    model.fit(train_x, train_y)\n",
    "    y_pred = model.predict(test_x)\n",
    "    mae = mean_absolute_error(test_y, y_pred)\n",
    "    r2 = r2_score(test_y, y_pred)\n",
    "    print(model)\n",
    "    print('MAE={}'.format(mae))\n",
    "    print('R2 Score={}'.format(r2))\n",
    "    print('==========================')\n",
    "\n",
    "# Точность на отдельных моделях\n",
    "for model in [\n",
    "    LinearRegression(),\n",
    "    DecisionTreeRegressor(random_state=42),\n",
    "    RandomForestRegressor(n_estimators=105, random_state=42)\n",
    "]:\n",
    "    val_metrics(model, X_train, y_train, X_test, y_test)\n"
   ]
  },
  {
   "cell_type": "code",
   "execution_count": 21,
   "metadata": {},
   "outputs": [],
   "source": [
    "def vis_models_quality(array_metric, array_labels, str_header, figsize=(5, 5)):\n",
    "    fig, ax1 = plt.subplots(figsize=figsize)\n",
    "    pos = np.arange(len(array_metric))\n",
    "    rects = ax1.barh(pos, array_metric,\n",
    "                     align='center',\n",
    "                     height=0.5, \n",
    "                     tick_label=array_labels)\n",
    "    ax1.set_title(str_header)\n",
    "    for a,b in zip(pos, array_metric):\n",
    "        plt.text(0.2, a-0.1, str(round(b,3)), color='white')\n",
    "    plt.show()"
   ]
  },
  {
   "cell_type": "markdown",
   "metadata": {},
   "source": [
    "## Стекинг"
   ]
  },
  {
   "cell_type": "code",
   "execution_count": 1,
   "metadata": {},
   "outputs": [],
   "source": [
    "from heamy.dataset import Dataset\n",
    "from heamy.estimator import Regressor\n",
    "from heamy.pipeline import ModelsPipeline"
   ]
  },
  {
   "cell_type": "code",
   "execution_count": 19,
   "metadata": {},
   "outputs": [
    {
     "name": "stdout",
     "output_type": "stream",
     "text": [
      "Metric: r2_score\n",
      "Folds accuracy: [0.9604155834396174, 0.9676783124950149, 0.9143296216328749, 0.9103283633184968, 0.9062750691257013, 0.9046892401277392, 0.9013266179105077, 0.9310084850393554, 0.9364865736895556, 0.9057589689509976]\n",
      "Mean accuracy: 0.923829683572986\n",
      "Standard Deviation: 0.022919334557578944\n",
      "Variance: 0.0005252958965622324\n",
      "Metric: r2_score\n",
      "Folds accuracy: [0.95138797499365, 0.9773912871236708, 0.9223681093091471, 0.8994528281296649, 0.931307679439366, 0.8887400560499181, 0.9325782332837739, 0.930091929662296, 0.9407304192542247, 0.9227460307492747]\n",
      "Mean accuracy: 0.9296794547994987\n",
      "Standard Deviation: 0.023605588845811064\n",
      "Variance: 0.0005572238247574797\n",
      "Metric: r2_score\n",
      "Folds accuracy: [0.9630977928143095, 0.9697698899275307, 0.929893193940304, 0.9130782516187702, 0.9321605448835882, 0.9105340558878181, 0.9377084214841552, 0.9483430210608826, 0.9585861697773104, 0.9208689906648586]\n",
      "Mean accuracy: 0.9384040332059527\n",
      "Standard Deviation: 0.019842401115734324\n",
      "Variance: 0.0003937208820376948\n",
      "Metric: r2_score\n",
      "Folds accuracy: [0.9600171377688029, 0.9680327777400004, 0.9420996007095698, 0.9115444844797232, 0.9436416680269085, 0.9051533218104206, 0.9623257768695322, 0.9538378378720032, 0.9631040899608148, 0.9462673652162642]\n",
      "Mean accuracy: 0.9456024060454041\n",
      "Standard Deviation: 0.02043853032950707\n",
      "Variance: 0.00041773352203018047\n"
     ]
    }
   ],
   "source": [
    "dataset = Dataset(X_train, y_train, X_test)\n",
    "\n",
    "# модели первого уровня\n",
    "model_tree = Regressor(dataset=dataset, estimator=DecisionTreeRegressor, name='tree')\n",
    "model_lr = Regressor(dataset=dataset, estimator=LinearRegression,name='lr')\n",
    "model_rf = Regressor(dataset=dataset, estimator=RandomForestRegressor, parameters={'n_estimators': 160},name='rf')\n",
    "# Эксперимент 1\n",
    "# Первый уровень - две модели: дерево и линейная регрессия\n",
    "# Второй уровень: линейная регрессия\n",
    "\n",
    "pipeline = ModelsPipeline(model_tree, model_lr)\n",
    "stack_ds = pipeline.stack(k=10, seed=1)\n",
    "# модель второго уровня\n",
    "stacker = Regressor(dataset=stack_ds, estimator=LinearRegression)\n",
    "results = stacker.validate(k=10,scorer=r2_score)\n",
    "# Эксперимент 2\n",
    "# Первый уровень - две модели: дерево и линейная регрессия\n",
    "# Второй уровень: случайный лес\n",
    "\n",
    "stacker = Regressor(dataset=stack_ds, estimator=RandomForestRegressor)\n",
    "results = stacker.validate(k=10,scorer=r2_score)\n",
    "\n",
    "# Эксперимент 3\n",
    "# Первый уровень - три модели: дерево, линейная регрессия и случайный лес\n",
    "# Второй уровень: линейная регрессия\n",
    "pipeline = ModelsPipeline(model_tree, model_lr, model_rf)\n",
    "stack_ds3 = pipeline.stack(k=10, seed=1)\n",
    "# модель второго уровня\n",
    "stacker = Regressor(dataset=stack_ds3, estimator=LinearRegression)\n",
    "results = stacker.validate(k=10,scorer=r2_score)\n",
    "\n",
    "# Эксперимент 4\n",
    "# Первый уровень - три модели: дерево, линейная регрессия и случайный лес\n",
    "# Второй уровень: случайный лес\n",
    "# Результат хуже чем в эксперименте 3\n",
    "stacker = Regressor(dataset=stack_ds3, estimator=RandomForestRegressor)\n",
    "results = stacker.validate(k=10,scorer=r2_score)"
   ]
  },
  {
   "cell_type": "code",
   "execution_count": 22,
   "metadata": {},
   "outputs": [
    {
     "data": {
      "image/png": "[encoded data removed]",
      "text/plain": [
       "<Figure size 500x500 with 1 Axes>"
      ]
     },
     "metadata": {},
     "output_type": "display_data"
    }
   ],
   "source": [
    "# Результаты\n",
    "array_labels = ['LR','TREE', 'RF', 'TREE+LR=>LR', \n",
    "                'TREE+LR=>RF', 'TREE+LR+RF=>LR', 'TREE+LR+RF=>RF']\n",
    "array_r2 = [0.7398864322395977, 0.9370575488858102, 0.9512316214891919, \n",
    "             0.923829683572986, 0.9296794547994987, 0.9384040332059527, \n",
    "             0.9456024060454041]\n",
    "# Визуализация результатов\n",
    "vis_models_quality(array_r2, array_labels, 'r2_score для моделей стекинга')"
   ]
  },
  {
   "cell_type": "markdown",
   "metadata": {},
   "source": [
    "**Вывод:** лучший результат стекинга - модель 1 уровня (дерево, линейная регрессия, случайный лес)"
   ]
  },
  {
   "cell_type": "markdown",
   "metadata": {},
   "source": [
    "## Многослойный перцептрон"
   ]
  },
  {
   "cell_type": "code",
   "execution_count": 23,
   "metadata": {},
   "outputs": [],
   "source": [
    "from sklearn.neural_network import MLPRegressor\n",
    "mlp = MLPRegressor(hidden_layer_sizes=(300, 200, 150, 100, 50, 25),  activation='relu', solver='adam', random_state=42)\n",
    "mlp_model = MLPRegressor(hidden_layer_sizes=(100, 50), activation='relu', solver='adam', random_state=42)"
   ]
  },
  {
   "cell_type": "code",
   "execution_count": 26,
   "metadata": {},
   "outputs": [
    {
     "name": "stderr",
     "output_type": "stream",
     "text": [
      "/home/sofi_flin/Documents/ml_spring_23/.venv/lib/python3.10/site-packages/sklearn/neural_network/_multilayer_perceptron.py:686: ConvergenceWarning: Stochastic Optimizer: Maximum iterations (200) reached and the optimization hasn't converged yet.\n",
      "  warnings.warn(\n",
      "/home/sofi_flin/Documents/ml_spring_23/.venv/lib/python3.10/site-packages/sklearn/neural_network/_multilayer_perceptron.py:686: ConvergenceWarning: Stochastic Optimizer: Maximum iterations (200) reached and the optimization hasn't converged yet.\n",
      "  warnings.warn(\n"
     ]
    },
    {
     "data": {
      "text/html": [
       "<div>\n",
       "<style scoped>\n",
       "    .dataframe tbody tr th:only-of-type {\n",
       "        vertical-align: middle;\n",
       "    }\n",
       "\n",
       "    .dataframe tbody tr th {\n",
       "        vertical-align: top;\n",
       "    }\n",
       "\n",
       "    .dataframe thead th {\n",
       "        text-align: right;\n",
       "    }\n",
       "</style>\n",
       "<table border=\"1\" class=\"dataframe\">\n",
       "  <thead>\n",
       "    <tr style=\"text-align: right;\">\n",
       "      <th></th>\n",
       "      <th>train_mse</th>\n",
       "      <th>train_mae</th>\n",
       "      <th>train_r2</th>\n",
       "    </tr>\n",
       "  </thead>\n",
       "  <tbody>\n",
       "    <tr>\n",
       "      <th>MLPRegressor</th>\n",
       "      <td>16020791.730</td>\n",
       "      <td>2179.870</td>\n",
       "      <td>89.033</td>\n",
       "    </tr>\n",
       "    <tr>\n",
       "      <th>MLPRegressor_hyp</th>\n",
       "      <td>32329168.897</td>\n",
       "      <td>3886.080</td>\n",
       "      <td>77.869</td>\n",
       "    </tr>\n",
       "  </tbody>\n",
       "</table>\n",
       "</div>"
      ],
      "text/plain": [
       "                    train_mse  train_mae  train_r2\n",
       "MLPRegressor     16020791.730   2179.870    89.033\n",
       "MLPRegressor_hyp 32329168.897   3886.080    77.869"
      ]
     },
     "execution_count": 26,
     "metadata": {},
     "output_type": "execute_result"
    }
   ],
   "source": [
    "pd.options.display.float_format = '{:.3f}'.format\n",
    "models = [mlp, mlp_model]\n",
    "training_df, train_models = training(models)\n",
    "\n",
    "training_df"
   ]
  },
  {
   "cell_type": "code",
   "execution_count": 27,
   "metadata": {},
   "outputs": [
    {
     "data": {
      "text/html": [
       "<div>\n",
       "<style scoped>\n",
       "    .dataframe tbody tr th:only-of-type {\n",
       "        vertical-align: middle;\n",
       "    }\n",
       "\n",
       "    .dataframe tbody tr th {\n",
       "        vertical-align: top;\n",
       "    }\n",
       "\n",
       "    .dataframe thead th {\n",
       "        text-align: right;\n",
       "    }\n",
       "</style>\n",
       "<table border=\"1\" class=\"dataframe\">\n",
       "  <thead>\n",
       "    <tr style=\"text-align: right;\">\n",
       "      <th></th>\n",
       "      <th>test_mse</th>\n",
       "      <th>test_mae</th>\n",
       "      <th>test_r2</th>\n",
       "    </tr>\n",
       "  </thead>\n",
       "  <tbody>\n",
       "    <tr>\n",
       "      <th>MLPRegressor</th>\n",
       "      <td>21596791.958</td>\n",
       "      <td>2505.951</td>\n",
       "      <td>85.929</td>\n",
       "    </tr>\n",
       "    <tr>\n",
       "      <th>MLPRegressor_hyp</th>\n",
       "      <td>36640353.847</td>\n",
       "      <td>3996.691</td>\n",
       "      <td>76.127</td>\n",
       "    </tr>\n",
       "  </tbody>\n",
       "</table>\n",
       "</div>"
      ],
      "text/plain": [
       "                     test_mse  test_mae  test_r2\n",
       "MLPRegressor     21596791.958  2505.951   85.929\n",
       "MLPRegressor_hyp 36640353.847  3996.691   76.127"
      ]
     },
     "execution_count": 27,
     "metadata": {},
     "output_type": "execute_result"
    }
   ],
   "source": [
    "test_df = testing(train_models)\n",
    "\n",
    "test_df"
   ]
  },
  {
   "cell_type": "markdown",
   "metadata": {},
   "source": [
    "## COMBI и MIA из семейства МГУА"
   ]
  },
  {
   "cell_type": "code",
   "execution_count": 28,
   "metadata": {},
   "outputs": [],
   "source": [
    "from gmdhpy import gmdh"
   ]
  },
  {
   "cell_type": "code",
   "execution_count": 29,
   "metadata": {},
   "outputs": [],
   "source": [
    "import gmdh"
   ]
  },
  {
   "cell_type": "code",
   "execution_count": 30,
   "metadata": {},
   "outputs": [
    {
     "name": "stdout",
     "output_type": "stream",
     "text": [
      "train elements: 554 \n",
      "test elements: 2218\n"
     ]
    }
   ],
   "source": [
    "laptop_x_train, laptop_x_test, laptop_y_train, laptop_y_test = \\\n",
    "    gmdh.split_data(df.drop(['charges'], axis=1), df['charges'], test_size=0.8)\n",
    "laptop_scaler = StandardScaler().fit(laptop_x_train)\n",
    "laptop_x_train = laptop_scaler.transform(laptop_x_train)\n",
    "laptop_x_test = laptop_scaler.transform(laptop_x_test)\n",
    "print(\"train elements:\", laptop_x_train.shape[0], \"\\ntest elements:\", laptop_x_test.shape[0])"
   ]
  },
  {
   "cell_type": "code",
   "execution_count": 31,
   "metadata": {},
   "outputs": [],
   "source": [
    "def print_metrics(y_test, y_pred, squared=False):\n",
    "    print(f\"R^2: {r2_score(y_test, y_pred)}\")\n",
    "    crit_name = \"MSE\" if squared else \"RMSE\"\n",
    "    print(f\"{crit_name}: {mean_squared_error(y_test, y_pred, squared=squared)}\")\n",
    "    print(f\"MAE: {mean_absolute_error(y_test, y_pred)}\")"
   ]
  },
  {
   "cell_type": "code",
   "execution_count": 32,
   "metadata": {},
   "outputs": [],
   "source": [
    "from sklearn.metrics import mean_absolute_error, mean_squared_error, r2_score\n",
    "\n",
    "def print_metrics(y_test, y_pred):\n",
    "    mse = mean_squared_error(y_test, y_pred)\n",
    "    mae = mean_absolute_error(y_test, y_pred)\n",
    "    r2 = r2_score(y_test, y_pred)\n",
    "\n",
    "    print(f\"MAE: {mae}\")\n",
    "    print(f\"MSE: {mse}\")\n",
    "    print(f\"R2: {r2}\")\n"
   ]
  },
  {
   "cell_type": "code",
   "execution_count": 33,
   "metadata": {},
   "outputs": [
    {
     "name": "stdout",
     "output_type": "stream",
     "text": [
      "LEVEL 1  [=========================] 100% [00m:00s] (6 combinations) error=6.87079e+09\n",
      "LEVEL 2  [=========================] 100% [00m:00s] (15 combinations) error=5.22529e+09\n",
      "LEVEL 3  [=========================] 100% [00m:00s] (20 combinations) error=4.77224e+09\n",
      "LEVEL 4  [=========================] 100% [00m:00s] (15 combinations) error=4.76817e+09\n",
      "LEVEL 5  [=========================] 100% [00m:00s] (6 combinations) error=4.86287e+09\n",
      "\n",
      "y = 3929.2597*x1 + 1927.5676*x3 + 9429.0544*x5 - 16.6626*x6 + 13415.4701\n",
      "\n",
      "MAE: 4281.452207884143\n",
      "MSE: 37361873.09104982\n",
      "R2: 0.7475026136697335\n"
     ]
    }
   ],
   "source": [
    "laptop_combi_model = gmdh.Combi()\n",
    "laptop_combi_model.fit(laptop_x_train, laptop_y_train, verbose=1, n_jobs=-1, test_size=0.2, limit=0, \n",
    "                       criterion=gmdh.Criterion(gmdh.CriterionType.REGULARITY))\n",
    "print()\n",
    "print(laptop_combi_model.get_best_polynomial())\n",
    "print()\n",
    "laptop_y_pred_combi = laptop_combi_model.predict(laptop_x_test)\n",
    "print_metrics(laptop_y_test, laptop_y_pred_combi)"
   ]
  },
  {
   "cell_type": "code",
   "execution_count": 34,
   "metadata": {},
   "outputs": [
    {
     "name": "stdout",
     "output_type": "stream",
     "text": [
      "LEVEL 1  [=========================] 100% [00m:00s] (15 combinations) error=2.30706e+1\n",
      "LEVEL 2  [=========================] 100% [00m:00s] (36 combinations) error=2.09675e+1\n",
      "LEVEL 3  [=========================] 100% [00m:00s] (36 combinations) error=2.09111e+1\n",
      "LEVEL 4  [=========================] 100% [00m:00s] (36 combinations) error=2.08961e+1\n",
      "LEVEL 5  [=========================] 100% [00m:00s] (36 combinations) error=2.08981e+1\n",
      "MAE: 4255.538959422512\n",
      "MSE: 36938166.8105884\n",
      "R2: 0.7503660870327393\n"
     ]
    }
   ],
   "source": [
    "laptop_mia_model = gmdh.Mia()\n",
    "laptop_mia_model.fit(laptop_x_train, laptop_y_train, verbose=1, n_jobs=-1, test_size=0.2, limit=0, k_best=9, \n",
    "                     criterion=gmdh.Criterion(gmdh.CriterionType.SYM_REGULARITY), \n",
    "                     polynomial_type=gmdh.PolynomialType.LINEAR)\n",
    "laptop_y_pred_mia = laptop_mia_model.predict(laptop_x_test)\n",
    "print_metrics(laptop_y_test, laptop_y_pred_mia)"
   ]
  },
  {
   "cell_type": "markdown",
   "metadata": {},
   "source": [
    "**Вывод:** модель стекинга регрессия и методы из библиотеки МГУА дали худшие результаты, а модель стекинга дерево решений, линейная регрессия, случайный лес лучший результат."
   ]
  }
 ],
 "metadata": {
  "colab": {
   "provenance": []
  },
  "kernelspec": {
   "display_name": "Python 3 (ipykernel)",
   "language": "python",
   "name": "python3"
  },
  "language_info": {
   "codemirror_mode": {
    "name": "ipython",
    "version": 3
   },
   "file_extension": ".py",
   "mimetype": "text/x-python",
   "name": "python",
   "nbconvert_exporter": "python",
   "pygments_lexer": "ipython3",
   "version": "3.11.7"
  }
 },
 "nbformat": 4,
 "nbformat_minor": 4
}
