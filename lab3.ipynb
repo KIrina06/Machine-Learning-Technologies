{
 "cells": [
  {
   "cell_type": "code",
   "execution_count": 1,
   "id": "b3fc1258-0757-4100-8a67-3f3b1295e12b",
   "metadata": {},
   "outputs": [
    {
     "name": "stdout",
     "output_type": "stream",
     "text": [
      "Requirement already satisfied: scikit-learn in c:\\users\\user\\anaconda3\\lib\\site-packages (1.2.2)\n",
      "Requirement already satisfied: numpy>=1.17.3 in c:\\users\\user\\anaconda3\\lib\\site-packages (from scikit-learn) (1.26.4)\n",
      "Requirement already satisfied: scipy>=1.3.2 in c:\\users\\user\\anaconda3\\lib\\site-packages (from scikit-learn) (1.11.4)\n",
      "Requirement already satisfied: joblib>=1.1.1 in c:\\users\\user\\anaconda3\\lib\\site-packages (from scikit-learn) (1.2.0)\n",
      "Requirement already satisfied: threadpoolctl>=2.0.0 in c:\\users\\user\\anaconda3\\lib\\site-packages (from scikit-learn) (2.2.0)\n"
     ]
    }
   ],
   "source": [
    "!pip install scikit-learn"
   ]
  },
  {
   "cell_type": "code",
   "execution_count": 1,
   "id": "fedef6de-f13b-4a79-ac3b-e58c74c407bf",
   "metadata": {},
   "outputs": [],
   "source": [
    "import numpy as np\n",
    "import pandas as pd\n",
    "import sklearn\n",
    "from typing import Dict, Tuple\n",
    "from scipy import stats\n",
    "from sklearn import datasets\n",
    "from sklearn import model_selection\n",
    "from sklearn.model_selection import train_test_split\n",
    "from sklearn.neighbors import KNeighborsRegressor, KNeighborsClassifier\n",
    "from sklearn.metrics import accuracy_score, balanced_accuracy_score\n",
    "from sklearn import metrics\n",
    "from sklearn.metrics import precision_score, recall_score, f1_score, classification_report\n",
    "from sklearn.metrics import confusion_matrix\n",
    "from sklearn.metrics import mean_absolute_error, mean_squared_error, mean_squared_log_error, median_absolute_error, r2_score \n",
    "from sklearn.metrics import roc_curve, roc_auc_score\n",
    "import seaborn as sns\n",
    "import matplotlib.pyplot as plt\n",
    "%matplotlib inline \n",
    "sns.set(style=\"ticks\")"
   ]
  },
  {
   "cell_type": "markdown",
   "id": "86c809f8-4b4b-4a00-9f0f-780d195dd299",
   "metadata": {},
   "source": [
    "## Загрузка и первичный анализ данных"
   ]
  },
  {
   "cell_type": "code",
   "execution_count": 47,
   "id": "f386d876-9b4f-4429-924e-9acea29aee4e",
   "metadata": {},
   "outputs": [],
   "source": [
    "data = pd.read_csv('data/onlinefoods.csv', sep=\",\")"
   ]
  },
  {
   "cell_type": "code",
   "execution_count": 48,
   "id": "f8beb1dd-e56b-4354-823c-c7c5460c4ce9",
   "metadata": {},
   "outputs": [
    {
     "data": {
      "text/plain": [
       "(388, 13)"
      ]
     },
     "execution_count": 48,
     "metadata": {},
     "output_type": "execute_result"
    }
   ],
   "source": [
    "# размер набора данных\n",
    "data.shape"
   ]
  },
  {
   "cell_type": "code",
   "execution_count": 49,
   "id": "6a7778d2-3f9a-4807-9686-abbdaffa18a6",
   "metadata": {},
   "outputs": [
    {
     "data": {
      "text/plain": [
       "Age                             int64\n",
       "Gender                         object\n",
       "Marital Status                 object\n",
       "Occupation                     object\n",
       "Monthly Income                 object\n",
       "Educational Qualifications     object\n",
       "Family size                     int64\n",
       "latitude                      float64\n",
       "longitude                     float64\n",
       "Pin code                        int64\n",
       "Output                         object\n",
       "Feedback                       object\n",
       "Unnamed: 12                    object\n",
       "dtype: object"
      ]
     },
     "execution_count": 49,
     "metadata": {},
     "output_type": "execute_result"
    }
   ],
   "source": [
    "# типы колонок\n",
    "data.dtypes"
   ]
  },
  {
   "cell_type": "code",
   "execution_count": 50,
   "id": "d790dfd1-1783-4984-84be-e9e8d3898b5d",
   "metadata": {},
   "outputs": [
    {
     "data": {
      "text/plain": [
       "Age                           0\n",
       "Gender                        0\n",
       "Marital Status                0\n",
       "Occupation                    0\n",
       "Monthly Income                0\n",
       "Educational Qualifications    0\n",
       "Family size                   0\n",
       "latitude                      0\n",
       "longitude                     0\n",
       "Pin code                      0\n",
       "Output                        0\n",
       "Feedback                      0\n",
       "Unnamed: 12                   0\n",
       "dtype: int64"
      ]
     },
     "execution_count": 50,
     "metadata": {},
     "output_type": "execute_result"
    }
   ],
   "source": [
    "# проверим есть ли пропущенные значения\n",
    "data.isnull().sum()"
   ]
  },
  {
   "cell_type": "code",
   "execution_count": 51,
   "id": "9c5d6e39-9578-4812-8d27-370765dcbdc1",
   "metadata": {},
   "outputs": [
    {
     "data": {
      "text/html": [
       "<div>\n",
       "<style scoped>\n",
       "    .dataframe tbody tr th:only-of-type {\n",
       "        vertical-align: middle;\n",
       "    }\n",
       "\n",
       "    .dataframe tbody tr th {\n",
       "        vertical-align: top;\n",
       "    }\n",
       "\n",
       "    .dataframe thead th {\n",
       "        text-align: right;\n",
       "    }\n",
       "</style>\n",
       "<table border=\"1\" class=\"dataframe\">\n",
       "  <thead>\n",
       "    <tr style=\"text-align: right;\">\n",
       "      <th></th>\n",
       "      <th>Age</th>\n",
       "      <th>Gender</th>\n",
       "      <th>Marital Status</th>\n",
       "      <th>Occupation</th>\n",
       "      <th>Monthly Income</th>\n",
       "      <th>Educational Qualifications</th>\n",
       "      <th>Family size</th>\n",
       "      <th>latitude</th>\n",
       "      <th>longitude</th>\n",
       "      <th>Pin code</th>\n",
       "      <th>Output</th>\n",
       "      <th>Feedback</th>\n",
       "      <th>Unnamed: 12</th>\n",
       "    </tr>\n",
       "  </thead>\n",
       "  <tbody>\n",
       "    <tr>\n",
       "      <th>0</th>\n",
       "      <td>20</td>\n",
       "      <td>Female</td>\n",
       "      <td>Single</td>\n",
       "      <td>Student</td>\n",
       "      <td>No Income</td>\n",
       "      <td>Post Graduate</td>\n",
       "      <td>4</td>\n",
       "      <td>12.9766</td>\n",
       "      <td>77.5993</td>\n",
       "      <td>560001</td>\n",
       "      <td>Yes</td>\n",
       "      <td>Positive</td>\n",
       "      <td>Yes</td>\n",
       "    </tr>\n",
       "    <tr>\n",
       "      <th>1</th>\n",
       "      <td>24</td>\n",
       "      <td>Female</td>\n",
       "      <td>Single</td>\n",
       "      <td>Student</td>\n",
       "      <td>Below Rs.10000</td>\n",
       "      <td>Graduate</td>\n",
       "      <td>3</td>\n",
       "      <td>12.9770</td>\n",
       "      <td>77.5773</td>\n",
       "      <td>560009</td>\n",
       "      <td>Yes</td>\n",
       "      <td>Positive</td>\n",
       "      <td>Yes</td>\n",
       "    </tr>\n",
       "    <tr>\n",
       "      <th>2</th>\n",
       "      <td>22</td>\n",
       "      <td>Male</td>\n",
       "      <td>Single</td>\n",
       "      <td>Student</td>\n",
       "      <td>Below Rs.10000</td>\n",
       "      <td>Post Graduate</td>\n",
       "      <td>3</td>\n",
       "      <td>12.9551</td>\n",
       "      <td>77.6593</td>\n",
       "      <td>560017</td>\n",
       "      <td>Yes</td>\n",
       "      <td>Negative</td>\n",
       "      <td>Yes</td>\n",
       "    </tr>\n",
       "    <tr>\n",
       "      <th>3</th>\n",
       "      <td>22</td>\n",
       "      <td>Female</td>\n",
       "      <td>Single</td>\n",
       "      <td>Student</td>\n",
       "      <td>No Income</td>\n",
       "      <td>Graduate</td>\n",
       "      <td>6</td>\n",
       "      <td>12.9473</td>\n",
       "      <td>77.5616</td>\n",
       "      <td>560019</td>\n",
       "      <td>Yes</td>\n",
       "      <td>Positive</td>\n",
       "      <td>Yes</td>\n",
       "    </tr>\n",
       "    <tr>\n",
       "      <th>4</th>\n",
       "      <td>22</td>\n",
       "      <td>Male</td>\n",
       "      <td>Single</td>\n",
       "      <td>Student</td>\n",
       "      <td>Below Rs.10000</td>\n",
       "      <td>Post Graduate</td>\n",
       "      <td>4</td>\n",
       "      <td>12.9850</td>\n",
       "      <td>77.5533</td>\n",
       "      <td>560010</td>\n",
       "      <td>Yes</td>\n",
       "      <td>Positive</td>\n",
       "      <td>Yes</td>\n",
       "    </tr>\n",
       "  </tbody>\n",
       "</table>\n",
       "</div>"
      ],
      "text/plain": [
       "   Age  Gender Marital Status Occupation  Monthly Income  \\\n",
       "0   20  Female         Single    Student       No Income   \n",
       "1   24  Female         Single    Student  Below Rs.10000   \n",
       "2   22    Male         Single    Student  Below Rs.10000   \n",
       "3   22  Female         Single    Student       No Income   \n",
       "4   22    Male         Single    Student  Below Rs.10000   \n",
       "\n",
       "  Educational Qualifications  Family size  latitude  longitude  Pin code  \\\n",
       "0              Post Graduate            4   12.9766    77.5993    560001   \n",
       "1                   Graduate            3   12.9770    77.5773    560009   \n",
       "2              Post Graduate            3   12.9551    77.6593    560017   \n",
       "3                   Graduate            6   12.9473    77.5616    560019   \n",
       "4              Post Graduate            4   12.9850    77.5533    560010   \n",
       "\n",
       "  Output   Feedback Unnamed: 12  \n",
       "0    Yes   Positive         Yes  \n",
       "1    Yes   Positive         Yes  \n",
       "2    Yes  Negative          Yes  \n",
       "3    Yes   Positive         Yes  \n",
       "4    Yes   Positive         Yes  "
      ]
     },
     "execution_count": 51,
     "metadata": {},
     "output_type": "execute_result"
    }
   ],
   "source": [
    "# Первые 5 строк датасета\n",
    "data.head()"
   ]
  },
  {
   "cell_type": "code",
   "execution_count": 52,
   "id": "0a1b75d7-6208-4bde-98a1-c2e11b713805",
   "metadata": {},
   "outputs": [
    {
     "name": "stdout",
     "output_type": "stream",
     "text": [
      "Всего строк: 388\n"
     ]
    }
   ],
   "source": [
    "total_count = data.shape[0]\n",
    "print('Всего строк: {}'.format(total_count))"
   ]
  },
  {
   "cell_type": "markdown",
   "id": "b4d30044-90e7-4d6a-9307-61dde7482f5d",
   "metadata": {},
   "source": [
    "Так как пропусков нет, то этап заполнения пропусков можно пропустить."
   ]
  },
  {
   "cell_type": "markdown",
   "id": "24ac8fd7-23e7-4de6-846d-32d2efbd445c",
   "metadata": {},
   "source": [
    "## Кодирование категориальных признаков"
   ]
  },
  {
   "cell_type": "code",
   "execution_count": 53,
   "id": "61ae8631-fa88-4e57-b261-3f8f34c9a165",
   "metadata": {},
   "outputs": [],
   "source": [
    "from sklearn.preprocessing import OrdinalEncoder"
   ]
  },
  {
   "cell_type": "code",
   "execution_count": 54,
   "id": "945213c5-eb27-44e4-9e24-edf5ed31659e",
   "metadata": {},
   "outputs": [],
   "source": [
    "data_oe = data[['Family size', 'Feedback']]"
   ]
  },
  {
   "cell_type": "code",
   "execution_count": 55,
   "id": "c053b6d0-2138-4f62-b599-e618df8bd3dd",
   "metadata": {},
   "outputs": [
    {
     "data": {
      "text/plain": [
       "array([[3., 1.],\n",
       "       [2., 1.],\n",
       "       [2., 0.],\n",
       "       [5., 1.],\n",
       "       [3., 1.],\n",
       "       [1., 1.],\n",
       "       [2., 1.],\n",
       "       [2., 1.],\n",
       "       [1., 1.],\n",
       "       [3., 1.],\n",
       "       [4., 1.],\n",
       "       [1., 0.],\n",
       "       [4., 1.],\n",
       "       [3., 1.],\n",
       "       [4., 1.],\n",
       "       [5., 1.],\n",
       "       [1., 1.],\n",
       "       [2., 0.],\n",
       "       [3., 0.],\n",
       "       [0., 1.],\n",
       "       [2., 1.],\n",
       "       [3., 1.],\n",
       "       [3., 1.],\n",
       "       [3., 1.],\n",
       "       [2., 1.],\n",
       "       [2., 1.],\n",
       "       [4., 1.],\n",
       "       [2., 1.],\n",
       "       [2., 1.],\n",
       "       [3., 1.],\n",
       "       [4., 1.],\n",
       "       [3., 1.],\n",
       "       [3., 1.],\n",
       "       [4., 1.],\n",
       "       [1., 1.],\n",
       "       [2., 1.],\n",
       "       [4., 1.],\n",
       "       [4., 0.],\n",
       "       [2., 1.],\n",
       "       [3., 1.],\n",
       "       [3., 0.],\n",
       "       [2., 1.],\n",
       "       [3., 1.],\n",
       "       [4., 1.],\n",
       "       [4., 1.],\n",
       "       [1., 1.],\n",
       "       [2., 1.],\n",
       "       [1., 1.],\n",
       "       [2., 0.],\n",
       "       [4., 1.],\n",
       "       [4., 1.],\n",
       "       [1., 1.],\n",
       "       [2., 1.],\n",
       "       [1., 1.],\n",
       "       [2., 1.],\n",
       "       [1., 1.],\n",
       "       [0., 1.],\n",
       "       [2., 1.],\n",
       "       [4., 1.],\n",
       "       [3., 1.],\n",
       "       [4., 1.],\n",
       "       [2., 1.],\n",
       "       [0., 1.],\n",
       "       [3., 1.],\n",
       "       [1., 1.],\n",
       "       [5., 1.],\n",
       "       [3., 1.],\n",
       "       [3., 1.],\n",
       "       [3., 1.],\n",
       "       [3., 1.],\n",
       "       [3., 1.],\n",
       "       [2., 1.],\n",
       "       [2., 1.],\n",
       "       [1., 1.],\n",
       "       [3., 1.],\n",
       "       [2., 1.],\n",
       "       [3., 1.],\n",
       "       [3., 1.],\n",
       "       [2., 1.],\n",
       "       [4., 1.],\n",
       "       [3., 1.],\n",
       "       [2., 1.],\n",
       "       [2., 1.],\n",
       "       [2., 1.],\n",
       "       [2., 1.],\n",
       "       [3., 1.],\n",
       "       [4., 1.],\n",
       "       [0., 1.],\n",
       "       [4., 1.],\n",
       "       [1., 0.],\n",
       "       [4., 1.],\n",
       "       [0., 1.],\n",
       "       [1., 1.],\n",
       "       [2., 1.],\n",
       "       [0., 1.],\n",
       "       [0., 1.],\n",
       "       [4., 1.],\n",
       "       [4., 1.],\n",
       "       [4., 1.],\n",
       "       [2., 1.],\n",
       "       [2., 1.],\n",
       "       [1., 1.],\n",
       "       [2., 1.],\n",
       "       [2., 1.],\n",
       "       [1., 0.],\n",
       "       [2., 1.],\n",
       "       [1., 1.],\n",
       "       [0., 1.],\n",
       "       [1., 1.],\n",
       "       [4., 1.],\n",
       "       [3., 1.],\n",
       "       [0., 1.],\n",
       "       [1., 1.],\n",
       "       [4., 1.],\n",
       "       [1., 1.],\n",
       "       [3., 0.],\n",
       "       [4., 1.],\n",
       "       [1., 1.],\n",
       "       [4., 1.],\n",
       "       [2., 1.],\n",
       "       [4., 1.],\n",
       "       [2., 1.],\n",
       "       [2., 1.],\n",
       "       [4., 0.],\n",
       "       [5., 0.],\n",
       "       [2., 1.],\n",
       "       [2., 1.],\n",
       "       [3., 1.],\n",
       "       [2., 1.],\n",
       "       [3., 1.],\n",
       "       [2., 1.],\n",
       "       [0., 1.],\n",
       "       [1., 1.],\n",
       "       [1., 0.],\n",
       "       [3., 1.],\n",
       "       [1., 1.],\n",
       "       [2., 1.],\n",
       "       [4., 0.],\n",
       "       [2., 1.],\n",
       "       [3., 1.],\n",
       "       [2., 1.],\n",
       "       [2., 0.],\n",
       "       [1., 1.],\n",
       "       [4., 1.],\n",
       "       [2., 0.],\n",
       "       [2., 1.],\n",
       "       [2., 1.],\n",
       "       [3., 1.],\n",
       "       [3., 1.],\n",
       "       [3., 1.],\n",
       "       [2., 1.],\n",
       "       [3., 1.],\n",
       "       [1., 1.],\n",
       "       [1., 1.],\n",
       "       [4., 1.],\n",
       "       [3., 1.],\n",
       "       [2., 1.],\n",
       "       [2., 1.],\n",
       "       [4., 0.],\n",
       "       [1., 1.],\n",
       "       [1., 1.],\n",
       "       [2., 0.],\n",
       "       [3., 1.],\n",
       "       [2., 1.],\n",
       "       [2., 1.],\n",
       "       [3., 1.],\n",
       "       [4., 0.],\n",
       "       [4., 1.],\n",
       "       [1., 1.],\n",
       "       [1., 0.],\n",
       "       [0., 1.],\n",
       "       [2., 1.],\n",
       "       [0., 1.],\n",
       "       [2., 1.],\n",
       "       [1., 1.],\n",
       "       [5., 1.],\n",
       "       [1., 1.],\n",
       "       [2., 0.],\n",
       "       [0., 0.],\n",
       "       [2., 1.],\n",
       "       [2., 1.],\n",
       "       [2., 0.],\n",
       "       [3., 1.],\n",
       "       [1., 1.],\n",
       "       [4., 1.],\n",
       "       [0., 1.],\n",
       "       [1., 1.],\n",
       "       [1., 1.],\n",
       "       [1., 0.],\n",
       "       [5., 1.],\n",
       "       [2., 0.],\n",
       "       [1., 1.],\n",
       "       [4., 1.],\n",
       "       [1., 1.],\n",
       "       [1., 1.],\n",
       "       [2., 1.],\n",
       "       [5., 1.],\n",
       "       [5., 1.],\n",
       "       [5., 1.],\n",
       "       [1., 0.],\n",
       "       [1., 1.],\n",
       "       [4., 1.],\n",
       "       [3., 1.],\n",
       "       [3., 1.],\n",
       "       [2., 1.],\n",
       "       [1., 1.],\n",
       "       [3., 0.],\n",
       "       [0., 1.],\n",
       "       [1., 1.],\n",
       "       [3., 0.],\n",
       "       [5., 0.],\n",
       "       [2., 1.],\n",
       "       [1., 0.],\n",
       "       [2., 1.],\n",
       "       [3., 1.],\n",
       "       [2., 0.],\n",
       "       [4., 1.],\n",
       "       [1., 0.],\n",
       "       [4., 1.],\n",
       "       [2., 1.],\n",
       "       [0., 1.],\n",
       "       [1., 1.],\n",
       "       [3., 1.],\n",
       "       [4., 1.],\n",
       "       [1., 1.],\n",
       "       [1., 1.],\n",
       "       [2., 1.],\n",
       "       [1., 1.],\n",
       "       [4., 0.],\n",
       "       [2., 1.],\n",
       "       [5., 1.],\n",
       "       [4., 1.],\n",
       "       [2., 0.],\n",
       "       [1., 1.],\n",
       "       [2., 1.],\n",
       "       [2., 0.],\n",
       "       [2., 1.],\n",
       "       [1., 1.],\n",
       "       [1., 1.],\n",
       "       [2., 1.],\n",
       "       [5., 1.],\n",
       "       [1., 1.],\n",
       "       [2., 1.],\n",
       "       [1., 1.],\n",
       "       [0., 0.],\n",
       "       [2., 1.],\n",
       "       [5., 0.],\n",
       "       [2., 1.],\n",
       "       [0., 0.],\n",
       "       [1., 1.],\n",
       "       [2., 1.],\n",
       "       [5., 1.],\n",
       "       [2., 1.],\n",
       "       [1., 1.],\n",
       "       [5., 1.],\n",
       "       [2., 1.],\n",
       "       [1., 0.],\n",
       "       [5., 0.],\n",
       "       [2., 1.],\n",
       "       [5., 0.],\n",
       "       [5., 1.],\n",
       "       [1., 0.],\n",
       "       [1., 0.],\n",
       "       [2., 0.],\n",
       "       [3., 1.],\n",
       "       [1., 1.],\n",
       "       [2., 0.],\n",
       "       [1., 1.],\n",
       "       [2., 1.],\n",
       "       [1., 1.],\n",
       "       [1., 1.],\n",
       "       [1., 0.],\n",
       "       [2., 1.],\n",
       "       [1., 1.],\n",
       "       [1., 1.],\n",
       "       [3., 1.],\n",
       "       [2., 1.],\n",
       "       [1., 1.],\n",
       "       [4., 0.],\n",
       "       [3., 1.],\n",
       "       [5., 1.],\n",
       "       [1., 1.],\n",
       "       [3., 1.],\n",
       "       [2., 1.],\n",
       "       [1., 1.],\n",
       "       [1., 1.],\n",
       "       [1., 1.],\n",
       "       [4., 0.],\n",
       "       [2., 1.],\n",
       "       [1., 1.],\n",
       "       [5., 1.],\n",
       "       [2., 1.],\n",
       "       [4., 0.],\n",
       "       [0., 0.],\n",
       "       [2., 0.],\n",
       "       [4., 1.],\n",
       "       [2., 1.],\n",
       "       [0., 1.],\n",
       "       [1., 0.],\n",
       "       [5., 0.],\n",
       "       [2., 0.],\n",
       "       [5., 1.],\n",
       "       [3., 1.],\n",
       "       [1., 1.],\n",
       "       [2., 1.],\n",
       "       [2., 1.],\n",
       "       [1., 1.],\n",
       "       [3., 1.],\n",
       "       [4., 1.],\n",
       "       [1., 0.],\n",
       "       [4., 1.],\n",
       "       [1., 1.],\n",
       "       [1., 1.],\n",
       "       [2., 1.],\n",
       "       [1., 1.],\n",
       "       [4., 0.],\n",
       "       [2., 1.],\n",
       "       [5., 1.],\n",
       "       [4., 1.],\n",
       "       [2., 0.],\n",
       "       [1., 1.],\n",
       "       [2., 1.],\n",
       "       [2., 0.],\n",
       "       [2., 1.],\n",
       "       [1., 1.],\n",
       "       [1., 1.],\n",
       "       [2., 1.],\n",
       "       [5., 1.],\n",
       "       [1., 1.],\n",
       "       [3., 1.],\n",
       "       [3., 1.],\n",
       "       [2., 1.],\n",
       "       [1., 1.],\n",
       "       [3., 0.],\n",
       "       [0., 1.],\n",
       "       [1., 1.],\n",
       "       [3., 0.],\n",
       "       [5., 1.],\n",
       "       [2., 1.],\n",
       "       [1., 0.],\n",
       "       [2., 1.],\n",
       "       [3., 1.],\n",
       "       [2., 0.],\n",
       "       [4., 1.],\n",
       "       [1., 0.],\n",
       "       [3., 1.],\n",
       "       [3., 1.],\n",
       "       [2., 1.],\n",
       "       [1., 1.],\n",
       "       [3., 0.],\n",
       "       [0., 1.],\n",
       "       [1., 1.],\n",
       "       [3., 1.],\n",
       "       [5., 1.],\n",
       "       [2., 1.],\n",
       "       [1., 1.],\n",
       "       [1., 1.],\n",
       "       [4., 0.],\n",
       "       [2., 1.],\n",
       "       [5., 1.],\n",
       "       [4., 1.],\n",
       "       [2., 0.],\n",
       "       [1., 1.],\n",
       "       [2., 1.],\n",
       "       [2., 0.],\n",
       "       [2., 1.],\n",
       "       [1., 1.],\n",
       "       [1., 1.],\n",
       "       [2., 1.],\n",
       "       [5., 1.],\n",
       "       [1., 1.],\n",
       "       [2., 1.],\n",
       "       [1., 1.],\n",
       "       [0., 0.],\n",
       "       [2., 0.],\n",
       "       [5., 0.],\n",
       "       [2., 1.],\n",
       "       [0., 0.],\n",
       "       [1., 1.],\n",
       "       [3., 1.],\n",
       "       [1., 1.],\n",
       "       [2., 1.],\n",
       "       [2., 1.],\n",
       "       [1., 1.],\n",
       "       [3., 1.],\n",
       "       [4., 1.],\n",
       "       [1., 1.],\n",
       "       [4., 1.]])"
      ]
     },
     "execution_count": 55,
     "metadata": {},
     "output_type": "execute_result"
    }
   ],
   "source": [
    "oe = OrdinalEncoder()\n",
    "cat_enc_oe = oe.fit_transform(data_oe)\n",
    "cat_enc_oe"
   ]
  },
  {
   "cell_type": "code",
   "execution_count": 56,
   "id": "c40e5eab-7948-4093-9264-e4b0104356f7",
   "metadata": {},
   "outputs": [
    {
     "data": {
      "text/plain": [
       "array([0., 1., 2., 3., 4., 5.])"
      ]
     },
     "execution_count": 56,
     "metadata": {},
     "output_type": "execute_result"
    }
   ],
   "source": [
    "# Уникальные значения 1 признака\n",
    "np.unique(cat_enc_oe[:, 0])"
   ]
  },
  {
   "cell_type": "code",
   "execution_count": 57,
   "id": "9356a55f-1af7-4b0e-bf73-c3fa97f18de3",
   "metadata": {},
   "outputs": [
    {
     "data": {
      "text/plain": [
       "array([0., 1.])"
      ]
     },
     "execution_count": 57,
     "metadata": {},
     "output_type": "execute_result"
    }
   ],
   "source": [
    "# Уникальные значения 2 признака\n",
    "np.unique(cat_enc_oe[:, 1])"
   ]
  },
  {
   "cell_type": "markdown",
   "id": "2c0b3653-d55a-411c-a825-9efeff990229",
   "metadata": {},
   "source": [
    "### Разделение выборки на обучающую и тестовую"
   ]
  },
  {
   "cell_type": "code",
   "execution_count": 58,
   "id": "6ec89149-2602-48db-940a-167263c991fd",
   "metadata": {},
   "outputs": [],
   "source": [
    "data= np.c_[cat_enc_oe[:, 0], cat_enc_oe[:, 1]]"
   ]
  },
  {
   "cell_type": "code",
   "execution_count": 59,
   "id": "1e45a532-b99a-4753-9d57-eab73e1c4c55",
   "metadata": {},
   "outputs": [],
   "source": [
    "data_x_train, data_x_test, data_y_train, data_y_test = train_test_split(data, cat_enc_oe[:, 1], test_size=0.2, random_state=1)"
   ]
  },
  {
   "cell_type": "code",
   "execution_count": 60,
   "id": "ca4cf0b2-bca0-4695-86a4-f0b0718289bc",
   "metadata": {},
   "outputs": [
    {
     "data": {
      "text/plain": [
       "((310, 2), (310,))"
      ]
     },
     "execution_count": 60,
     "metadata": {},
     "output_type": "execute_result"
    }
   ],
   "source": [
    "# Размер обучающей выборки\n",
    "data_x_train.shape, data_y_train.shape"
   ]
  },
  {
   "cell_type": "code",
   "execution_count": 61,
   "id": "626576bb-5e96-4c39-9b11-56663743ccd0",
   "metadata": {},
   "outputs": [
    {
     "data": {
      "text/plain": [
       "((78, 2), (78,))"
      ]
     },
     "execution_count": 61,
     "metadata": {},
     "output_type": "execute_result"
    }
   ],
   "source": [
    "# Размер тестовой выборки\n",
    "data_x_test.shape, data_y_test.shape"
   ]
  },
  {
   "cell_type": "code",
   "execution_count": 62,
   "id": "e651b14b-1257-4c9a-bf12-f8434eb7ea7f",
   "metadata": {},
   "outputs": [
    {
     "data": {
      "text/plain": [
       "array([0., 1.])"
      ]
     },
     "execution_count": 62,
     "metadata": {},
     "output_type": "execute_result"
    }
   ],
   "source": [
    "np.unique(data_y_train)"
   ]
  },
  {
   "cell_type": "code",
   "execution_count": 63,
   "id": "e9760da6-7afb-450b-8874-67d6bff3872e",
   "metadata": {},
   "outputs": [
    {
     "data": {
      "text/plain": [
       "array([0., 1.])"
      ]
     },
     "execution_count": 63,
     "metadata": {},
     "output_type": "execute_result"
    }
   ],
   "source": [
    "np.unique(data_y_test)"
   ]
  },
  {
   "cell_type": "code",
   "execution_count": 64,
   "id": "782dbd86-e052-4759-9441-94241c2c8a86",
   "metadata": {},
   "outputs": [],
   "source": [
    "def class_proportions(array: np.ndarray) -> Dict[int, Tuple[int, float]]:\n",
    "    \"\"\"\n",
    "    Вычисляет пропорции классов\n",
    "    array - массив, содержащий метки классов\n",
    "    \"\"\"\n",
    "    # Получение меток классов и количества меток каждого класса \n",
    "    labels, counts = np.unique(array, return_counts=True)\n",
    "    # Превращаем количество меток в процент их встречаемости\n",
    "    # делим количество меток каждого класса на общее количество меток\n",
    "    counts_perc = counts/array.size\n",
    "    # Теперь sum(counts_perc)==1.0\n",
    "    # Создаем результирующий словарь,\n",
    "    # ключом словаря явлется метка класса, \n",
    "    # а значением словаря процент встречаемости метки\n",
    "    res = dict()\n",
    "    for label, count2 in zip(labels, zip(counts, counts_perc)):\n",
    "        res[label] = count2\n",
    "    return res\n",
    "\n",
    "def print_class_proportions(array: np.ndarray):\n",
    "    \"\"\"\n",
    "    Вывод пропорций классов\n",
    "    \"\"\"\n",
    "    proportions = class_proportions(array)\n",
    "    if len(proportions)>0:\n",
    "        print('Метка \\t Количество \\t Процент встречаемости')\n",
    "    for i in proportions:\n",
    "        val, val_perc = proportions[i]\n",
    "        val_perc_100 = round(val_perc * 100, 2)\n",
    "        print('{} \\t {} \\t \\t {}%'.format(i, val, val_perc_100))"
   ]
  },
  {
   "cell_type": "code",
   "execution_count": 65,
   "id": "3b2ba690-fcd5-4229-8055-172f7d185301",
   "metadata": {},
   "outputs": [
    {
     "name": "stdout",
     "output_type": "stream",
     "text": [
      "Метка \t Количество \t Процент встречаемости\n",
      "0.0 \t 71 \t \t 18.3%\n",
      "1.0 \t 317 \t \t 81.7%\n"
     ]
    }
   ],
   "source": [
    "# В исходной выборке нет явного дисбаланса классов для целевого признака\n",
    "print_class_proportions(cat_enc_oe[:, 1])"
   ]
  },
  {
   "cell_type": "code",
   "execution_count": 66,
   "id": "39aa4ff2-0ac2-43b3-ad7c-24b462f4b09a",
   "metadata": {},
   "outputs": [
    {
     "name": "stdout",
     "output_type": "stream",
     "text": [
      "Метка \t Количество \t Процент встречаемости\n",
      "0.0 \t 58 \t \t 18.71%\n",
      "1.0 \t 252 \t \t 81.29%\n"
     ]
    }
   ],
   "source": [
    "# Для обучающей выборки\n",
    "print_class_proportions(data_y_train)"
   ]
  },
  {
   "cell_type": "code",
   "execution_count": 67,
   "id": "55a4bdec-2c60-40b7-9890-1aeb25f58f09",
   "metadata": {},
   "outputs": [
    {
     "name": "stdout",
     "output_type": "stream",
     "text": [
      "Метка \t Количество \t Процент встречаемости\n",
      "0.0 \t 13 \t \t 16.67%\n",
      "1.0 \t 65 \t \t 83.33%\n"
     ]
    }
   ],
   "source": [
    "# Для тестовой выборки\n",
    "print_class_proportions(data_y_test)"
   ]
  },
  {
   "cell_type": "markdown",
   "id": "485407fd-c70a-4515-9ef0-0d23f8523e5e",
   "metadata": {},
   "source": [
    "### Модель ближайших соседей для произвольно заданного гиперпараметра K. Оценка качества модели с помощью подходящих для задачи метрик."
   ]
  },
  {
   "cell_type": "code",
   "execution_count": 68,
   "id": "785a43d7-7791-4e69-ab83-4a87481e7718",
   "metadata": {},
   "outputs": [
    {
     "data": {
      "text/html": [
       "<style>#sk-container-id-5 {color: black;background-color: white;}#sk-container-id-5 pre{padding: 0;}#sk-container-id-5 div.sk-toggleable {background-color: white;}#sk-container-id-5 label.sk-toggleable__label {cursor: pointer;display: block;width: 100%;margin-bottom: 0;padding: 0.3em;box-sizing: border-box;text-align: center;}#sk-container-id-5 label.sk-toggleable__label-arrow:before {content: \"▸\";float: left;margin-right: 0.25em;color: #696969;}#sk-container-id-5 label.sk-toggleable__label-arrow:hover:before {color: black;}#sk-container-id-5 div.sk-estimator:hover label.sk-toggleable__label-arrow:before {color: black;}#sk-container-id-5 div.sk-toggleable__content {max-height: 0;max-width: 0;overflow: hidden;text-align: left;background-color: #f0f8ff;}#sk-container-id-5 div.sk-toggleable__content pre {margin: 0.2em;color: black;border-radius: 0.25em;background-color: #f0f8ff;}#sk-container-id-5 input.sk-toggleable__control:checked~div.sk-toggleable__content {max-height: 200px;max-width: 100%;overflow: auto;}#sk-container-id-5 input.sk-toggleable__control:checked~label.sk-toggleable__label-arrow:before {content: \"▾\";}#sk-container-id-5 div.sk-estimator input.sk-toggleable__control:checked~label.sk-toggleable__label {background-color: #d4ebff;}#sk-container-id-5 div.sk-label input.sk-toggleable__control:checked~label.sk-toggleable__label {background-color: #d4ebff;}#sk-container-id-5 input.sk-hidden--visually {border: 0;clip: rect(1px 1px 1px 1px);clip: rect(1px, 1px, 1px, 1px);height: 1px;margin: -1px;overflow: hidden;padding: 0;position: absolute;width: 1px;}#sk-container-id-5 div.sk-estimator {font-family: monospace;background-color: #f0f8ff;border: 1px dotted black;border-radius: 0.25em;box-sizing: border-box;margin-bottom: 0.5em;}#sk-container-id-5 div.sk-estimator:hover {background-color: #d4ebff;}#sk-container-id-5 div.sk-parallel-item::after {content: \"\";width: 100%;border-bottom: 1px solid gray;flex-grow: 1;}#sk-container-id-5 div.sk-label:hover label.sk-toggleable__label {background-color: #d4ebff;}#sk-container-id-5 div.sk-serial::before {content: \"\";position: absolute;border-left: 1px solid gray;box-sizing: border-box;top: 0;bottom: 0;left: 50%;z-index: 0;}#sk-container-id-5 div.sk-serial {display: flex;flex-direction: column;align-items: center;background-color: white;padding-right: 0.2em;padding-left: 0.2em;position: relative;}#sk-container-id-5 div.sk-item {position: relative;z-index: 1;}#sk-container-id-5 div.sk-parallel {display: flex;align-items: stretch;justify-content: center;background-color: white;position: relative;}#sk-container-id-5 div.sk-item::before, #sk-container-id-5 div.sk-parallel-item::before {content: \"\";position: absolute;border-left: 1px solid gray;box-sizing: border-box;top: 0;bottom: 0;left: 50%;z-index: -1;}#sk-container-id-5 div.sk-parallel-item {display: flex;flex-direction: column;z-index: 1;position: relative;background-color: white;}#sk-container-id-5 div.sk-parallel-item:first-child::after {align-self: flex-end;width: 50%;}#sk-container-id-5 div.sk-parallel-item:last-child::after {align-self: flex-start;width: 50%;}#sk-container-id-5 div.sk-parallel-item:only-child::after {width: 0;}#sk-container-id-5 div.sk-dashed-wrapped {border: 1px dashed gray;margin: 0 0.4em 0.5em 0.4em;box-sizing: border-box;padding-bottom: 0.4em;background-color: white;}#sk-container-id-5 div.sk-label label {font-family: monospace;font-weight: bold;display: inline-block;line-height: 1.2em;}#sk-container-id-5 div.sk-label-container {text-align: center;}#sk-container-id-5 div.sk-container {/* jupyter's `normalize.less` sets `[hidden] { display: none; }` but bootstrap.min.css set `[hidden] { display: none !important; }` so we also need the `!important` here to be able to override the default hidden behavior on the sphinx rendered scikit-learn.org. See: https://github.com/scikit-learn/scikit-learn/issues/21755 */display: inline-block !important;position: relative;}#sk-container-id-5 div.sk-text-repr-fallback {display: none;}</style><div id=\"sk-container-id-5\" class=\"sk-top-container\"><div class=\"sk-text-repr-fallback\"><pre>KNeighborsClassifier(n_neighbors=27)</pre><b>In a Jupyter environment, please rerun this cell to show the HTML representation or trust the notebook. <br />On GitHub, the HTML representation is unable to render, please try loading this page with nbviewer.org.</b></div><div class=\"sk-container\" hidden><div class=\"sk-item\"><div class=\"sk-estimator sk-toggleable\"><input class=\"sk-toggleable__control sk-hidden--visually\" id=\"sk-estimator-id-9\" type=\"checkbox\" checked><label for=\"sk-estimator-id-9\" class=\"sk-toggleable__label sk-toggleable__label-arrow\">KNeighborsClassifier</label><div class=\"sk-toggleable__content\"><pre>KNeighborsClassifier(n_neighbors=27)</pre></div></div></div></div></div>"
      ],
      "text/plain": [
       "KNeighborsClassifier(n_neighbors=27)"
      ]
     },
     "execution_count": 68,
     "metadata": {},
     "output_type": "execute_result"
    }
   ],
   "source": [
    "# 27 ближайших соседей\n",
    "cl1_1 = KNeighborsClassifier(n_neighbors=27)\n",
    "cl1_1.fit(data_x_train, data_y_train)"
   ]
  },
  {
   "cell_type": "code",
   "execution_count": 69,
   "id": "36e69cca-c095-40cc-9948-64d22f3b42a3",
   "metadata": {},
   "outputs": [
    {
     "data": {
      "text/plain": [
       "(78,\n",
       " array([1., 1., 1., 1., 1., 1., 1., 1., 1., 1., 1., 1., 1., 1., 1., 1., 1.,\n",
       "        1., 1., 1., 1., 1., 1., 1., 0., 0., 1., 1., 1., 1., 1., 1., 1., 1.,\n",
       "        1., 0., 1., 1., 1., 1., 1., 1., 1., 1., 0., 0., 0., 1., 1., 1., 1.,\n",
       "        1., 1., 1., 1., 0., 1., 1., 1., 1., 1., 1., 1., 0., 1., 1., 1., 1.,\n",
       "        1., 1., 1., 1., 1., 1., 1., 1., 1., 0.]))"
      ]
     },
     "execution_count": 69,
     "metadata": {},
     "output_type": "execute_result"
    }
   ],
   "source": [
    "target1_1 = cl1_1.predict(data_x_test)\n",
    "len(target1_1), target1_1"
   ]
  },
  {
   "cell_type": "markdown",
   "id": "296e99ff-448a-4448-b929-c3cf77834356",
   "metadata": {},
   "source": [
    "Так как класс не сбалансирован, то будем использовать метрику Precision, recall и F-мера для оценки качества модели."
   ]
  },
  {
   "cell_type": "code",
   "execution_count": 70,
   "id": "574eeb1f-4ca7-421d-8759-5328425a95c2",
   "metadata": {},
   "outputs": [
    {
     "data": {
      "text/plain": [
       "(0.9420289855072463, 1.0)"
      ]
     },
     "execution_count": 70,
     "metadata": {},
     "output_type": "execute_result"
    }
   ],
   "source": [
    "precision_score(data_y_test, target1_1), recall_score(data_y_test, target1_1)"
   ]
  },
  {
   "cell_type": "code",
   "execution_count": 71,
   "id": "f76dc4d0-fc92-473b-8f9c-ee8ea40c369c",
   "metadata": {},
   "outputs": [
    {
     "data": {
      "text/plain": [
       "0.9516908212560387"
      ]
     },
     "execution_count": 71,
     "metadata": {},
     "output_type": "execute_result"
    }
   ],
   "source": [
    "# Параметры TP, TN, FP, FN считаются отдельно для каждого класса \n",
    "# и берется средневзвешенное значение, дисбаланс классов учитывается \n",
    "# в виде веса классов (вес - количество истинных значений каждого класса).\n",
    "precision_score(data_y_test, target1_1, average='weighted')"
   ]
  },
  {
   "cell_type": "code",
   "execution_count": 72,
   "id": "b2c887c4-d2f0-4645-8845-db72b741ad84",
   "metadata": {},
   "outputs": [
    {
     "data": {
      "text/plain": [
       "0.9448213478064225"
      ]
     },
     "execution_count": 72,
     "metadata": {},
     "output_type": "execute_result"
    }
   ],
   "source": [
    "f1_score(data_y_test, target1_1, average='weighted')"
   ]
  },
  {
   "cell_type": "markdown",
   "id": "5e68aa81-9948-4c6d-b50e-5dc5e01088e6",
   "metadata": {},
   "source": [
    "Вывод: качество модели высокое."
   ]
  },
  {
   "cell_type": "markdown",
   "id": "843b78bd-b3e4-4c72-960b-caabc31fdb7c",
   "metadata": {},
   "source": [
    "### Подбор гиперпараметра K"
   ]
  },
  {
   "cell_type": "code",
   "execution_count": 73,
   "id": "4edd7911-452f-457d-8b39-4525c4fbf783",
   "metadata": {},
   "outputs": [],
   "source": [
    "from sklearn.model_selection import GridSearchCV, RandomizedSearchCV\n",
    "from sklearn.neighbors import KNeighborsRegressor, KNeighborsClassifier\n",
    "from sklearn.model_selection import cross_val_score, cross_validate\n",
    "from sklearn.model_selection import KFold, RepeatedKFold, LeaveOneOut, LeavePOut, ShuffleSplit, StratifiedKFold\n",
    "from sklearn.metrics import accuracy_score, balanced_accuracy_score\n",
    "from sklearn.metrics import precision_score, recall_score, f1_score, classification_report\n",
    "from sklearn.metrics import confusion_matrix\n",
    "from sklearn.metrics import mean_absolute_error, mean_squared_error, mean_squared_log_error, median_absolute_error, r2_score \n",
    "from sklearn.metrics import roc_curve, roc_auc_score\n",
    "from sklearn.model_selection import GridSearchCV, RandomizedSearchCV\n",
    "from sklearn.model_selection import learning_curve, validation_curve"
   ]
  },
  {
   "cell_type": "code",
   "execution_count": 74,
   "id": "a49b4f90-37b7-421c-aaaf-e20cd81e8034",
   "metadata": {},
   "outputs": [
    {
     "data": {
      "text/plain": [
       "[{'n_neighbors': array([1, 2, 3, 4, 5, 1, 2, 3, 4, 5, 1, 2, 3, 4, 5, 1, 2, 3, 4, 5, 1, 2,\n",
       "         3, 4, 5])}]"
      ]
     },
     "execution_count": 74,
     "metadata": {},
     "output_type": "execute_result"
    }
   ],
   "source": [
    "n_range = np.array([1, 2, 3, 4, 5, 1, 2, 3, 4, 5, 1, 2, 3, 4, 5, 1, 2, 3, 4, 5, 1, 2, 3, 4, 5])\n",
    "tuned_parameters = [{'n_neighbors': n_range}]\n",
    "tuned_parameters"
   ]
  },
  {
   "cell_type": "code",
   "execution_count": 96,
   "id": "099439fd-b60f-4bea-ab91-7ded5d258d66",
   "metadata": {},
   "outputs": [
    {
     "name": "stdout",
     "output_type": "stream",
     "text": [
      "CPU times: total: 812 ms\n",
      "Wall time: 821 ms\n"
     ]
    },
    {
     "data": {
      "text/html": [
       "<style>#sk-container-id-15 {color: black;background-color: white;}#sk-container-id-15 pre{padding: 0;}#sk-container-id-15 div.sk-toggleable {background-color: white;}#sk-container-id-15 label.sk-toggleable__label {cursor: pointer;display: block;width: 100%;margin-bottom: 0;padding: 0.3em;box-sizing: border-box;text-align: center;}#sk-container-id-15 label.sk-toggleable__label-arrow:before {content: \"▸\";float: left;margin-right: 0.25em;color: #696969;}#sk-container-id-15 label.sk-toggleable__label-arrow:hover:before {color: black;}#sk-container-id-15 div.sk-estimator:hover label.sk-toggleable__label-arrow:before {color: black;}#sk-container-id-15 div.sk-toggleable__content {max-height: 0;max-width: 0;overflow: hidden;text-align: left;background-color: #f0f8ff;}#sk-container-id-15 div.sk-toggleable__content pre {margin: 0.2em;color: black;border-radius: 0.25em;background-color: #f0f8ff;}#sk-container-id-15 input.sk-toggleable__control:checked~div.sk-toggleable__content {max-height: 200px;max-width: 100%;overflow: auto;}#sk-container-id-15 input.sk-toggleable__control:checked~label.sk-toggleable__label-arrow:before {content: \"▾\";}#sk-container-id-15 div.sk-estimator input.sk-toggleable__control:checked~label.sk-toggleable__label {background-color: #d4ebff;}#sk-container-id-15 div.sk-label input.sk-toggleable__control:checked~label.sk-toggleable__label {background-color: #d4ebff;}#sk-container-id-15 input.sk-hidden--visually {border: 0;clip: rect(1px 1px 1px 1px);clip: rect(1px, 1px, 1px, 1px);height: 1px;margin: -1px;overflow: hidden;padding: 0;position: absolute;width: 1px;}#sk-container-id-15 div.sk-estimator {font-family: monospace;background-color: #f0f8ff;border: 1px dotted black;border-radius: 0.25em;box-sizing: border-box;margin-bottom: 0.5em;}#sk-container-id-15 div.sk-estimator:hover {background-color: #d4ebff;}#sk-container-id-15 div.sk-parallel-item::after {content: \"\";width: 100%;border-bottom: 1px solid gray;flex-grow: 1;}#sk-container-id-15 div.sk-label:hover label.sk-toggleable__label {background-color: #d4ebff;}#sk-container-id-15 div.sk-serial::before {content: \"\";position: absolute;border-left: 1px solid gray;box-sizing: border-box;top: 0;bottom: 0;left: 50%;z-index: 0;}#sk-container-id-15 div.sk-serial {display: flex;flex-direction: column;align-items: center;background-color: white;padding-right: 0.2em;padding-left: 0.2em;position: relative;}#sk-container-id-15 div.sk-item {position: relative;z-index: 1;}#sk-container-id-15 div.sk-parallel {display: flex;align-items: stretch;justify-content: center;background-color: white;position: relative;}#sk-container-id-15 div.sk-item::before, #sk-container-id-15 div.sk-parallel-item::before {content: \"\";position: absolute;border-left: 1px solid gray;box-sizing: border-box;top: 0;bottom: 0;left: 50%;z-index: -1;}#sk-container-id-15 div.sk-parallel-item {display: flex;flex-direction: column;z-index: 1;position: relative;background-color: white;}#sk-container-id-15 div.sk-parallel-item:first-child::after {align-self: flex-end;width: 50%;}#sk-container-id-15 div.sk-parallel-item:last-child::after {align-self: flex-start;width: 50%;}#sk-container-id-15 div.sk-parallel-item:only-child::after {width: 0;}#sk-container-id-15 div.sk-dashed-wrapped {border: 1px dashed gray;margin: 0 0.4em 0.5em 0.4em;box-sizing: border-box;padding-bottom: 0.4em;background-color: white;}#sk-container-id-15 div.sk-label label {font-family: monospace;font-weight: bold;display: inline-block;line-height: 1.2em;}#sk-container-id-15 div.sk-label-container {text-align: center;}#sk-container-id-15 div.sk-container {/* jupyter's `normalize.less` sets `[hidden] { display: none; }` but bootstrap.min.css set `[hidden] { display: none !important; }` so we also need the `!important` here to be able to override the default hidden behavior on the sphinx rendered scikit-learn.org. See: https://github.com/scikit-learn/scikit-learn/issues/21755 */display: inline-block !important;position: relative;}#sk-container-id-15 div.sk-text-repr-fallback {display: none;}</style><div id=\"sk-container-id-15\" class=\"sk-top-container\"><div class=\"sk-text-repr-fallback\"><pre>GridSearchCV(cv=7, estimator=KNeighborsClassifier(),\n",
       "             param_grid=[{&#x27;n_neighbors&#x27;: array([1, 2, 3, 4, 5, 1, 2, 3, 4, 5, 1, 2, 3, 4, 5, 1, 2, 3, 4, 5, 1, 2,\n",
       "       3, 4, 5])}],\n",
       "             scoring=&#x27;accuracy&#x27;)</pre><b>In a Jupyter environment, please rerun this cell to show the HTML representation or trust the notebook. <br />On GitHub, the HTML representation is unable to render, please try loading this page with nbviewer.org.</b></div><div class=\"sk-container\" hidden><div class=\"sk-item sk-dashed-wrapped\"><div class=\"sk-label-container\"><div class=\"sk-label sk-toggleable\"><input class=\"sk-toggleable__control sk-hidden--visually\" id=\"sk-estimator-id-29\" type=\"checkbox\" ><label for=\"sk-estimator-id-29\" class=\"sk-toggleable__label sk-toggleable__label-arrow\">GridSearchCV</label><div class=\"sk-toggleable__content\"><pre>GridSearchCV(cv=7, estimator=KNeighborsClassifier(),\n",
       "             param_grid=[{&#x27;n_neighbors&#x27;: array([1, 2, 3, 4, 5, 1, 2, 3, 4, 5, 1, 2, 3, 4, 5, 1, 2, 3, 4, 5, 1, 2,\n",
       "       3, 4, 5])}],\n",
       "             scoring=&#x27;accuracy&#x27;)</pre></div></div></div><div class=\"sk-parallel\"><div class=\"sk-parallel-item\"><div class=\"sk-item\"><div class=\"sk-label-container\"><div class=\"sk-label sk-toggleable\"><input class=\"sk-toggleable__control sk-hidden--visually\" id=\"sk-estimator-id-30\" type=\"checkbox\" ><label for=\"sk-estimator-id-30\" class=\"sk-toggleable__label sk-toggleable__label-arrow\">estimator: KNeighborsClassifier</label><div class=\"sk-toggleable__content\"><pre>KNeighborsClassifier()</pre></div></div></div><div class=\"sk-serial\"><div class=\"sk-item\"><div class=\"sk-estimator sk-toggleable\"><input class=\"sk-toggleable__control sk-hidden--visually\" id=\"sk-estimator-id-31\" type=\"checkbox\" ><label for=\"sk-estimator-id-31\" class=\"sk-toggleable__label sk-toggleable__label-arrow\">KNeighborsClassifier</label><div class=\"sk-toggleable__content\"><pre>KNeighborsClassifier()</pre></div></div></div></div></div></div></div></div></div></div>"
      ],
      "text/plain": [
       "GridSearchCV(cv=7, estimator=KNeighborsClassifier(),\n",
       "             param_grid=[{'n_neighbors': array([1, 2, 3, 4, 5, 1, 2, 3, 4, 5, 1, 2, 3, 4, 5, 1, 2, 3, 4, 5, 1, 2,\n",
       "       3, 4, 5])}],\n",
       "             scoring='accuracy')"
      ]
     },
     "execution_count": 96,
     "metadata": {},
     "output_type": "execute_result"
    }
   ],
   "source": [
    "%%time\n",
    "clf_gs = GridSearchCV(KNeighborsClassifier(), tuned_parameters, cv=7, scoring='accuracy')\n",
    "clf_gs.fit(data_x_train, data_y_train)"
   ]
  },
  {
   "cell_type": "code",
   "execution_count": 97,
   "id": "2f8ce3b5-942e-4152-9da3-80f2129ba7a9",
   "metadata": {},
   "outputs": [
    {
     "data": {
      "text/plain": [
       "{'mean_fit_time': array([0.0008488 , 0.00089312, 0.00068358, 0.00074404, 0.00071229,\n",
       "        0.00057013, 0.00085493, 0.00073515, 0.00057002, 0.00057002,\n",
       "        0.00056992, 0.00085514, 0.00056999, 0.00057002, 0.00085507,\n",
       "        0.00056996, 0.00049189, 0.00056747, 0.00042759, 0.00083453,\n",
       "        0.00071955, 0.00085674, 0.00068392, 0.00056423, 0.00099812]),\n",
       " 'std_fit_time': array([6.35850677e-04, 3.76105894e-04, 4.34903542e-04, 4.25540645e-04,\n",
       "        4.50493906e-04, 4.93744438e-04, 3.49025918e-04, 4.68029245e-04,\n",
       "        4.93655942e-04, 4.93655958e-04, 4.93567458e-04, 3.49109231e-04,\n",
       "        4.93626451e-04, 4.93655942e-04, 3.49081483e-04, 4.93596973e-04,\n",
       "        4.62120587e-04, 4.91477308e-04, 4.93734605e-04, 3.42394830e-04,\n",
       "        4.40180252e-04, 3.49793101e-04, 4.14029063e-04, 4.88814405e-04,\n",
       "        9.85970826e-07]),\n",
       " 'mean_score_time': array([0.00512651, 0.00429327, 0.00359055, 0.00353037, 0.00370448,\n",
       "        0.00359283, 0.00327703, 0.00396664, 0.00354471, 0.0035617 ,\n",
       "        0.00342911, 0.0034194 , 0.00341896, 0.00356184, 0.00356177,\n",
       "        0.00369467, 0.00352308, 0.00371984, 0.00370414, 0.00386732,\n",
       "        0.00370472, 0.00327754, 0.00379617, 0.00328251, 0.00299113]),\n",
       " 'std_score_time': array([1.11419154e-03, 4.74665409e-04, 5.20446350e-04, 4.68985091e-04,\n",
       "        4.50741599e-04, 4.61895317e-04, 4.50956760e-04, 7.25600376e-04,\n",
       "        4.80579977e-04, 4.93518288e-04, 4.85528930e-04, 4.94030056e-04,\n",
       "        4.93793919e-04, 4.93774340e-04, 4.93577273e-04, 6.94577911e-04,\n",
       "        4.93088974e-04, 4.32091327e-04, 4.50601144e-04, 6.42459295e-04,\n",
       "        6.34471289e-04, 4.55333762e-04, 6.69032923e-04, 4.44720808e-04,\n",
       "        1.64547952e-06]),\n",
       " 'param_n_neighbors': masked_array(data=[1, 2, 3, 4, 5, 1, 2, 3, 4, 5, 1, 2, 3, 4, 5, 1, 2, 3,\n",
       "                    4, 5, 1, 2, 3, 4, 5],\n",
       "              mask=[False, False, False, False, False, False, False, False,\n",
       "                    False, False, False, False, False, False, False, False,\n",
       "                    False, False, False, False, False, False, False, False,\n",
       "                    False],\n",
       "        fill_value='?',\n",
       "             dtype=object),\n",
       " 'params': [{'n_neighbors': 1},\n",
       "  {'n_neighbors': 2},\n",
       "  {'n_neighbors': 3},\n",
       "  {'n_neighbors': 4},\n",
       "  {'n_neighbors': 5},\n",
       "  {'n_neighbors': 1},\n",
       "  {'n_neighbors': 2},\n",
       "  {'n_neighbors': 3},\n",
       "  {'n_neighbors': 4},\n",
       "  {'n_neighbors': 5},\n",
       "  {'n_neighbors': 1},\n",
       "  {'n_neighbors': 2},\n",
       "  {'n_neighbors': 3},\n",
       "  {'n_neighbors': 4},\n",
       "  {'n_neighbors': 5},\n",
       "  {'n_neighbors': 1},\n",
       "  {'n_neighbors': 2},\n",
       "  {'n_neighbors': 3},\n",
       "  {'n_neighbors': 4},\n",
       "  {'n_neighbors': 5},\n",
       "  {'n_neighbors': 1},\n",
       "  {'n_neighbors': 2},\n",
       "  {'n_neighbors': 3},\n",
       "  {'n_neighbors': 4},\n",
       "  {'n_neighbors': 5}],\n",
       " 'split0_test_score': array([1., 1., 1., 1., 1., 1., 1., 1., 1., 1., 1., 1., 1., 1., 1., 1., 1.,\n",
       "        1., 1., 1., 1., 1., 1., 1., 1.]),\n",
       " 'split1_test_score': array([1., 1., 1., 1., 1., 1., 1., 1., 1., 1., 1., 1., 1., 1., 1., 1., 1.,\n",
       "        1., 1., 1., 1., 1., 1., 1., 1.]),\n",
       " 'split2_test_score': array([1., 1., 1., 1., 1., 1., 1., 1., 1., 1., 1., 1., 1., 1., 1., 1., 1.,\n",
       "        1., 1., 1., 1., 1., 1., 1., 1.]),\n",
       " 'split3_test_score': array([1., 1., 1., 1., 1., 1., 1., 1., 1., 1., 1., 1., 1., 1., 1., 1., 1.,\n",
       "        1., 1., 1., 1., 1., 1., 1., 1.]),\n",
       " 'split4_test_score': array([1., 1., 1., 1., 1., 1., 1., 1., 1., 1., 1., 1., 1., 1., 1., 1., 1.,\n",
       "        1., 1., 1., 1., 1., 1., 1., 1.]),\n",
       " 'split5_test_score': array([1., 1., 1., 1., 1., 1., 1., 1., 1., 1., 1., 1., 1., 1., 1., 1., 1.,\n",
       "        1., 1., 1., 1., 1., 1., 1., 1.]),\n",
       " 'split6_test_score': array([1., 1., 1., 1., 1., 1., 1., 1., 1., 1., 1., 1., 1., 1., 1., 1., 1.,\n",
       "        1., 1., 1., 1., 1., 1., 1., 1.]),\n",
       " 'mean_test_score': array([1., 1., 1., 1., 1., 1., 1., 1., 1., 1., 1., 1., 1., 1., 1., 1., 1.,\n",
       "        1., 1., 1., 1., 1., 1., 1., 1.]),\n",
       " 'std_test_score': array([0., 0., 0., 0., 0., 0., 0., 0., 0., 0., 0., 0., 0., 0., 0., 0., 0.,\n",
       "        0., 0., 0., 0., 0., 0., 0., 0.]),\n",
       " 'rank_test_score': array([1, 1, 1, 1, 1, 1, 1, 1, 1, 1, 1, 1, 1, 1, 1, 1, 1, 1, 1, 1, 1, 1,\n",
       "        1, 1, 1])}"
      ]
     },
     "execution_count": 97,
     "metadata": {},
     "output_type": "execute_result"
    }
   ],
   "source": [
    "clf_gs.cv_results_"
   ]
  },
  {
   "cell_type": "code",
   "execution_count": 98,
   "id": "23434ac5-1e69-4288-b0dc-077e7668f145",
   "metadata": {},
   "outputs": [
    {
     "data": {
      "text/html": [
       "<style>#sk-container-id-16 {color: black;background-color: white;}#sk-container-id-16 pre{padding: 0;}#sk-container-id-16 div.sk-toggleable {background-color: white;}#sk-container-id-16 label.sk-toggleable__label {cursor: pointer;display: block;width: 100%;margin-bottom: 0;padding: 0.3em;box-sizing: border-box;text-align: center;}#sk-container-id-16 label.sk-toggleable__label-arrow:before {content: \"▸\";float: left;margin-right: 0.25em;color: #696969;}#sk-container-id-16 label.sk-toggleable__label-arrow:hover:before {color: black;}#sk-container-id-16 div.sk-estimator:hover label.sk-toggleable__label-arrow:before {color: black;}#sk-container-id-16 div.sk-toggleable__content {max-height: 0;max-width: 0;overflow: hidden;text-align: left;background-color: #f0f8ff;}#sk-container-id-16 div.sk-toggleable__content pre {margin: 0.2em;color: black;border-radius: 0.25em;background-color: #f0f8ff;}#sk-container-id-16 input.sk-toggleable__control:checked~div.sk-toggleable__content {max-height: 200px;max-width: 100%;overflow: auto;}#sk-container-id-16 input.sk-toggleable__control:checked~label.sk-toggleable__label-arrow:before {content: \"▾\";}#sk-container-id-16 div.sk-estimator input.sk-toggleable__control:checked~label.sk-toggleable__label {background-color: #d4ebff;}#sk-container-id-16 div.sk-label input.sk-toggleable__control:checked~label.sk-toggleable__label {background-color: #d4ebff;}#sk-container-id-16 input.sk-hidden--visually {border: 0;clip: rect(1px 1px 1px 1px);clip: rect(1px, 1px, 1px, 1px);height: 1px;margin: -1px;overflow: hidden;padding: 0;position: absolute;width: 1px;}#sk-container-id-16 div.sk-estimator {font-family: monospace;background-color: #f0f8ff;border: 1px dotted black;border-radius: 0.25em;box-sizing: border-box;margin-bottom: 0.5em;}#sk-container-id-16 div.sk-estimator:hover {background-color: #d4ebff;}#sk-container-id-16 div.sk-parallel-item::after {content: \"\";width: 100%;border-bottom: 1px solid gray;flex-grow: 1;}#sk-container-id-16 div.sk-label:hover label.sk-toggleable__label {background-color: #d4ebff;}#sk-container-id-16 div.sk-serial::before {content: \"\";position: absolute;border-left: 1px solid gray;box-sizing: border-box;top: 0;bottom: 0;left: 50%;z-index: 0;}#sk-container-id-16 div.sk-serial {display: flex;flex-direction: column;align-items: center;background-color: white;padding-right: 0.2em;padding-left: 0.2em;position: relative;}#sk-container-id-16 div.sk-item {position: relative;z-index: 1;}#sk-container-id-16 div.sk-parallel {display: flex;align-items: stretch;justify-content: center;background-color: white;position: relative;}#sk-container-id-16 div.sk-item::before, #sk-container-id-16 div.sk-parallel-item::before {content: \"\";position: absolute;border-left: 1px solid gray;box-sizing: border-box;top: 0;bottom: 0;left: 50%;z-index: -1;}#sk-container-id-16 div.sk-parallel-item {display: flex;flex-direction: column;z-index: 1;position: relative;background-color: white;}#sk-container-id-16 div.sk-parallel-item:first-child::after {align-self: flex-end;width: 50%;}#sk-container-id-16 div.sk-parallel-item:last-child::after {align-self: flex-start;width: 50%;}#sk-container-id-16 div.sk-parallel-item:only-child::after {width: 0;}#sk-container-id-16 div.sk-dashed-wrapped {border: 1px dashed gray;margin: 0 0.4em 0.5em 0.4em;box-sizing: border-box;padding-bottom: 0.4em;background-color: white;}#sk-container-id-16 div.sk-label label {font-family: monospace;font-weight: bold;display: inline-block;line-height: 1.2em;}#sk-container-id-16 div.sk-label-container {text-align: center;}#sk-container-id-16 div.sk-container {/* jupyter's `normalize.less` sets `[hidden] { display: none; }` but bootstrap.min.css set `[hidden] { display: none !important; }` so we also need the `!important` here to be able to override the default hidden behavior on the sphinx rendered scikit-learn.org. See: https://github.com/scikit-learn/scikit-learn/issues/21755 */display: inline-block !important;position: relative;}#sk-container-id-16 div.sk-text-repr-fallback {display: none;}</style><div id=\"sk-container-id-16\" class=\"sk-top-container\"><div class=\"sk-text-repr-fallback\"><pre>KNeighborsClassifier(n_neighbors=1)</pre><b>In a Jupyter environment, please rerun this cell to show the HTML representation or trust the notebook. <br />On GitHub, the HTML representation is unable to render, please try loading this page with nbviewer.org.</b></div><div class=\"sk-container\" hidden><div class=\"sk-item\"><div class=\"sk-estimator sk-toggleable\"><input class=\"sk-toggleable__control sk-hidden--visually\" id=\"sk-estimator-id-32\" type=\"checkbox\" checked><label for=\"sk-estimator-id-32\" class=\"sk-toggleable__label sk-toggleable__label-arrow\">KNeighborsClassifier</label><div class=\"sk-toggleable__content\"><pre>KNeighborsClassifier(n_neighbors=1)</pre></div></div></div></div></div>"
      ],
      "text/plain": [
       "KNeighborsClassifier(n_neighbors=1)"
      ]
     },
     "execution_count": 98,
     "metadata": {},
     "output_type": "execute_result"
    }
   ],
   "source": [
    "# Лучшая модель\n",
    "clf_gs.best_estimator_"
   ]
  },
  {
   "cell_type": "code",
   "execution_count": 99,
   "id": "ad018d41-21ec-4560-b4e4-273ba8d62dd9",
   "metadata": {},
   "outputs": [
    {
     "data": {
      "text/plain": [
       "1.0"
      ]
     },
     "execution_count": 99,
     "metadata": {},
     "output_type": "execute_result"
    }
   ],
   "source": [
    "# Лучшее значение метрики\n",
    "clf_gs.best_score_"
   ]
  },
  {
   "cell_type": "code",
   "execution_count": 100,
   "id": "de2e826e-d9ef-4c00-9374-70d7be1b24b0",
   "metadata": {},
   "outputs": [
    {
     "data": {
      "text/plain": [
       "{'n_neighbors': 1}"
      ]
     },
     "execution_count": 100,
     "metadata": {},
     "output_type": "execute_result"
    }
   ],
   "source": [
    "# Лучшее значение параметров\n",
    "clf_gs.best_params_"
   ]
  },
  {
   "cell_type": "markdown",
   "id": "c03f24c6-9061-483c-badf-b33fc6d26787",
   "metadata": {},
   "source": [
    "Делаем то же самое, только с помощью Randomized Search:"
   ]
  },
  {
   "cell_type": "code",
   "execution_count": 103,
   "id": "49dbc844-f4af-4ffa-b0f1-abc7ea0b17de",
   "metadata": {},
   "outputs": [
    {
     "name": "stdout",
     "output_type": "stream",
     "text": [
      "CPU times: total: 344 ms\n",
      "Wall time: 344 ms\n"
     ]
    },
    {
     "data": {
      "text/html": [
       "<style>#sk-container-id-18 {color: black;background-color: white;}#sk-container-id-18 pre{padding: 0;}#sk-container-id-18 div.sk-toggleable {background-color: white;}#sk-container-id-18 label.sk-toggleable__label {cursor: pointer;display: block;width: 100%;margin-bottom: 0;padding: 0.3em;box-sizing: border-box;text-align: center;}#sk-container-id-18 label.sk-toggleable__label-arrow:before {content: \"▸\";float: left;margin-right: 0.25em;color: #696969;}#sk-container-id-18 label.sk-toggleable__label-arrow:hover:before {color: black;}#sk-container-id-18 div.sk-estimator:hover label.sk-toggleable__label-arrow:before {color: black;}#sk-container-id-18 div.sk-toggleable__content {max-height: 0;max-width: 0;overflow: hidden;text-align: left;background-color: #f0f8ff;}#sk-container-id-18 div.sk-toggleable__content pre {margin: 0.2em;color: black;border-radius: 0.25em;background-color: #f0f8ff;}#sk-container-id-18 input.sk-toggleable__control:checked~div.sk-toggleable__content {max-height: 200px;max-width: 100%;overflow: auto;}#sk-container-id-18 input.sk-toggleable__control:checked~label.sk-toggleable__label-arrow:before {content: \"▾\";}#sk-container-id-18 div.sk-estimator input.sk-toggleable__control:checked~label.sk-toggleable__label {background-color: #d4ebff;}#sk-container-id-18 div.sk-label input.sk-toggleable__control:checked~label.sk-toggleable__label {background-color: #d4ebff;}#sk-container-id-18 input.sk-hidden--visually {border: 0;clip: rect(1px 1px 1px 1px);clip: rect(1px, 1px, 1px, 1px);height: 1px;margin: -1px;overflow: hidden;padding: 0;position: absolute;width: 1px;}#sk-container-id-18 div.sk-estimator {font-family: monospace;background-color: #f0f8ff;border: 1px dotted black;border-radius: 0.25em;box-sizing: border-box;margin-bottom: 0.5em;}#sk-container-id-18 div.sk-estimator:hover {background-color: #d4ebff;}#sk-container-id-18 div.sk-parallel-item::after {content: \"\";width: 100%;border-bottom: 1px solid gray;flex-grow: 1;}#sk-container-id-18 div.sk-label:hover label.sk-toggleable__label {background-color: #d4ebff;}#sk-container-id-18 div.sk-serial::before {content: \"\";position: absolute;border-left: 1px solid gray;box-sizing: border-box;top: 0;bottom: 0;left: 50%;z-index: 0;}#sk-container-id-18 div.sk-serial {display: flex;flex-direction: column;align-items: center;background-color: white;padding-right: 0.2em;padding-left: 0.2em;position: relative;}#sk-container-id-18 div.sk-item {position: relative;z-index: 1;}#sk-container-id-18 div.sk-parallel {display: flex;align-items: stretch;justify-content: center;background-color: white;position: relative;}#sk-container-id-18 div.sk-item::before, #sk-container-id-18 div.sk-parallel-item::before {content: \"\";position: absolute;border-left: 1px solid gray;box-sizing: border-box;top: 0;bottom: 0;left: 50%;z-index: -1;}#sk-container-id-18 div.sk-parallel-item {display: flex;flex-direction: column;z-index: 1;position: relative;background-color: white;}#sk-container-id-18 div.sk-parallel-item:first-child::after {align-self: flex-end;width: 50%;}#sk-container-id-18 div.sk-parallel-item:last-child::after {align-self: flex-start;width: 50%;}#sk-container-id-18 div.sk-parallel-item:only-child::after {width: 0;}#sk-container-id-18 div.sk-dashed-wrapped {border: 1px dashed gray;margin: 0 0.4em 0.5em 0.4em;box-sizing: border-box;padding-bottom: 0.4em;background-color: white;}#sk-container-id-18 div.sk-label label {font-family: monospace;font-weight: bold;display: inline-block;line-height: 1.2em;}#sk-container-id-18 div.sk-label-container {text-align: center;}#sk-container-id-18 div.sk-container {/* jupyter's `normalize.less` sets `[hidden] { display: none; }` but bootstrap.min.css set `[hidden] { display: none !important; }` so we also need the `!important` here to be able to override the default hidden behavior on the sphinx rendered scikit-learn.org. See: https://github.com/scikit-learn/scikit-learn/issues/21755 */display: inline-block !important;position: relative;}#sk-container-id-18 div.sk-text-repr-fallback {display: none;}</style><div id=\"sk-container-id-18\" class=\"sk-top-container\"><div class=\"sk-text-repr-fallback\"><pre>RandomizedSearchCV(cv=7, estimator=KNeighborsClassifier(),\n",
       "                   param_distributions=[{&#x27;n_neighbors&#x27;: array([1, 2, 3, 4, 5, 1, 2, 3, 4, 5, 1, 2, 3, 4, 5, 1, 2, 3, 4, 5, 1, 2,\n",
       "       3, 4, 5])}],\n",
       "                   scoring=&#x27;accuracy&#x27;)</pre><b>In a Jupyter environment, please rerun this cell to show the HTML representation or trust the notebook. <br />On GitHub, the HTML representation is unable to render, please try loading this page with nbviewer.org.</b></div><div class=\"sk-container\" hidden><div class=\"sk-item sk-dashed-wrapped\"><div class=\"sk-label-container\"><div class=\"sk-label sk-toggleable\"><input class=\"sk-toggleable__control sk-hidden--visually\" id=\"sk-estimator-id-36\" type=\"checkbox\" ><label for=\"sk-estimator-id-36\" class=\"sk-toggleable__label sk-toggleable__label-arrow\">RandomizedSearchCV</label><div class=\"sk-toggleable__content\"><pre>RandomizedSearchCV(cv=7, estimator=KNeighborsClassifier(),\n",
       "                   param_distributions=[{&#x27;n_neighbors&#x27;: array([1, 2, 3, 4, 5, 1, 2, 3, 4, 5, 1, 2, 3, 4, 5, 1, 2, 3, 4, 5, 1, 2,\n",
       "       3, 4, 5])}],\n",
       "                   scoring=&#x27;accuracy&#x27;)</pre></div></div></div><div class=\"sk-parallel\"><div class=\"sk-parallel-item\"><div class=\"sk-item\"><div class=\"sk-label-container\"><div class=\"sk-label sk-toggleable\"><input class=\"sk-toggleable__control sk-hidden--visually\" id=\"sk-estimator-id-37\" type=\"checkbox\" ><label for=\"sk-estimator-id-37\" class=\"sk-toggleable__label sk-toggleable__label-arrow\">estimator: KNeighborsClassifier</label><div class=\"sk-toggleable__content\"><pre>KNeighborsClassifier()</pre></div></div></div><div class=\"sk-serial\"><div class=\"sk-item\"><div class=\"sk-estimator sk-toggleable\"><input class=\"sk-toggleable__control sk-hidden--visually\" id=\"sk-estimator-id-38\" type=\"checkbox\" ><label for=\"sk-estimator-id-38\" class=\"sk-toggleable__label sk-toggleable__label-arrow\">KNeighborsClassifier</label><div class=\"sk-toggleable__content\"><pre>KNeighborsClassifier()</pre></div></div></div></div></div></div></div></div></div></div>"
      ],
      "text/plain": [
       "RandomizedSearchCV(cv=7, estimator=KNeighborsClassifier(),\n",
       "                   param_distributions=[{'n_neighbors': array([1, 2, 3, 4, 5, 1, 2, 3, 4, 5, 1, 2, 3, 4, 5, 1, 2, 3, 4, 5, 1, 2,\n",
       "       3, 4, 5])}],\n",
       "                   scoring='accuracy')"
      ]
     },
     "execution_count": 103,
     "metadata": {},
     "output_type": "execute_result"
    }
   ],
   "source": [
    "%%time\n",
    "clf_rs = RandomizedSearchCV(KNeighborsClassifier(), tuned_parameters, cv=7, scoring='accuracy')\n",
    "clf_rs.fit(data_x_train, data_y_train)"
   ]
  },
  {
   "cell_type": "code",
   "execution_count": 104,
   "id": "0cd92964-efba-4379-b84c-a4d582396ecc",
   "metadata": {},
   "outputs": [
    {
     "data": {
      "text/plain": [
       "(1.0, {'n_neighbors': 5})"
      ]
     },
     "execution_count": 104,
     "metadata": {},
     "output_type": "execute_result"
    }
   ],
   "source": [
    "clf_rs.best_score_, clf_rs.best_params_"
   ]
  },
  {
   "cell_type": "code",
   "execution_count": 105,
   "id": "66002e2e-8f2b-4403-83dd-9728f9246091",
   "metadata": {},
   "outputs": [
    {
     "data": {
      "text/plain": [
       "(1.0, {'n_neighbors': 1})"
      ]
     },
     "execution_count": 105,
     "metadata": {},
     "output_type": "execute_result"
    }
   ],
   "source": [
    "clf_gs.best_score_, clf_gs.best_params_"
   ]
  },
  {
   "cell_type": "markdown",
   "id": "3c5c6286-0a91-47a7-be48-0edbe9134f6e",
   "metadata": {},
   "source": [
    "### Используем стратегии StratifiedKFold и StratifiedShuffleSplit кросс-валидации:"
   ]
  },
  {
   "cell_type": "code",
   "execution_count": 38,
   "id": "eb50d90c-613c-40f9-849a-92c1b175c4d2",
   "metadata": {},
   "outputs": [
    {
     "name": "stdout",
     "output_type": "stream",
     "text": [
      "[116 117 118 119 120 121 122 125 126 127 128 129 130 131 132 134 135 136\n",
      " 138 139 140 142 143 145 146 147 148 149 150 151 152 153 154 155 156 157\n",
      " 159 160 162 163 164 165 167 168 170 171 172 173 174 175 176 179 180 182\n",
      " 183 184 185 186 187 189 190 191 192 193 194 195 196 197 198 199 200 201\n",
      " 202 203 204 205 206 207 208 209 210 211 212 213 214 215 216 217 218 219\n",
      " 220 221 222 223 224 225 226 227 228 229 230 231 232 233 234 235 236 237\n",
      " 238 239 240 241 242 243 244 245 246 247 248 249 250 251 252 253 254 255\n",
      " 256 257 258 259 260 261 262 263 264 265 266 267 268 269 270 271 272 273\n",
      " 274 275 276 277 278 279 280 281 282 283 284 285 286 287 288 289 290 291\n",
      " 292 293 294 295 296 297 298 299 300 301 302 303 304 305 306 307 308 309\n",
      " 310 311 312 313 314 315 316 317 318 319 320 321 322 323 324 325 326 327\n",
      " 328 329 330 331 332 333 334 335 336 337 338 339 340 341 342 343 344 345\n",
      " 346 347 348 349 350 351 352 353 354 355 356 357 358 359 360 361 362 363\n",
      " 364 365 366 367 368 369 370 371 372 373 374 375 376 377 378 379 380 381\n",
      " 382 383 384 385 386 387] [  0   1   2   3   4   5   6   7   8   9  10  11  12  13  14  15  16  17\n",
      "  18  19  20  21  22  23  24  25  26  27  28  29  30  31  32  33  34  35\n",
      "  36  37  38  39  40  41  42  43  44  45  46  47  48  49  50  51  52  53\n",
      "  54  55  56  57  58  59  60  61  62  63  64  65  66  67  68  69  70  71\n",
      "  72  73  74  75  76  77  78  79  80  81  82  83  84  85  86  87  88  89\n",
      "  90  91  92  93  94  95  96  97  98  99 100 101 102 103 104 105 106 107\n",
      " 108 109 110 111 112 113 114 115 123 124 133 137 141 144 158 161 166 169\n",
      " 177 178 181 188]\n",
      "[  0   1   2   3   4   5   6   7   8   9  10  11  12  13  14  15  16  17\n",
      "  18  19  20  21  22  23  24  25  26  27  28  29  30  31  32  33  34  35\n",
      "  36  37  38  39  40  41  42  43  44  45  46  47  48  49  50  51  52  53\n",
      "  54  55  56  57  58  59  60  61  62  63  64  65  66  67  68  69  70  71\n",
      "  72  73  74  75  76  77  78  79  80  81  82  83  84  85  86  87  88  89\n",
      "  90  91  92  93  94  95  96  97  98  99 100 101 102 103 104 105 106 107\n",
      " 108 109 110 111 112 113 114 115 123 124 133 137 141 144 158 161 166 169\n",
      " 177 178 181 188 250 251 252 253 254 255 258 260 264 265 267 268 269 270\n",
      " 272 273 274 275 276 277 279 280 281 282 283 284 285 286 287 288 289 290\n",
      " 291 292 293 294 295 296 297 298 299 300 301 302 303 304 305 306 307 308\n",
      " 309 310 311 312 313 314 315 316 317 318 319 320 321 322 323 324 325 326\n",
      " 327 328 329 330 331 332 333 334 335 336 337 338 339 340 341 342 343 344\n",
      " 345 346 347 348 349 350 351 352 353 354 355 356 357 358 359 360 361 362\n",
      " 363 364 365 366 367 368 369 370 371 372 373 374 375 376 377 378 379 380\n",
      " 381 382 383 384 385 386 387] [116 117 118 119 120 121 122 125 126 127 128 129 130 131 132 134 135 136\n",
      " 138 139 140 142 143 145 146 147 148 149 150 151 152 153 154 155 156 157\n",
      " 159 160 162 163 164 165 167 168 170 171 172 173 174 175 176 179 180 182\n",
      " 183 184 185 186 187 189 190 191 192 193 194 195 196 197 198 199 200 201\n",
      " 202 203 204 205 206 207 208 209 210 211 212 213 214 215 216 217 218 219\n",
      " 220 221 222 223 224 225 226 227 228 229 230 231 232 233 234 235 236 237\n",
      " 238 239 240 241 242 243 244 245 246 247 248 249 256 257 259 261 262 263\n",
      " 266 271 278]\n",
      "[  0   1   2   3   4   5   6   7   8   9  10  11  12  13  14  15  16  17\n",
      "  18  19  20  21  22  23  24  25  26  27  28  29  30  31  32  33  34  35\n",
      "  36  37  38  39  40  41  42  43  44  45  46  47  48  49  50  51  52  53\n",
      "  54  55  56  57  58  59  60  61  62  63  64  65  66  67  68  69  70  71\n",
      "  72  73  74  75  76  77  78  79  80  81  82  83  84  85  86  87  88  89\n",
      "  90  91  92  93  94  95  96  97  98  99 100 101 102 103 104 105 106 107\n",
      " 108 109 110 111 112 113 114 115 116 117 118 119 120 121 122 123 124 125\n",
      " 126 127 128 129 130 131 132 133 134 135 136 137 138 139 140 141 142 143\n",
      " 144 145 146 147 148 149 150 151 152 153 154 155 156 157 158 159 160 161\n",
      " 162 163 164 165 166 167 168 169 170 171 172 173 174 175 176 177 178 179\n",
      " 180 181 182 183 184 185 186 187 188 189 190 191 192 193 194 195 196 197\n",
      " 198 199 200 201 202 203 204 205 206 207 208 209 210 211 212 213 214 215\n",
      " 216 217 218 219 220 221 222 223 224 225 226 227 228 229 230 231 232 233\n",
      " 234 235 236 237 238 239 240 241 242 243 244 245 246 247 248 249 256 257\n",
      " 259 261 262 263 266 271 278] [250 251 252 253 254 255 258 260 264 265 267 268 269 270 272 273 274 275\n",
      " 276 277 279 280 281 282 283 284 285 286 287 288 289 290 291 292 293 294\n",
      " 295 296 297 298 299 300 301 302 303 304 305 306 307 308 309 310 311 312\n",
      " 313 314 315 316 317 318 319 320 321 322 323 324 325 326 327 328 329 330\n",
      " 331 332 333 334 335 336 337 338 339 340 341 342 343 344 345 346 347 348\n",
      " 349 350 351 352 353 354 355 356 357 358 359 360 361 362 363 364 365 366\n",
      " 367 368 369 370 371 372 373 374 375 376 377 378 379 380 381 382 383 384\n",
      " 385 386 387]\n"
     ]
    }
   ],
   "source": [
    "X = cat_enc_oe[:, 0]\n",
    "y = cat_enc_oe[:, 1]\n",
    "skf = StratifiedKFold(n_splits=3)\n",
    "for train, test in skf.split(X, y):\n",
    "    print(\"%s %s\" % (train, test))"
   ]
  },
  {
   "cell_type": "code",
   "execution_count": 39,
   "id": "2afe5afa-72fc-484c-9006-6c0f43d2655b",
   "metadata": {},
   "outputs": [
    {
     "name": "stdout",
     "output_type": "stream",
     "text": [
      "Fold 0:\n",
      "  Train: [170 375 168 256 196  83 117 370 166   1 173 223 262  28 232 295 257 385\n",
      " 355 235  67 254  64 222 224  43  59 341  95 210 300 332 237  45 133 209\n",
      " 298 275 259 272 285 193 100 105   2 169 342   3 334  77 163 270  63   4\n",
      " 197 226 271  10  31  94 183 371  16  37 158 155 255  70 164 174 343  87\n",
      " 335 132 248 128 228  36 244 205 314 319 247 292 377 291   6  34 233 176\n",
      "  73 144 265 200 276  85  25 157  47 156  88 211 199 337  46 120 212 125\n",
      " 137 281 221 358 263 145  75 316 127 324 339  69 326  23 250 320  15 153\n",
      " 331 347 351 288 165 106 202 253  44 333 367   9 220 344 191  96 112  79\n",
      "  35  11 179  33 296 177 323  48 171 304 139 297 130 284  24 225 245 198\n",
      " 294  18 307 374 369 308  91 109  86  20 325 338 234  29 327 301 239 359\n",
      " 123  74 313 380 353  39 252 283 141 329 149   8 366  32 214 378 119 352\n",
      "  98 217 185  13 121 274 302 360 136 286 182  19 162 189 143 172 269 184\n",
      " 278 218 241 315  41 381  89  90 159 216 365  84  65 345 104  21 190 140\n",
      "  57  80 161 111   7 321 303  17 148   5 110  93  72 208  78  61 116  97\n",
      " 290 229 310 267 268  56 328 126 249 150 348  26 192  81 322 152 379 363\n",
      "  68 317 180 299 356 206 364 138 306  42  12 135  51 264 372 251  30  38\n",
      " 280 384 154 386  52 282  62 195 387 231 260 309 243 289 122 181  71 354\n",
      " 383 124 240 346 201 312 118  53 258 175 305  22 188  40 146 114 277  82\n",
      " 361 131 227 213 101 151 187  14 368  66 336 382 362 261 203 113 330 349\n",
      " 293 376 350 215 129 279  58]\n",
      "  Test:  [ 27 115 194  92 204 178 236 103  50 373 238  99 107 142  76 160 266 207\n",
      " 230  60 340 242 273 357 287 186  55 219 167 246 147  49   0 134 102 318\n",
      "  54 108 311]\n",
      "Fold 1:\n",
      "  Train: [ 11  74  62  30 242   6 335 230  97   9 152 130 199 103 325  31 237 196\n",
      " 315  75  68  96 357 356 253 372 100 297  89 262  71 265  44 157 260 247\n",
      " 175 250 257 203 351 238  27  21  82 219  38 201 102  41 368 159 222 106\n",
      " 284 155 333 124 228 264 174 136 282  37 123 172  51 113  42 186 328 227\n",
      "  92 316   5 119 132 134 332 353 323  59 163 302  45 236 366  46 350 279\n",
      " 349 168  23  26 320 381 187 365 273 307 327 339  24 217 188 329 167 189\n",
      " 361  61 224 169 209 183 343  12 212 164 334 165 296 290 346 133  58  33\n",
      " 360 114 178 118  65 383 220 221 143  69  20   4 141  81  53  17 135  60\n",
      "  48 375  64 166 140 144 278  99 266 142 289  29  77 313 314 252  40 281\n",
      " 239 272 151 258 259  49  86 245 180 204 379 117 342 149  14 207 251 127\n",
      "  39  93 301 354 263 231 202 275 193 173 283 223 261 300  16 148 277 269\n",
      " 116 138 153  19 267 177  43 274  78 184  88 235 176 154   7 312  35 385\n",
      " 359 248 214 308 126 306  80  28 200 194 170 101 162 299 213  63 246 305\n",
      " 128 386  36  52 370 108 226 374 156 304  91 249  18 270 285 145 362  10\n",
      " 303 197  98  76  47 271 295 171 218  70 104  66  34 287 364 122 373 348\n",
      " 121 382 198 384 298 195 225 336 378  54 318 293 160 129  57 191 215  87\n",
      " 369  79 326  15 111 112  90 341 311 376 280 276 206  73  32  25 288 208\n",
      "  67 190 241 347 107 125 232 147 371  83 146 240 158 185 243 137 331 268\n",
      " 205 229 256   2 216 294 310 139   8 244  94   0 355 210 337   1 309 291\n",
      "  22 181 352  85 182  56  84]\n",
      "  Test:  [380 255  50 150 317 387 120 254  95 131 324 233 344   3 358 367 211 330\n",
      " 377 292 363 319 345 179 161 338 340 109 234 192 110 105 286 322  72 115\n",
      "  55  13 321]\n",
      "Fold 2:\n",
      "  Train: [318 253 174  19  56  69 128 242  15 116 216 331  76 204 366 200 371 104\n",
      "  66  98 244 148 218 224  28 156  51 208 123   6 107 356 319 122 351 330\n",
      " 338 166 105 339 149 277 316 364 160  34 154 213 102 147 369 233 377 101\n",
      " 301  22 378 275   4 281 315 173 299 266 219 214   5 192 383  78  10 343\n",
      " 259 381 114 385 187 133 265 267 115 239  46 380  44 188  90 229 284  73\n",
      "  18  12 263 113 195 361 308 370 183  13 269 386 276 294 335 202 283 118\n",
      " 137 300 176 282 292  60  62 305 363 217 241 142 136 179 120  75 285  59\n",
      "  67 121 296  85 279 141 211 111 324 252 298 210 365  61   1 270 209  43\n",
      " 250  86 307 157 323  49 139 337   0 185  91 199 236  83 189 190  54 238\n",
      " 329 288 119 373 367 345 326 274 138 286 254 140 163 237 177 240 382  23\n",
      " 387  99 248 359  71 320 168 321 180 347 354 374 108 334 221 249 222 310\n",
      " 212 196 360  64 235 289  95 303 197  26 124  38 161 340 309  31 150  96\n",
      "  82 306 178  35 198 186   9 349 293  97 117 341 336 205 287  37  20 181\n",
      " 290 272 146 313 130 145  89 194  84  30  17  93 295 379 328 151   7 230\n",
      " 291 246 297  80   3 103 110 143 260 350 368  39 127  94 175 191 232 106\n",
      " 182 226  58 203 247 251  65 258 264 215 317 162 201 357  21 372 271 311\n",
      " 220 126 327 243 255  77  55 353 256 332  88 131  81 262 167 206 155  74\n",
      " 280 109 384  32 355   2 333 207 125  36  72 132 257 152  52 184  47 223\n",
      " 362  11 346 302  24  87 144 231  63 153 228 342 312 135 234  27  48 376\n",
      "  92  50 314 170  45 348 278]\n",
      "  Test:  [134 261 268 304 129 100  70  29 227  40  68 245 171  14  42 358 325 193\n",
      "  41 159 375  53  16 158  33 165 322  79 352  25 172 225  57 344 169 164\n",
      "   8 273 112]\n",
      "Fold 3:\n",
      "  Train: [247 111   1 303 279 152 145  86  49 286 299 261 284  89 324  98  78 150\n",
      " 137 100  80 231  24 327  88 384 330 318 113 162 267 340  28 123 151  82\n",
      " 357 268 141 169 172  34 229  50 271 353  56 134 346  99 127 226  36 201\n",
      " 214 341 195 235 115 158 207 280  95 239  22 251 120 217 143  27 379 139\n",
      "  65 104 227  91 289  66 257 249 140  48 164 177 218 193 276 352 310 347\n",
      "   5 148 375  67 326 262 336 185 209 339 133 147  60 386 160  11 248 183\n",
      "  33 266 190 273 308   4 293  90 126  62 360 132  69  12 377 301 254  97\n",
      " 205 294 188 328 283 309 182 252  25 105 385 297 165 211  75  20   8 156\n",
      "  61  16  18 298 149 269 237 168 125 378  37 323 202 128 170 292 366  74\n",
      " 258 203 204 243 312 245 371 295 259 225 215 191 192  43  77 186 334 373\n",
      " 109  87  30 197 118 343 219 167 381 354  63  96 103 144  21 241 287 117\n",
      " 224 344 116  76 210  10 355 382  42  52 321 129 189 364   9 223 122 359\n",
      " 367 342 338 350 250 345   6  29 329 228 314 107  35 365 136  59 300   3\n",
      " 376  44 101  51 138  72 270 244  55 199 306 263 315  81 374 368 277 176\n",
      "  53 212 130 121 372  19 114 155 157 274 351 264  17 184 194  79 331  40\n",
      " 380 216 304 370 302  46  73 320  54 337 108   7 369 265 163 363  39 317\n",
      " 291 362 232  57 171 221 208 272 110  38 383   0 187 322  23  45 260 175\n",
      " 230  26 166 307 319 335 313 124  41 161 238 255  64 174 142 173 135 240\n",
      " 311 181 356 256  68 325 196  47  93 333 305 233  13 222 112 281  71 296\n",
      " 102 213  32 348 159  94  92]\n",
      "  Test:  [  2 288 178 387 275 200 180 198  84 153 234  70 290 206 179  83  85  14\n",
      " 246 154 285 131 316 146 236 253 282  58 361  15  31 119 332 106 278 358\n",
      " 220 242 349]\n",
      "Fold 4:\n",
      "  Train: [ 89 334 236 359 114  39  53 271 302 189 379  36 173 251  71 184 197 175\n",
      " 108 382  15 352 348  61  84 217 191  98  11 202  69 315 215 377 190 322\n",
      " 269 239 355 341 142 375  87 125 201 343 311 314 232  56  35 228 122 242\n",
      " 206  57 291 324  25 237 156  52 252 371 353 216 310 360 279 192 327 210\n",
      " 200 118 362 218 212 273 133 146  47  34 121  58 250 308  54 135  51  50\n",
      "  19 214 178 231 101  18 226  62 120  88   6  79 372  44 112 154 317  91\n",
      " 139 277 256 333 198 185 127 339  92  80  37  77   4  31 213  30 366 336\n",
      " 261 179 386 329 342 280  95 188  68  13 307 113  93 361 132  43 193 124\n",
      " 115 266 225 319 155 340 323 219 292 253 131 170  24 148 196 338 259  17\n",
      " 276 205 110 176 387 378 109 262  67  45 358 186 152 325 243 144 157 281\n",
      " 229  14 289 344 370 150  49 270 159 264  21 106  78 221 180  64  20 240\n",
      "  26  23   5 312 241 141 299 103 128 283   0 158  76  29 227  55 364  74\n",
      " 288  86   3 373 345 194 166 268 321 301 137 320 300 168 247 274 278 163\n",
      " 224 182 174 107 265  41 290 297  38 129 368 296  96  81 234 161   1  33\n",
      " 153 245 365  83 172 305 134 272 222  66 235 298  99 149 211  16 383 187\n",
      " 316  46 171 208 326 357 248 335  85 376 294  22 136 164 104 384 332   9\n",
      " 363 167 145 117 254 169 244 177 162 183  94 138 140 100 203 123 147 223\n",
      "  10   8  40 160 119 105 328 287 385 195 346 267  48 102 249 381  60 233\n",
      " 275 230 337 207 374  82 285  97 209 143  65 331 165 130 181 369 151 246\n",
      "  90  63 282 116 111  12 304]\n",
      "  Test:  [220 263  42 255 126 318 238 380 356 293  72 258 303  73 309 367 286 350\n",
      " 199  27  28 313  70   2 257  59 330 349 284  32 204 306   7 347 351 354\n",
      " 260 295  75]\n"
     ]
    }
   ],
   "source": [
    "from sklearn.model_selection import StratifiedShuffleSplit\n",
    "X = cat_enc_oe\n",
    "y = y = cat_enc_oe[:, 1]\n",
    "sss = StratifiedShuffleSplit(n_splits=5, random_state=0)\n",
    "for i, (train_index, test_index) in enumerate(sss.split(X, y)):\n",
    "     print(f\"Fold {i}:\")\n",
    "     print(f\"  Train: {train_index}\")\n",
    "     print(f\"  Test:  {test_index}\")"
   ]
  },
  {
   "cell_type": "markdown",
   "id": "956abe07-cebe-4a92-aa1e-40415179b07b",
   "metadata": {},
   "source": [
    "### Оцениваем качество оптимальной модели:"
   ]
  },
  {
   "cell_type": "code",
   "execution_count": 106,
   "id": "8a8fc3f9-b52b-402a-b9aa-1f3f3f05d36c",
   "metadata": {},
   "outputs": [],
   "source": [
    "from sklearn.preprocessing import StandardScaler\n",
    "X = cat_enc_oe[:, 0]\n",
    "y = cat_enc_oe[:, 1]\n",
    "\n",
    "scoring = {'precision': 'precision_weighted', \n",
    "           'recall': 'recall_weighted',\n",
    "           'f1': 'f1_weighted'}\n",
    "\n",
    "X1 = X.reshape(-1, 1)\n",
    "scaler = StandardScaler()\n",
    "X_scaled = scaler.fit_transform(X1)\n",
    "knn = KNeighborsClassifier(n_neighbors=5)\n",
    "skf = StratifiedKFold(n_splits=3, shuffle=True, random_state=1)\n",
    "cv_scores = cross_validate(KNeighborsClassifier(n_neighbors=2), \n",
    "                        X_scaled, y, scoring=scoring, \n",
    "                        cv=3, return_train_score=True)"
   ]
  },
  {
   "cell_type": "code",
   "execution_count": 107,
   "id": "8865e7b5-974a-412d-9128-40e4c4d53a8b",
   "metadata": {},
   "outputs": [
    {
     "data": {
      "text/plain": [
       "{'fit_time': array([0.0016253, 0.0010519, 0.0009973]),\n",
       " 'score_time': array([0.01635671, 0.01194477, 0.00997305]),\n",
       " 'test_precision': array([0.6775641 , 0.69149464, 0.70741403]),\n",
       " 'train_precision': array([0.74211644, 0.70994257, 0.70186859]),\n",
       " 'test_recall': array([0.75384615, 0.60465116, 0.63565891]),\n",
       " 'train_recall': array([0.80232558, 0.64092664, 0.62548263]),\n",
       " 'test_f1': array([0.71079165, 0.64075872, 0.66501973]),\n",
       " 'train_f1': array([0.75602468, 0.6693309 , 0.65715174])}"
      ]
     },
     "execution_count": 107,
     "metadata": {},
     "output_type": "execute_result"
    }
   ],
   "source": [
    "cv_scores"
   ]
  },
  {
   "cell_type": "markdown",
   "id": "a729502a-5bff-4d8a-b9e0-1b07dbfb8c2d",
   "metadata": {},
   "source": [
    "**Вывод**: так как для обучающей выборки и тестовой результаты довольно близкие друг к другу, то можно сказать, что данная модель не недообучена и не переобучена. Параметр ближайших соседей, равный 5, является оптимальным."
   ]
  },
  {
   "cell_type": "markdown",
   "id": "1e0e7e52-55b3-49ce-b27c-c935d6f57a80",
   "metadata": {},
   "source": [
    "### Построение кривых обучения и валидации"
   ]
  },
  {
   "cell_type": "code",
   "execution_count": 128,
   "id": "979af219-954d-4a49-b4f6-05b45826bf7d",
   "metadata": {},
   "outputs": [],
   "source": [
    "def plot_learning_curve(estimator, title, X, y, ylim=None, cv=None,\n",
    "                        n_jobs=None, train_sizes=np.linspace(.1, 1.0, 5), scoring='f1_weighted'):\n",
    "    \"\"\"\n",
    "    Generate a simple plot of the test and training learning curve.\n",
    "\n",
    "    Parameters\n",
    "    ----------\n",
    "    estimator : object type that implements the \"fit\" and \"predict\" methods\n",
    "        An object of that type which is cloned for each validation.\n",
    "\n",
    "    title : string\n",
    "        Title for the chart.\n",
    "\n",
    "    X : array-like, shape (n_samples, n_features)\n",
    "        Training vector, where n_samples is the number of samples and\n",
    "        n_features is the number of features.\n",
    "\n",
    "    y : array-like, shape (n_samples) or (n_samples, n_features), optional\n",
    "        Target relative to X for classification or regression;\n",
    "        None for unsupervised learning.\n",
    "\n",
    "    ylim : tuple, shape (ymin, ymax), optional\n",
    "        Defines minimum and maximum yvalues plotted.\n",
    "\n",
    "    cv : int, cross-validation generator or an iterable, optional\n",
    "        Determines the cross-validation splitting strategy.\n",
    "        Possible inputs for cv are:\n",
    "          - None, to use the default 3-fold cross-validation,\n",
    "          - integer, to specify the number of folds.\n",
    "          - :term:`CV splitter`,\n",
    "          - An iterable yielding (train, test) splits as arrays of indices.\n",
    "\n",
    "        For integer/None inputs, if ``y`` is binary or multiclass,\n",
    "        :class:`StratifiedKFold` used. If the estimator is not a classifier\n",
    "        or if ``y`` is neither binary nor multiclass, :class:`KFold` is used.\n",
    "\n",
    "        Refer :ref:`User Guide <cross_validation>` for the various\n",
    "        cross-validators that can be used here.\n",
    "\n",
    "    n_jobs : int or None, optional (default=None)\n",
    "        Number of jobs to run in parallel.\n",
    "        ``None`` means 1 unless in a :obj:`joblib.parallel_backend` context.\n",
    "        ``-1`` means using all processors. See :term:`Glossary <n_jobs>`\n",
    "        for more details.\n",
    "\n",
    "    train_sizes : array-like, shape (n_ticks,), dtype float or int\n",
    "        Relative or absolute numbers of training examples that will be used to\n",
    "        generate the learning curve. If the dtype is float, it is regarded as a\n",
    "        fraction of the maximum size of the training set (that is determined\n",
    "        by the selected validation method), i.e. it has to be within (0, 1].\n",
    "        Otherwise it is interpreted as absolute sizes of the training sets.\n",
    "        Note that for classification the number of samples usually have to\n",
    "        be big enough to contain at least one sample from each class.\n",
    "        (default: np.linspace(0.1, 1.0, 5))\n",
    "    \"\"\"\n",
    "    plt.figure()\n",
    "    plt.title(title)\n",
    "    if ylim is not None:\n",
    "        plt.ylim(*ylim)\n",
    "    plt.xlabel(\"Training examples\")\n",
    "    plt.ylabel(scoring)\n",
    "    train_sizes, train_scores, test_scores = learning_curve(\n",
    "        estimator, X, y, cv=cv, scoring=scoring, n_jobs=n_jobs, train_sizes=train_sizes)\n",
    "    train_scores_mean = np.mean(train_scores, axis=1)\n",
    "    train_scores_std = np.std(train_scores, axis=1)\n",
    "    test_scores_mean = np.mean(test_scores, axis=1)\n",
    "    test_scores_std = np.std(test_scores, axis=1)\n",
    "    plt.grid()\n",
    "\n",
    "    plt.fill_between(train_sizes, train_scores_mean - train_scores_std,\n",
    "                     train_scores_mean + train_scores_std, alpha=0.3,\n",
    "                     color=\"r\")\n",
    "    plt.fill_between(train_sizes, test_scores_mean - test_scores_std,\n",
    "                     test_scores_mean + test_scores_std, alpha=0.1, color=\"g\")\n",
    "    plt.plot(train_sizes, train_scores_mean, 'o-', color=\"r\",\n",
    "             label=\"Training score\")\n",
    "    plt.plot(train_sizes, test_scores_mean, 'o-', color=\"g\",\n",
    "             label=\"Cross-validation score\")\n",
    "\n",
    "    plt.legend(loc=\"best\")\n",
    "    return plt"
   ]
  },
  {
   "cell_type": "code",
   "execution_count": 139,
   "id": "cb7babff-aad6-4017-ab26-7f24e9f1e9e1",
   "metadata": {},
   "outputs": [
    {
     "data": {
      "text/plain": [
       "<module 'matplotlib.pyplot' from 'C:\\\\Users\\\\user\\\\anaconda3\\\\Lib\\\\site-packages\\\\matplotlib\\\\pyplot.py'>"
      ]
     },
     "execution_count": 139,
     "metadata": {},
     "output_type": "execute_result"
    },
    {
     "data": {
      "image/png": "[encoded data removed]",
      "text/plain": [
       "<Figure size 640x480 with 1 Axes>"
      ]
     },
     "metadata": {},
     "output_type": "display_data"
    }
   ],
   "source": [
    "plot_learning_curve(KNeighborsClassifier(n_neighbors=5), 'n_neighbors=5', \n",
    "                    data_x_train, data_y_train, cv=20, scoring='f1_macro')"
   ]
  },
  {
   "cell_type": "code",
   "execution_count": null,
   "id": "478e5e59-32f0-4188-8e04-7ce1c85aac38",
   "metadata": {},
   "outputs": [],
   "source": []
  },
  {
   "cell_type": "code",
   "execution_count": 159,
   "id": "ed77d4ae-8ed5-4035-9130-199ea3b023c9",
   "metadata": {},
   "outputs": [
    {
     "data": {
      "image/png": "[encoded data removed]",
      "text/plain": [
       "<Figure size 640x480 with 1 Axes>"
      ]
     },
     "metadata": {},
     "output_type": "display_data"
    }
   ],
   "source": [
    "import matplotlib.pyplot as plt\n",
    "import numpy as np\n",
    "from sklearn.datasets import load_digits\n",
    "from sklearn.neighbors import KNeighborsClassifier\n",
    "from sklearn.model_selection import validation_curve\n",
    "\n",
    "data = np.c_[cat_enc_oe[:, 0], cat_enc_oe[:, 1]]\n",
    "X, y = data, cat_enc_oe[:, 1]\n",
    "\n",
    "# Define the range for the parameter (e.g., number of neighbors)\n",
    "parameter_range = np.arange(1, 20, 1)\n",
    "\n",
    "# Calculate accuracy on training and test set using the parameter with cross-validation\n",
    "train_score, test_score = validation_curve(\n",
    "    KNeighborsClassifier(), X, y,\n",
    "    param_name=\"n_neighbors\",\n",
    "    param_range=parameter_range,\n",
    "    cv=15, scoring=\"f1_macro\"\n",
    ")\n",
    "\n",
    "# Calculate mean and standard deviation of training and testing scores\n",
    "mean_train_score = np.mean(train_score, axis=1)\n",
    "std_train_score = np.std(train_score, axis=1)\n",
    "mean_test_score = np.mean(test_score, axis=1)\n",
    "std_test_score = np.std(test_score, axis=1)\n",
    "\n",
    "# Plot mean accuracy scores for training and testing scores\n",
    "plt.plot(parameter_range, mean_train_score, label=\"Training Score\", color='b')\n",
    "plt.plot(parameter_range, mean_test_score, label=\"Cross Validation Score\", color='g')\n",
    "\n",
    "# Create the plot\n",
    "plt.title(\"Validation Curve with KNN Classifier\")\n",
    "plt.xlabel(\"Number of Neighbours\")\n",
    "plt.ylabel(\"F1_macro\")\n",
    "plt.tight_layout()\n",
    "plt.legend(loc='best')\n",
    "plt.show()"
   ]
  },
  {
   "cell_type": "code",
   "execution_count": null,
   "id": "7939ab80-2121-499e-abd9-c8bda8ea27bd",
   "metadata": {},
   "outputs": [],
   "source": []
  }
 ],
 "metadata": {
  "kernelspec": {
   "display_name": "Python 3 (ipykernel)",
   "language": "python",
   "name": "python3"
  },
  "language_info": {
   "codemirror_mode": {
    "name": "ipython",
    "version": 3
   },
   "file_extension": ".py",
   "mimetype": "text/x-python",
   "name": "python",
   "nbconvert_exporter": "python",
   "pygments_lexer": "ipython3",
   "version": "3.11.7"
  }
 },
 "nbformat": 4,
 "nbformat_minor": 5
}
