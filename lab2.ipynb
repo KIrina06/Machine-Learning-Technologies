{
 "cells": [
  {
   "cell_type": "code",
   "execution_count": 1,
   "id": "ba17d1d6-0ec1-4138-9719-19bf3ecfc7de",
   "metadata": {},
   "outputs": [],
   "source": [
    "import numpy as np\n",
    "import pandas as pd\n",
    "import seaborn as sns\n",
    "import matplotlib.pyplot as plt\n",
    "%matplotlib inline \n",
    "sns.set(style=\"ticks\")"
   ]
  },
  {
   "cell_type": "markdown",
   "id": "c7ffae40-c4af-4eff-8279-6076033137e4",
   "metadata": {},
   "source": [
    "# Загрузка и первичный анализ данных"
   ]
  },
  {
   "cell_type": "code",
   "execution_count": 2,
   "id": "f7150913-c9a7-4176-a124-221345f18220",
   "metadata": {},
   "outputs": [],
   "source": [
    "data = pd.read_csv('data/car_prices.csv', sep=\",\")"
   ]
  },
  {
   "cell_type": "code",
   "execution_count": 3,
   "id": "b6cfc687-a851-4687-9821-fa895754ad7c",
   "metadata": {},
   "outputs": [
    {
     "data": {
      "text/plain": [
       "(558837, 16)"
      ]
     },
     "execution_count": 3,
     "metadata": {},
     "output_type": "execute_result"
    }
   ],
   "source": [
    "data.shape"
   ]
  },
  {
   "cell_type": "code",
   "execution_count": 4,
   "id": "393f4730-be5f-431c-8270-2e4f67115a3f",
   "metadata": {},
   "outputs": [
    {
     "data": {
      "text/plain": [
       "year              int64\n",
       "make             object\n",
       "model            object\n",
       "trim             object\n",
       "body             object\n",
       "transmission     object\n",
       "vin              object\n",
       "state            object\n",
       "condition       float64\n",
       "odometer        float64\n",
       "color            object\n",
       "interior         object\n",
       "seller           object\n",
       "mmr             float64\n",
       "sellingprice    float64\n",
       "saledate         object\n",
       "dtype: object"
      ]
     },
     "execution_count": 4,
     "metadata": {},
     "output_type": "execute_result"
    }
   ],
   "source": [
    "data.dtypes"
   ]
  },
  {
   "cell_type": "code",
   "execution_count": 5,
   "id": "3f015a0b-0881-4178-a68b-a96eb453ab92",
   "metadata": {},
   "outputs": [
    {
     "data": {
      "text/plain": [
       "year                0\n",
       "make            10301\n",
       "model           10399\n",
       "trim            10651\n",
       "body            13195\n",
       "transmission    65352\n",
       "vin                 4\n",
       "state               0\n",
       "condition       11820\n",
       "odometer           94\n",
       "color             749\n",
       "interior          749\n",
       "seller              0\n",
       "mmr                38\n",
       "sellingprice       12\n",
       "saledate           12\n",
       "dtype: int64"
      ]
     },
     "execution_count": 5,
     "metadata": {},
     "output_type": "execute_result"
    }
   ],
   "source": [
    "# проверим есть ли пропущенные значения\n",
    "data.isnull().sum()"
   ]
  },
  {
   "cell_type": "code",
   "execution_count": 6,
   "id": "e29c9666-029d-4fab-965b-4d5ada345d09",
   "metadata": {},
   "outputs": [
    {
     "data": {
      "text/html": [
       "<div>\n",
       "<style scoped>\n",
       "    .dataframe tbody tr th:only-of-type {\n",
       "        vertical-align: middle;\n",
       "    }\n",
       "\n",
       "    .dataframe tbody tr th {\n",
       "        vertical-align: top;\n",
       "    }\n",
       "\n",
       "    .dataframe thead th {\n",
       "        text-align: right;\n",
       "    }\n",
       "</style>\n",
       "<table border=\"1\" class=\"dataframe\">\n",
       "  <thead>\n",
       "    <tr style=\"text-align: right;\">\n",
       "      <th></th>\n",
       "      <th>year</th>\n",
       "      <th>make</th>\n",
       "      <th>model</th>\n",
       "      <th>trim</th>\n",
       "      <th>body</th>\n",
       "      <th>transmission</th>\n",
       "      <th>vin</th>\n",
       "      <th>state</th>\n",
       "      <th>condition</th>\n",
       "      <th>odometer</th>\n",
       "      <th>color</th>\n",
       "      <th>interior</th>\n",
       "      <th>seller</th>\n",
       "      <th>mmr</th>\n",
       "      <th>sellingprice</th>\n",
       "      <th>saledate</th>\n",
       "    </tr>\n",
       "  </thead>\n",
       "  <tbody>\n",
       "    <tr>\n",
       "      <th>0</th>\n",
       "      <td>2015</td>\n",
       "      <td>Kia</td>\n",
       "      <td>Sorento</td>\n",
       "      <td>LX</td>\n",
       "      <td>SUV</td>\n",
       "      <td>automatic</td>\n",
       "      <td>5xyktca69fg566472</td>\n",
       "      <td>ca</td>\n",
       "      <td>5.0</td>\n",
       "      <td>16639.0</td>\n",
       "      <td>white</td>\n",
       "      <td>black</td>\n",
       "      <td>kia motors america  inc</td>\n",
       "      <td>20500.0</td>\n",
       "      <td>21500.0</td>\n",
       "      <td>Tue Dec 16 2014 12:30:00 GMT-0800 (PST)</td>\n",
       "    </tr>\n",
       "    <tr>\n",
       "      <th>1</th>\n",
       "      <td>2015</td>\n",
       "      <td>Kia</td>\n",
       "      <td>Sorento</td>\n",
       "      <td>LX</td>\n",
       "      <td>SUV</td>\n",
       "      <td>automatic</td>\n",
       "      <td>5xyktca69fg561319</td>\n",
       "      <td>ca</td>\n",
       "      <td>5.0</td>\n",
       "      <td>9393.0</td>\n",
       "      <td>white</td>\n",
       "      <td>beige</td>\n",
       "      <td>kia motors america  inc</td>\n",
       "      <td>20800.0</td>\n",
       "      <td>21500.0</td>\n",
       "      <td>Tue Dec 16 2014 12:30:00 GMT-0800 (PST)</td>\n",
       "    </tr>\n",
       "    <tr>\n",
       "      <th>2</th>\n",
       "      <td>2014</td>\n",
       "      <td>BMW</td>\n",
       "      <td>3 Series</td>\n",
       "      <td>328i SULEV</td>\n",
       "      <td>Sedan</td>\n",
       "      <td>automatic</td>\n",
       "      <td>wba3c1c51ek116351</td>\n",
       "      <td>ca</td>\n",
       "      <td>45.0</td>\n",
       "      <td>1331.0</td>\n",
       "      <td>gray</td>\n",
       "      <td>black</td>\n",
       "      <td>financial services remarketing (lease)</td>\n",
       "      <td>31900.0</td>\n",
       "      <td>30000.0</td>\n",
       "      <td>Thu Jan 15 2015 04:30:00 GMT-0800 (PST)</td>\n",
       "    </tr>\n",
       "    <tr>\n",
       "      <th>3</th>\n",
       "      <td>2015</td>\n",
       "      <td>Volvo</td>\n",
       "      <td>S60</td>\n",
       "      <td>T5</td>\n",
       "      <td>Sedan</td>\n",
       "      <td>automatic</td>\n",
       "      <td>yv1612tb4f1310987</td>\n",
       "      <td>ca</td>\n",
       "      <td>41.0</td>\n",
       "      <td>14282.0</td>\n",
       "      <td>white</td>\n",
       "      <td>black</td>\n",
       "      <td>volvo na rep/world omni</td>\n",
       "      <td>27500.0</td>\n",
       "      <td>27750.0</td>\n",
       "      <td>Thu Jan 29 2015 04:30:00 GMT-0800 (PST)</td>\n",
       "    </tr>\n",
       "    <tr>\n",
       "      <th>4</th>\n",
       "      <td>2014</td>\n",
       "      <td>BMW</td>\n",
       "      <td>6 Series Gran Coupe</td>\n",
       "      <td>650i</td>\n",
       "      <td>Sedan</td>\n",
       "      <td>automatic</td>\n",
       "      <td>wba6b2c57ed129731</td>\n",
       "      <td>ca</td>\n",
       "      <td>43.0</td>\n",
       "      <td>2641.0</td>\n",
       "      <td>gray</td>\n",
       "      <td>black</td>\n",
       "      <td>financial services remarketing (lease)</td>\n",
       "      <td>66000.0</td>\n",
       "      <td>67000.0</td>\n",
       "      <td>Thu Dec 18 2014 12:30:00 GMT-0800 (PST)</td>\n",
       "    </tr>\n",
       "  </tbody>\n",
       "</table>\n",
       "</div>"
      ],
      "text/plain": [
       "   year   make                model        trim   body transmission  \\\n",
       "0  2015    Kia              Sorento          LX    SUV    automatic   \n",
       "1  2015    Kia              Sorento          LX    SUV    automatic   \n",
       "2  2014    BMW             3 Series  328i SULEV  Sedan    automatic   \n",
       "3  2015  Volvo                  S60          T5  Sedan    automatic   \n",
       "4  2014    BMW  6 Series Gran Coupe        650i  Sedan    automatic   \n",
       "\n",
       "                 vin state  condition  odometer  color interior  \\\n",
       "0  5xyktca69fg566472    ca        5.0   16639.0  white    black   \n",
       "1  5xyktca69fg561319    ca        5.0    9393.0  white    beige   \n",
       "2  wba3c1c51ek116351    ca       45.0    1331.0   gray    black   \n",
       "3  yv1612tb4f1310987    ca       41.0   14282.0  white    black   \n",
       "4  wba6b2c57ed129731    ca       43.0    2641.0   gray    black   \n",
       "\n",
       "                                   seller      mmr  sellingprice  \\\n",
       "0                 kia motors america  inc  20500.0       21500.0   \n",
       "1                 kia motors america  inc  20800.0       21500.0   \n",
       "2  financial services remarketing (lease)  31900.0       30000.0   \n",
       "3                 volvo na rep/world omni  27500.0       27750.0   \n",
       "4  financial services remarketing (lease)  66000.0       67000.0   \n",
       "\n",
       "                                  saledate  \n",
       "0  Tue Dec 16 2014 12:30:00 GMT-0800 (PST)  \n",
       "1  Tue Dec 16 2014 12:30:00 GMT-0800 (PST)  \n",
       "2  Thu Jan 15 2015 04:30:00 GMT-0800 (PST)  \n",
       "3  Thu Jan 29 2015 04:30:00 GMT-0800 (PST)  \n",
       "4  Thu Dec 18 2014 12:30:00 GMT-0800 (PST)  "
      ]
     },
     "execution_count": 6,
     "metadata": {},
     "output_type": "execute_result"
    }
   ],
   "source": [
    "# Первые 5 строк датасета\n",
    "data.head()"
   ]
  },
  {
   "cell_type": "code",
   "execution_count": 7,
   "id": "a19d293e-0007-4d48-8310-208ca68cb300",
   "metadata": {},
   "outputs": [
    {
     "name": "stdout",
     "output_type": "stream",
     "text": [
      "Всего строк: 558837\n"
     ]
    }
   ],
   "source": [
    "total_count = data.shape[0]\n",
    "print('Всего строк: {}'.format(total_count))"
   ]
  },
  {
   "cell_type": "markdown",
   "id": "f2477583-187f-44b3-8875-f165146c1d43",
   "metadata": {},
   "source": [
    "# Обработка пропусков в данных"
   ]
  },
  {
   "cell_type": "code",
   "execution_count": 8,
   "id": "d1da5e76-706d-4d18-b57f-22cc186a2285",
   "metadata": {},
   "outputs": [
    {
     "data": {
      "text/plain": [
       "((558837, 16), (558837, 3))"
      ]
     },
     "execution_count": 8,
     "metadata": {},
     "output_type": "execute_result"
    }
   ],
   "source": [
    "# Удаление колонок, содержащих пустые значения\n",
    "data_new_1 = data.dropna(axis=1, how='any')\n",
    "(data.shape, data_new_1.shape)"
   ]
  },
  {
   "cell_type": "code",
   "execution_count": 9,
   "id": "4bbbbd3d-460c-4446-9f3c-ea9e2d19127a",
   "metadata": {},
   "outputs": [
    {
     "data": {
      "text/plain": [
       "((558837, 16), (472325, 16))"
      ]
     },
     "execution_count": 9,
     "metadata": {},
     "output_type": "execute_result"
    }
   ],
   "source": [
    "# Удаление строк, содержащих пустые значения\n",
    "data_new_2 = data.dropna(axis=0, how='any')\n",
    "(data.shape, data_new_2.shape)"
   ]
  },
  {
   "cell_type": "code",
   "execution_count": 10,
   "id": "3b7b0e6e-682f-4f3b-8fd0-5bac7605cb63",
   "metadata": {},
   "outputs": [
    {
     "data": {
      "text/html": [
       "<div>\n",
       "<style scoped>\n",
       "    .dataframe tbody tr th:only-of-type {\n",
       "        vertical-align: middle;\n",
       "    }\n",
       "\n",
       "    .dataframe tbody tr th {\n",
       "        vertical-align: top;\n",
       "    }\n",
       "\n",
       "    .dataframe thead th {\n",
       "        text-align: right;\n",
       "    }\n",
       "</style>\n",
       "<table border=\"1\" class=\"dataframe\">\n",
       "  <thead>\n",
       "    <tr style=\"text-align: right;\">\n",
       "      <th></th>\n",
       "      <th>year</th>\n",
       "      <th>make</th>\n",
       "      <th>model</th>\n",
       "      <th>trim</th>\n",
       "      <th>body</th>\n",
       "      <th>transmission</th>\n",
       "      <th>vin</th>\n",
       "      <th>state</th>\n",
       "      <th>condition</th>\n",
       "      <th>odometer</th>\n",
       "      <th>color</th>\n",
       "      <th>interior</th>\n",
       "      <th>seller</th>\n",
       "      <th>mmr</th>\n",
       "      <th>sellingprice</th>\n",
       "      <th>saledate</th>\n",
       "    </tr>\n",
       "  </thead>\n",
       "  <tbody>\n",
       "    <tr>\n",
       "      <th>0</th>\n",
       "      <td>2015</td>\n",
       "      <td>Kia</td>\n",
       "      <td>Sorento</td>\n",
       "      <td>LX</td>\n",
       "      <td>SUV</td>\n",
       "      <td>automatic</td>\n",
       "      <td>5xyktca69fg566472</td>\n",
       "      <td>ca</td>\n",
       "      <td>5.0</td>\n",
       "      <td>16639.0</td>\n",
       "      <td>white</td>\n",
       "      <td>black</td>\n",
       "      <td>kia motors america  inc</td>\n",
       "      <td>20500.0</td>\n",
       "      <td>21500.0</td>\n",
       "      <td>Tue Dec 16 2014 12:30:00 GMT-0800 (PST)</td>\n",
       "    </tr>\n",
       "    <tr>\n",
       "      <th>1</th>\n",
       "      <td>2015</td>\n",
       "      <td>Kia</td>\n",
       "      <td>Sorento</td>\n",
       "      <td>LX</td>\n",
       "      <td>SUV</td>\n",
       "      <td>automatic</td>\n",
       "      <td>5xyktca69fg561319</td>\n",
       "      <td>ca</td>\n",
       "      <td>5.0</td>\n",
       "      <td>9393.0</td>\n",
       "      <td>white</td>\n",
       "      <td>beige</td>\n",
       "      <td>kia motors america  inc</td>\n",
       "      <td>20800.0</td>\n",
       "      <td>21500.0</td>\n",
       "      <td>Tue Dec 16 2014 12:30:00 GMT-0800 (PST)</td>\n",
       "    </tr>\n",
       "    <tr>\n",
       "      <th>2</th>\n",
       "      <td>2014</td>\n",
       "      <td>BMW</td>\n",
       "      <td>3 Series</td>\n",
       "      <td>328i SULEV</td>\n",
       "      <td>Sedan</td>\n",
       "      <td>automatic</td>\n",
       "      <td>wba3c1c51ek116351</td>\n",
       "      <td>ca</td>\n",
       "      <td>45.0</td>\n",
       "      <td>1331.0</td>\n",
       "      <td>gray</td>\n",
       "      <td>black</td>\n",
       "      <td>financial services remarketing (lease)</td>\n",
       "      <td>31900.0</td>\n",
       "      <td>30000.0</td>\n",
       "      <td>Thu Jan 15 2015 04:30:00 GMT-0800 (PST)</td>\n",
       "    </tr>\n",
       "    <tr>\n",
       "      <th>3</th>\n",
       "      <td>2015</td>\n",
       "      <td>Volvo</td>\n",
       "      <td>S60</td>\n",
       "      <td>T5</td>\n",
       "      <td>Sedan</td>\n",
       "      <td>automatic</td>\n",
       "      <td>yv1612tb4f1310987</td>\n",
       "      <td>ca</td>\n",
       "      <td>41.0</td>\n",
       "      <td>14282.0</td>\n",
       "      <td>white</td>\n",
       "      <td>black</td>\n",
       "      <td>volvo na rep/world omni</td>\n",
       "      <td>27500.0</td>\n",
       "      <td>27750.0</td>\n",
       "      <td>Thu Jan 29 2015 04:30:00 GMT-0800 (PST)</td>\n",
       "    </tr>\n",
       "    <tr>\n",
       "      <th>4</th>\n",
       "      <td>2014</td>\n",
       "      <td>BMW</td>\n",
       "      <td>6 Series Gran Coupe</td>\n",
       "      <td>650i</td>\n",
       "      <td>Sedan</td>\n",
       "      <td>automatic</td>\n",
       "      <td>wba6b2c57ed129731</td>\n",
       "      <td>ca</td>\n",
       "      <td>43.0</td>\n",
       "      <td>2641.0</td>\n",
       "      <td>gray</td>\n",
       "      <td>black</td>\n",
       "      <td>financial services remarketing (lease)</td>\n",
       "      <td>66000.0</td>\n",
       "      <td>67000.0</td>\n",
       "      <td>Thu Dec 18 2014 12:30:00 GMT-0800 (PST)</td>\n",
       "    </tr>\n",
       "  </tbody>\n",
       "</table>\n",
       "</div>"
      ],
      "text/plain": [
       "   year   make                model        trim   body transmission  \\\n",
       "0  2015    Kia              Sorento          LX    SUV    automatic   \n",
       "1  2015    Kia              Sorento          LX    SUV    automatic   \n",
       "2  2014    BMW             3 Series  328i SULEV  Sedan    automatic   \n",
       "3  2015  Volvo                  S60          T5  Sedan    automatic   \n",
       "4  2014    BMW  6 Series Gran Coupe        650i  Sedan    automatic   \n",
       "\n",
       "                 vin state  condition  odometer  color interior  \\\n",
       "0  5xyktca69fg566472    ca        5.0   16639.0  white    black   \n",
       "1  5xyktca69fg561319    ca        5.0    9393.0  white    beige   \n",
       "2  wba3c1c51ek116351    ca       45.0    1331.0   gray    black   \n",
       "3  yv1612tb4f1310987    ca       41.0   14282.0  white    black   \n",
       "4  wba6b2c57ed129731    ca       43.0    2641.0   gray    black   \n",
       "\n",
       "                                   seller      mmr  sellingprice  \\\n",
       "0                 kia motors america  inc  20500.0       21500.0   \n",
       "1                 kia motors america  inc  20800.0       21500.0   \n",
       "2  financial services remarketing (lease)  31900.0       30000.0   \n",
       "3                 volvo na rep/world omni  27500.0       27750.0   \n",
       "4  financial services remarketing (lease)  66000.0       67000.0   \n",
       "\n",
       "                                  saledate  \n",
       "0  Tue Dec 16 2014 12:30:00 GMT-0800 (PST)  \n",
       "1  Tue Dec 16 2014 12:30:00 GMT-0800 (PST)  \n",
       "2  Thu Jan 15 2015 04:30:00 GMT-0800 (PST)  \n",
       "3  Thu Jan 29 2015 04:30:00 GMT-0800 (PST)  \n",
       "4  Thu Dec 18 2014 12:30:00 GMT-0800 (PST)  "
      ]
     },
     "execution_count": 10,
     "metadata": {},
     "output_type": "execute_result"
    }
   ],
   "source": [
    "data.head()"
   ]
  },
  {
   "cell_type": "markdown",
   "id": "0c6f9579-9934-44ca-953a-07d0ea508ecc",
   "metadata": {},
   "source": [
    "### Обработка пропусков в числовых данных"
   ]
  },
  {
   "cell_type": "code",
   "execution_count": 11,
   "id": "9abdc388-0563-4595-a232-e597e22c2008",
   "metadata": {},
   "outputs": [
    {
     "name": "stdout",
     "output_type": "stream",
     "text": [
      "Колонка condition. Тип данных float64. Количество пустых значений 11820, 2.12%.\n",
      "Колонка odometer. Тип данных float64. Количество пустых значений 94, 0.02%.\n",
      "Колонка mmr. Тип данных float64. Количество пустых значений 38, 0.01%.\n",
      "Колонка sellingprice. Тип данных float64. Количество пустых значений 12, 0.0%.\n"
     ]
    }
   ],
   "source": [
    "# Выберем числовые колонки с пропущенными значениями\n",
    "# Цикл по колонкам датасета\n",
    "num_cols = []\n",
    "for col in data.columns:\n",
    "    # Количество пустых значений \n",
    "    temp_null_count = data[data[col].isnull()].shape[0]\n",
    "    dt = str(data[col].dtype)\n",
    "    if temp_null_count>0 and (dt=='float64' or dt=='int64'):\n",
    "        num_cols.append(col)\n",
    "        temp_perc = round((temp_null_count / total_count) * 100.0, 2)\n",
    "        print('Колонка {}. Тип данных {}. Количество пустых значений {}, {}%.'.format(col, dt, temp_null_count, temp_perc))"
   ]
  },
  {
   "cell_type": "code",
   "execution_count": 12,
   "id": "d1cab596-40b4-4d56-a2a7-89332ae1a4c8",
   "metadata": {},
   "outputs": [
    {
     "data": {
      "text/html": [
       "<div>\n",
       "<style scoped>\n",
       "    .dataframe tbody tr th:only-of-type {\n",
       "        vertical-align: middle;\n",
       "    }\n",
       "\n",
       "    .dataframe tbody tr th {\n",
       "        vertical-align: top;\n",
       "    }\n",
       "\n",
       "    .dataframe thead th {\n",
       "        text-align: right;\n",
       "    }\n",
       "</style>\n",
       "<table border=\"1\" class=\"dataframe\">\n",
       "  <thead>\n",
       "    <tr style=\"text-align: right;\">\n",
       "      <th></th>\n",
       "      <th>condition</th>\n",
       "      <th>odometer</th>\n",
       "      <th>mmr</th>\n",
       "      <th>sellingprice</th>\n",
       "    </tr>\n",
       "  </thead>\n",
       "  <tbody>\n",
       "    <tr>\n",
       "      <th>0</th>\n",
       "      <td>5.0</td>\n",
       "      <td>16639.0</td>\n",
       "      <td>20500.0</td>\n",
       "      <td>21500.0</td>\n",
       "    </tr>\n",
       "    <tr>\n",
       "      <th>1</th>\n",
       "      <td>5.0</td>\n",
       "      <td>9393.0</td>\n",
       "      <td>20800.0</td>\n",
       "      <td>21500.0</td>\n",
       "    </tr>\n",
       "    <tr>\n",
       "      <th>2</th>\n",
       "      <td>45.0</td>\n",
       "      <td>1331.0</td>\n",
       "      <td>31900.0</td>\n",
       "      <td>30000.0</td>\n",
       "    </tr>\n",
       "    <tr>\n",
       "      <th>3</th>\n",
       "      <td>41.0</td>\n",
       "      <td>14282.0</td>\n",
       "      <td>27500.0</td>\n",
       "      <td>27750.0</td>\n",
       "    </tr>\n",
       "    <tr>\n",
       "      <th>4</th>\n",
       "      <td>43.0</td>\n",
       "      <td>2641.0</td>\n",
       "      <td>66000.0</td>\n",
       "      <td>67000.0</td>\n",
       "    </tr>\n",
       "    <tr>\n",
       "      <th>...</th>\n",
       "      <td>...</td>\n",
       "      <td>...</td>\n",
       "      <td>...</td>\n",
       "      <td>...</td>\n",
       "    </tr>\n",
       "    <tr>\n",
       "      <th>558832</th>\n",
       "      <td>45.0</td>\n",
       "      <td>18255.0</td>\n",
       "      <td>35300.0</td>\n",
       "      <td>33000.0</td>\n",
       "    </tr>\n",
       "    <tr>\n",
       "      <th>558833</th>\n",
       "      <td>5.0</td>\n",
       "      <td>54393.0</td>\n",
       "      <td>30200.0</td>\n",
       "      <td>30800.0</td>\n",
       "    </tr>\n",
       "    <tr>\n",
       "      <th>558834</th>\n",
       "      <td>48.0</td>\n",
       "      <td>50561.0</td>\n",
       "      <td>29800.0</td>\n",
       "      <td>34000.0</td>\n",
       "    </tr>\n",
       "    <tr>\n",
       "      <th>558835</th>\n",
       "      <td>38.0</td>\n",
       "      <td>16658.0</td>\n",
       "      <td>15100.0</td>\n",
       "      <td>11100.0</td>\n",
       "    </tr>\n",
       "    <tr>\n",
       "      <th>558836</th>\n",
       "      <td>34.0</td>\n",
       "      <td>15008.0</td>\n",
       "      <td>29600.0</td>\n",
       "      <td>26700.0</td>\n",
       "    </tr>\n",
       "  </tbody>\n",
       "</table>\n",
       "<p>558837 rows × 4 columns</p>\n",
       "</div>"
      ],
      "text/plain": [
       "        condition  odometer      mmr  sellingprice\n",
       "0             5.0   16639.0  20500.0       21500.0\n",
       "1             5.0    9393.0  20800.0       21500.0\n",
       "2            45.0    1331.0  31900.0       30000.0\n",
       "3            41.0   14282.0  27500.0       27750.0\n",
       "4            43.0    2641.0  66000.0       67000.0\n",
       "...           ...       ...      ...           ...\n",
       "558832       45.0   18255.0  35300.0       33000.0\n",
       "558833        5.0   54393.0  30200.0       30800.0\n",
       "558834       48.0   50561.0  29800.0       34000.0\n",
       "558835       38.0   16658.0  15100.0       11100.0\n",
       "558836       34.0   15008.0  29600.0       26700.0\n",
       "\n",
       "[558837 rows x 4 columns]"
      ]
     },
     "execution_count": 12,
     "metadata": {},
     "output_type": "execute_result"
    }
   ],
   "source": [
    "# Фильтр по колонкам с пропущенными значениями\n",
    "data_num = data[num_cols]\n",
    "data_num"
   ]
  },
  {
   "cell_type": "code",
   "execution_count": 13,
   "id": "9939b68b-ba42-4e2d-8bf3-f05ffc9b29fd",
   "metadata": {},
   "outputs": [
    {
     "data": {
      "image/png": "[encoded data removed]",
      "text/plain": [
       "<Figure size 640x480 with 1 Axes>"
      ]
     },
     "metadata": {},
     "output_type": "display_data"
    },
    {
     "data": {
      "image/png": "[encoded data removed]",
      "text/plain": [
       "<Figure size 640x480 with 1 Axes>"
      ]
     },
     "metadata": {},
     "output_type": "display_data"
    },
    {
     "data": {
      "image/png": "[encoded data removed]",
      "text/plain": [
       "<Figure size 640x480 with 1 Axes>"
      ]
     },
     "metadata": {},
     "output_type": "display_data"
    },
    {
     "data": {
      "image/png": "[encoded data removed]",
      "text/plain": [
       "<Figure size 640x480 with 1 Axes>"
      ]
     },
     "metadata": {},
     "output_type": "display_data"
    }
   ],
   "source": [
    "# Гистограмма по признакам\n",
    "for col in data_num:\n",
    "    plt.hist(data[col], 50)\n",
    "    plt.xlabel(col)\n",
    "    plt.show()"
   ]
  },
  {
   "cell_type": "code",
   "execution_count": 14,
   "id": "f25f4c66-4aca-4ee5-a326-6ef21983242e",
   "metadata": {},
   "outputs": [],
   "source": [
    "from sklearn.impute import SimpleImputer\n",
    "from sklearn.impute import MissingIndicator"
   ]
  },
  {
   "cell_type": "code",
   "execution_count": 15,
   "id": "accc1da0-995a-45bc-9c0d-c8ff0d0addd9",
   "metadata": {},
   "outputs": [],
   "source": [
    "strategies=['mean', 'median', 'most_frequent']"
   ]
  },
  {
   "cell_type": "code",
   "execution_count": 16,
   "id": "934b60f3-a8d7-4e9e-8811-8f1a5acb86ec",
   "metadata": {},
   "outputs": [],
   "source": [
    "# Более сложная функция, которая позволяет задавать колонку и вид импьютации\n",
    "def test_num_impute_col(dataset, column, strategy_param):\n",
    "    temp_data = dataset[[column]]\n",
    "    \n",
    "    indicator = MissingIndicator()\n",
    "    mask_missing_values_only = indicator.fit_transform(temp_data)\n",
    "    \n",
    "    imp_num = SimpleImputer(strategy=strategy_param)\n",
    "    data_num_imp = imp_num.fit_transform(temp_data)\n",
    "    \n",
    "    filled_data = data_num_imp[mask_missing_values_only]\n",
    "    return column, strategy_param, filled_data.size, filled_data[0], filled_data[filled_data.size-1]"
   ]
  },
  {
   "cell_type": "code",
   "execution_count": 17,
   "id": "fac73c32-8f76-4caa-99c9-4c831b571fc4",
   "metadata": {},
   "outputs": [
    {
     "data": {
      "text/plain": [
       "('condition', 'mean', 11820, 30.672364844237016, 30.672364844237016)"
      ]
     },
     "execution_count": 17,
     "metadata": {},
     "output_type": "execute_result"
    }
   ],
   "source": [
    "test_num_impute_col(data, 'condition', strategies[0])"
   ]
  },
  {
   "cell_type": "code",
   "execution_count": 18,
   "id": "83581b49-b99a-42a2-8284-9e53bfbe423a",
   "metadata": {},
   "outputs": [
    {
     "data": {
      "text/plain": [
       "('condition', 'median', 11820, 35.0, 35.0)"
      ]
     },
     "execution_count": 18,
     "metadata": {},
     "output_type": "execute_result"
    }
   ],
   "source": [
    "test_num_impute_col(data, 'condition', strategies[1])"
   ]
  },
  {
   "cell_type": "code",
   "execution_count": 19,
   "id": "eead0b89-cba7-4e6d-b57c-7e259f7a369d",
   "metadata": {},
   "outputs": [
    {
     "data": {
      "text/plain": [
       "('condition', 'most_frequent', 11820, 19.0, 19.0)"
      ]
     },
     "execution_count": 19,
     "metadata": {},
     "output_type": "execute_result"
    }
   ],
   "source": [
    "test_num_impute_col(data, 'condition', strategies[2])"
   ]
  },
  {
   "cell_type": "markdown",
   "id": "de4e36ee-8cb6-4498-9794-3ea4a41dd3e7",
   "metadata": {},
   "source": [
    "**Вывод:** Посмотрев на диграмму, можно заметить, что лучше всего заменять пропущенные значения на значения медианы или моды, так как при такой замене гистограмма значений не особо изменится, следовательно и набор данных в данной колонке не испортится. Если мы сделаем замену на моду, то получим чуть больше значений 19, но это не повлияет на весь набор, так как строк со значением condition, равным 19, значительно больше, чем остальных. Похожая ситуация будет, если мы заменим пропущенные значения на медиану: так как в области со значение condition, близком 35, значительное количество строк, то зависимости, связанные с данным столбцом, не должны значительно поменяться."
   ]
  },
  {
   "cell_type": "code",
   "execution_count": 60,
   "id": "4b5012b4-72a5-4fbe-bec7-c283deed4bec",
   "metadata": {},
   "outputs": [],
   "source": [
    "data.fillna({'condition': 19}, inplace=True)"
   ]
  },
  {
   "cell_type": "code",
   "execution_count": 61,
   "id": "717b0861-411f-4e7e-b9f4-b7897fa0c6f5",
   "metadata": {},
   "outputs": [
    {
     "data": {
      "text/plain": [
       "('odometer', 'mean', 94, 68320.01776666554, 68320.01776666554)"
      ]
     },
     "execution_count": 61,
     "metadata": {},
     "output_type": "execute_result"
    }
   ],
   "source": [
    "test_num_impute_col(data, 'odometer', strategies[0])"
   ]
  },
  {
   "cell_type": "code",
   "execution_count": 62,
   "id": "e8272db4-c8fb-4ef3-93a7-31b145449bf7",
   "metadata": {},
   "outputs": [
    {
     "data": {
      "text/plain": [
       "('odometer', 'median', 94, 52254.0, 52254.0)"
      ]
     },
     "execution_count": 62,
     "metadata": {},
     "output_type": "execute_result"
    }
   ],
   "source": [
    "test_num_impute_col(data, 'odometer', strategies[1])"
   ]
  },
  {
   "cell_type": "code",
   "execution_count": 63,
   "id": "588c3c82-94b3-4deb-b281-615a83d77311",
   "metadata": {},
   "outputs": [
    {
     "data": {
      "text/plain": [
       "('odometer', 'most_frequent', 94, 1.0, 1.0)"
      ]
     },
     "execution_count": 63,
     "metadata": {},
     "output_type": "execute_result"
    }
   ],
   "source": [
    "test_num_impute_col(data, 'odometer', strategies[2])"
   ]
  },
  {
   "cell_type": "markdown",
   "id": "93e33d7d-c22a-4eb3-b9ea-32f936a18f1b",
   "metadata": {},
   "source": [
    "**Вывод:** Посмотрев на диаграмму, можно сказать, что замена средним наиболее предпочтительна, так как значение, получаемое с помощью среднего наиболее близкое к пику гистограммы, хотя по сравнению с общим числом строк число строк с пропусками настолько мало, что данными 94 строками можно пренебречь."
   ]
  },
  {
   "cell_type": "code",
   "execution_count": 28,
   "id": "e15494b6-3e8c-4800-95e4-86aec7640057",
   "metadata": {},
   "outputs": [
    {
     "data": {
      "text/plain": [
       "('mmr', 'mean', 38, 13769.377495306899, 13769.377495306899)"
      ]
     },
     "execution_count": 28,
     "metadata": {},
     "output_type": "execute_result"
    }
   ],
   "source": [
    "test_num_impute_col(data, 'mmr', strategies[0])"
   ]
  },
  {
   "cell_type": "code",
   "execution_count": 29,
   "id": "5fb5c94f-1875-4238-8bc4-1d549bc94083",
   "metadata": {},
   "outputs": [
    {
     "data": {
      "text/plain": [
       "('mmr', 'median', 38, 12250.0, 12250.0)"
      ]
     },
     "execution_count": 29,
     "metadata": {},
     "output_type": "execute_result"
    }
   ],
   "source": [
    "test_num_impute_col(data, 'mmr', strategies[1])"
   ]
  },
  {
   "cell_type": "code",
   "execution_count": 30,
   "id": "ddb727e2-04b2-459a-bc5f-4fd3c35703e9",
   "metadata": {},
   "outputs": [
    {
     "data": {
      "text/plain": [
       "('mmr', 'most_frequent', 38, 12500.0, 12500.0)"
      ]
     },
     "execution_count": 30,
     "metadata": {},
     "output_type": "execute_result"
    }
   ],
   "source": [
    "test_num_impute_col(data, 'mmr', strategies[2])"
   ]
  },
  {
   "cell_type": "markdown",
   "id": "2672c696-953a-4b50-bf06-e882b06f1b8e",
   "metadata": {},
   "source": [
    "**Вывод:** Посмотрев на диаграмму, можно сделать вывод, что наиболее подходящее значение для замены мы получаем с помощью моды, но значений с пропусками настолько мало, что проще ими пренебречь."
   ]
  },
  {
   "cell_type": "code",
   "execution_count": 31,
   "id": "b8464ef1-e0cf-44ac-a511-e44b52f033be",
   "metadata": {},
   "outputs": [
    {
     "data": {
      "text/plain": [
       "('sellingprice', 'mean', 12, 13611.358810003132, 13611.358810003132)"
      ]
     },
     "execution_count": 31,
     "metadata": {},
     "output_type": "execute_result"
    }
   ],
   "source": [
    "test_num_impute_col(data, 'sellingprice', strategies[0])"
   ]
  },
  {
   "cell_type": "code",
   "execution_count": 32,
   "id": "eb214514-e3d1-4fbd-afc2-09fb0565f2b6",
   "metadata": {},
   "outputs": [
    {
     "data": {
      "text/plain": [
       "('sellingprice', 'median', 12, 12100.0, 12100.0)"
      ]
     },
     "execution_count": 32,
     "metadata": {},
     "output_type": "execute_result"
    }
   ],
   "source": [
    "test_num_impute_col(data, 'sellingprice', strategies[1])"
   ]
  },
  {
   "cell_type": "code",
   "execution_count": 33,
   "id": "8e711730-aa83-4293-abe9-8f72cacd8db3",
   "metadata": {},
   "outputs": [
    {
     "data": {
      "text/plain": [
       "('sellingprice', 'most_frequent', 12, 11000.0, 11000.0)"
      ]
     },
     "execution_count": 33,
     "metadata": {},
     "output_type": "execute_result"
    }
   ],
   "source": [
    "test_num_impute_col(data, 'sellingprice', strategies[2])"
   ]
  },
  {
   "cell_type": "markdown",
   "id": "07608285-372d-4013-822c-d60510285379",
   "metadata": {},
   "source": [
    "**Вывод:** Значений с пропусками по сравнению с общим числов значений пренебрежимо мало, поэтому мы пренебрегаем ими и удаляем."
   ]
  },
  {
   "cell_type": "markdown",
   "id": "6b1e5740-87af-422b-8dce-2f079e9341ec",
   "metadata": {},
   "source": [
    "### Обработка пропусков в категориальных данных"
   ]
  },
  {
   "cell_type": "code",
   "execution_count": 34,
   "id": "d98a7090-41fe-41dc-a032-95af5f77e7da",
   "metadata": {},
   "outputs": [
    {
     "name": "stdout",
     "output_type": "stream",
     "text": [
      "Колонка make. Тип данных object. Количество пустых значений 10301, 1.84%.\n",
      "Колонка model. Тип данных object. Количество пустых значений 10399, 1.86%.\n",
      "Колонка trim. Тип данных object. Количество пустых значений 10651, 1.91%.\n",
      "Колонка body. Тип данных object. Количество пустых значений 13195, 2.36%.\n",
      "Колонка transmission. Тип данных object. Количество пустых значений 65352, 11.69%.\n",
      "Колонка vin. Тип данных object. Количество пустых значений 4, 0.0%.\n",
      "Колонка color. Тип данных object. Количество пустых значений 749, 0.13%.\n",
      "Колонка interior. Тип данных object. Количество пустых значений 749, 0.13%.\n",
      "Колонка saledate. Тип данных object. Количество пустых значений 12, 0.0%.\n"
     ]
    }
   ],
   "source": [
    "# Выберем категориальные колонки с пропущенными значениями\n",
    "# Цикл по колонкам датасета\n",
    "cat_cols = []\n",
    "for col in data.columns:\n",
    "    # Количество пустых значений \n",
    "    temp_null_count = data[data[col].isnull()].shape[0]\n",
    "    dt = str(data[col].dtype)\n",
    "    if temp_null_count>0 and (dt=='object'):\n",
    "        cat_cols.append(col)\n",
    "        temp_perc = round((temp_null_count / total_count) * 100.0, 2)\n",
    "        print('Колонка {}. Тип данных {}. Количество пустых значений {}, {}%.'.format(col, dt, temp_null_count, temp_perc))\n"
   ]
  },
  {
   "cell_type": "markdown",
   "id": "3a21df0b-1170-4177-bd1f-96b2df8e7c83",
   "metadata": {},
   "source": [
    "Колонки vin, color, inerior, saledate рассматривать не будем, так как количество пустых значений в них пренебрежимо мало по сравнению с общим количеством строк в таблице."
   ]
  },
  {
   "cell_type": "code",
   "execution_count": 35,
   "id": "c054aa3e-316a-465f-b7b3-484fba63f78c",
   "metadata": {},
   "outputs": [
    {
     "data": {
      "text/html": [
       "<div>\n",
       "<style scoped>\n",
       "    .dataframe tbody tr th:only-of-type {\n",
       "        vertical-align: middle;\n",
       "    }\n",
       "\n",
       "    .dataframe tbody tr th {\n",
       "        vertical-align: top;\n",
       "    }\n",
       "\n",
       "    .dataframe thead th {\n",
       "        text-align: right;\n",
       "    }\n",
       "</style>\n",
       "<table border=\"1\" class=\"dataframe\">\n",
       "  <thead>\n",
       "    <tr style=\"text-align: right;\">\n",
       "      <th></th>\n",
       "      <th>make</th>\n",
       "    </tr>\n",
       "  </thead>\n",
       "  <tbody>\n",
       "    <tr>\n",
       "      <th>0</th>\n",
       "      <td>Kia</td>\n",
       "    </tr>\n",
       "    <tr>\n",
       "      <th>1</th>\n",
       "      <td>Kia</td>\n",
       "    </tr>\n",
       "    <tr>\n",
       "      <th>2</th>\n",
       "      <td>BMW</td>\n",
       "    </tr>\n",
       "    <tr>\n",
       "      <th>3</th>\n",
       "      <td>Volvo</td>\n",
       "    </tr>\n",
       "    <tr>\n",
       "      <th>4</th>\n",
       "      <td>BMW</td>\n",
       "    </tr>\n",
       "  </tbody>\n",
       "</table>\n",
       "</div>"
      ],
      "text/plain": [
       "    make\n",
       "0    Kia\n",
       "1    Kia\n",
       "2    BMW\n",
       "3  Volvo\n",
       "4    BMW"
      ]
     },
     "execution_count": 35,
     "metadata": {},
     "output_type": "execute_result"
    }
   ],
   "source": [
    "cat_temp_data = data[['make']]\n",
    "cat_temp_data.head()"
   ]
  },
  {
   "cell_type": "code",
   "execution_count": 36,
   "id": "a621f1a7-b100-49a1-b0b3-cc1a635774ed",
   "metadata": {},
   "outputs": [
    {
     "data": {
      "text/plain": [
       "array(['Kia', 'BMW', 'Volvo', 'Nissan', 'Chevrolet', 'Audi', 'Ford',\n",
       "       'Hyundai', 'Buick', 'Cadillac', 'Acura', 'Lexus', 'Infiniti',\n",
       "       'Jeep', 'Mercedes-Benz', 'Mitsubishi', 'Mazda', 'MINI',\n",
       "       'Land Rover', 'Lincoln', 'lincoln', 'Jaguar', 'Volkswagen',\n",
       "       'Toyota', 'Subaru', 'Scion', 'Porsche', nan, 'bmw', 'Dodge',\n",
       "       'FIAT', 'Chrysler', 'ford', 'Ferrari', 'Honda', 'GMC',\n",
       "       'mitsubishi', 'Ram', 'smart', 'chevrolet', 'Bentley', 'chrysler',\n",
       "       'pontiac', 'Pontiac', 'Saturn', 'Maserati', 'Mercury', 'HUMMER',\n",
       "       'landrover', 'cadillac', 'land rover', 'mercedes', 'mazda',\n",
       "       'toyota', 'lexus', 'gmc truck', 'honda', 'nissan', 'porsche',\n",
       "       'Saab', 'Suzuki', 'dodge', 'subaru', 'Oldsmobile', 'oldsmobile',\n",
       "       'hyundai', 'jeep', 'Isuzu', 'dodge tk', 'Geo', 'acura',\n",
       "       'volkswagen', 'suzuki', 'kia', 'audi', 'Rolls-Royce', 'gmc',\n",
       "       'maserati', 'mazda tk', 'mercury', 'buick', 'hyundai tk',\n",
       "       'mercedes-b', 'vw', 'Daewoo', 'chev truck', 'ford tk', 'plymouth',\n",
       "       'Plymouth', 'ford truck', 'Tesla', 'airstream', 'dot',\n",
       "       'Aston Martin', 'Fisker', 'Lamborghini', 'Lotus'], dtype=object)"
      ]
     },
     "execution_count": 36,
     "metadata": {},
     "output_type": "execute_result"
    }
   ],
   "source": [
    "cat_temp_data['make'].unique()"
   ]
  },
  {
   "cell_type": "code",
   "execution_count": 37,
   "id": "8ba8dc66-8939-40ab-9c21-e9ac7eee1f9c",
   "metadata": {},
   "outputs": [
    {
     "data": {
      "text/plain": [
       "(10301, 1)"
      ]
     },
     "execution_count": 37,
     "metadata": {},
     "output_type": "execute_result"
    }
   ],
   "source": [
    "cat_temp_data[cat_temp_data['make'].isnull()].shape"
   ]
  },
  {
   "cell_type": "code",
   "execution_count": 38,
   "id": "59a35ad2-7e2d-40df-add3-436f64066ab3",
   "metadata": {},
   "outputs": [
    {
     "data": {
      "text/plain": [
       "array([['Kia'],\n",
       "       ['Kia'],\n",
       "       ['BMW'],\n",
       "       ...,\n",
       "       ['BMW'],\n",
       "       ['Nissan'],\n",
       "       ['Ford']], dtype=object)"
      ]
     },
     "execution_count": 38,
     "metadata": {},
     "output_type": "execute_result"
    }
   ],
   "source": [
    "# Импьютация наиболее частыми значениями\n",
    "imp2 = SimpleImputer(missing_values=np.nan, strategy='most_frequent')\n",
    "data_imp2 = imp2.fit_transform(cat_temp_data)\n",
    "data[['make']] = data_imp2\n",
    "data_imp2"
   ]
  },
  {
   "cell_type": "code",
   "execution_count": 39,
   "id": "814f0d5d-a331-44a2-a493-336f5364870f",
   "metadata": {},
   "outputs": [
    {
     "data": {
      "text/plain": [
       "array(['Acura', 'Aston Martin', 'Audi', 'BMW', 'Bentley', 'Buick',\n",
       "       'Cadillac', 'Chevrolet', 'Chrysler', 'Daewoo', 'Dodge', 'FIAT',\n",
       "       'Ferrari', 'Fisker', 'Ford', 'GMC', 'Geo', 'HUMMER', 'Honda',\n",
       "       'Hyundai', 'Infiniti', 'Isuzu', 'Jaguar', 'Jeep', 'Kia',\n",
       "       'Lamborghini', 'Land Rover', 'Lexus', 'Lincoln', 'Lotus', 'MINI',\n",
       "       'Maserati', 'Mazda', 'Mercedes-Benz', 'Mercury', 'Mitsubishi',\n",
       "       'Nissan', 'Oldsmobile', 'Plymouth', 'Pontiac', 'Porsche', 'Ram',\n",
       "       'Rolls-Royce', 'Saab', 'Saturn', 'Scion', 'Subaru', 'Suzuki',\n",
       "       'Tesla', 'Toyota', 'Volkswagen', 'Volvo', 'acura', 'airstream',\n",
       "       'audi', 'bmw', 'buick', 'cadillac', 'chev truck', 'chevrolet',\n",
       "       'chrysler', 'dodge', 'dodge tk', 'dot', 'ford', 'ford tk',\n",
       "       'ford truck', 'gmc', 'gmc truck', 'honda', 'hyundai', 'hyundai tk',\n",
       "       'jeep', 'kia', 'land rover', 'landrover', 'lexus', 'lincoln',\n",
       "       'maserati', 'mazda', 'mazda tk', 'mercedes', 'mercedes-b',\n",
       "       'mercury', 'mitsubishi', 'nissan', 'oldsmobile', 'plymouth',\n",
       "       'pontiac', 'porsche', 'smart', 'subaru', 'suzuki', 'toyota',\n",
       "       'volkswagen', 'vw'], dtype=object)"
      ]
     },
     "execution_count": 39,
     "metadata": {},
     "output_type": "execute_result"
    }
   ],
   "source": [
    "np.unique(data_imp2)"
   ]
  },
  {
   "cell_type": "code",
   "execution_count": 40,
   "id": "92b6b5ee-5ddf-4112-b6bd-b3b5f332fb40",
   "metadata": {},
   "outputs": [
    {
     "data": {
      "text/html": [
       "<div>\n",
       "<style scoped>\n",
       "    .dataframe tbody tr th:only-of-type {\n",
       "        vertical-align: middle;\n",
       "    }\n",
       "\n",
       "    .dataframe tbody tr th {\n",
       "        vertical-align: top;\n",
       "    }\n",
       "\n",
       "    .dataframe thead th {\n",
       "        text-align: right;\n",
       "    }\n",
       "</style>\n",
       "<table border=\"1\" class=\"dataframe\">\n",
       "  <thead>\n",
       "    <tr style=\"text-align: right;\">\n",
       "      <th></th>\n",
       "      <th>model</th>\n",
       "    </tr>\n",
       "  </thead>\n",
       "  <tbody>\n",
       "    <tr>\n",
       "      <th>0</th>\n",
       "      <td>Sorento</td>\n",
       "    </tr>\n",
       "    <tr>\n",
       "      <th>1</th>\n",
       "      <td>Sorento</td>\n",
       "    </tr>\n",
       "    <tr>\n",
       "      <th>2</th>\n",
       "      <td>3 Series</td>\n",
       "    </tr>\n",
       "    <tr>\n",
       "      <th>3</th>\n",
       "      <td>S60</td>\n",
       "    </tr>\n",
       "    <tr>\n",
       "      <th>4</th>\n",
       "      <td>6 Series Gran Coupe</td>\n",
       "    </tr>\n",
       "  </tbody>\n",
       "</table>\n",
       "</div>"
      ],
      "text/plain": [
       "                 model\n",
       "0              Sorento\n",
       "1              Sorento\n",
       "2             3 Series\n",
       "3                  S60\n",
       "4  6 Series Gran Coupe"
      ]
     },
     "execution_count": 40,
     "metadata": {},
     "output_type": "execute_result"
    }
   ],
   "source": [
    "cat_temp_data = data[['model']]\n",
    "cat_temp_data.head()"
   ]
  },
  {
   "cell_type": "code",
   "execution_count": 41,
   "id": "68a9cac1-3c1e-4be2-9573-0bb3313689f1",
   "metadata": {},
   "outputs": [
    {
     "data": {
      "text/plain": [
       "array(['Sorento', '3 Series', 'S60', '6 Series Gran Coupe', 'Altima',\n",
       "       'M5', 'Cruze', 'A4', 'Camaro', 'A6', 'Optima', 'Fusion', 'Sonata',\n",
       "       'Q5', '6 Series', 'Impala', '5 Series', 'A3', 'XC70', 'X5', 'SQ5',\n",
       "       'S5', 'Verano', 'Suburban', 'ELR', 'V60', 'X6', 'ILX', 'K900',\n",
       "       'Malibu', 'RX 350', 'Versa', 'Elantra', 'Versa Note', 'A8', 'X1',\n",
       "       nan, 'Enclave', 'TTS', '4 Series', 'Silverado 2500HD', 'MDX',\n",
       "       'Silverado 1500', 'SRX', 'G Coupe', 'G Sedan', 'FX', 'Santa Fe',\n",
       "       'Genesis', 'Equus', 'Sonata Hybrid', 'Accent', 'Veloster',\n",
       "       'Elantra Coupe', 'Azera', 'Tucson', 'Genesis Coupe', 'Wrangler',\n",
       "       'S-Class', 'GS 350', 'Outlander', 'C-Class', 'Mazda2', 'Rio', 'M',\n",
       "       '370Z', 'Soul', 'Outlander Sport', 'SLK-Class', 'ES 350',\n",
       "       'E-Class', 'Mazda3', 'Cooper Clubman', 'Cooper', 'CX-9', 'Forte',\n",
       "       'Compass', 'JX', 'RX 450h', 'LR4', 'Mazda5', 'Range Rover Evoque',\n",
       "       'LS 460', 'GLK-Class', 'Sportage', 'Grand Cherokee', 'MKX', 'mkt',\n",
       "       'XF', 'GL-Class', 'M-Class', 'Cooper Countryman', 'Lancer',\n",
       "       'Range Rover Sport', 'Passat', 'Corolla', 'XC60', 'Sienna', 'Juke',\n",
       "       'Yaris', 'Sentra', 'Rogue', 'NV', 'CC', 'Leaf', 'Camry', 'Tacoma',\n",
       "       'Jetta', 'Impreza WRX', 'FJ Cruiser', 'Beetle', 'Avalon', 'FR-S',\n",
       "       'NV200', 'RAV4', 'Quest', 'Tundra', 'tC', 'Maxima', 'Cayenne',\n",
       "       '911', 'Xterra', 'Prius', 'S80', 'Frontier', 'Boxster',\n",
       "       'Camry Hybrid', 'xB', 'Cube', 'Jetta SportWagen', '4Runner',\n",
       "       'Sequoia', 'Legacy', 'Armada', 'Venza', 'Murano', 'Pathfinder',\n",
       "       'Panamera', 'Forester', 'Highlander', 'Impreza', '750i', 'TSX',\n",
       "       '7 Series', '1 Series', 'TL', '750li', 'S4', 'A7', 'A5', 'RDX',\n",
       "       'M3', 'Cooper Coupe', 'ZDX', 'R8', 'X3', 'Avenger',\n",
       "       'E-Series Wagon', 'Escape', 'Edge', 'Focus', 'Flex', 'Z4',\n",
       "       'Traverse', 'F-350 Super Duty', 'Fiesta', '500', '200', 'Journey',\n",
       "       'Charger', 'e350', 'Equinox', '300', 'F-150', 'Explorer',\n",
       "       'Captiva Sport', 'Escalade', 'Grand Caravan', 'CTS Coupe',\n",
       "       'Town and Country', 'E-Series Van', 'Volt', 'Express Cargo',\n",
       "       'e150', 'X5 M', 'Expedition', 'Colorado', 'Express', 'California',\n",
       "       'Escalade ESV', 'Sonic', 'Accord', 'CR-V', 'Mustang', 'Civic',\n",
       "       'Fit', 'Pilot', 'Odyssey', 'Crosstour', 'Transit Connect',\n",
       "       'Terrain', 'Taurus', 'G Convertible', 'Yukon', 'Veracruz', 'XJ',\n",
       "       'Liberty', 'IS 250', 'XK', 'QX', 'CT 200h', 'Mazda6', 'MKZ',\n",
       "       'Navigator', 'Range Rover', 'SL-Class', 'Sedona', 'IS 350',\n",
       "       'Patriot', 'galant', '1500', 'GT-R', '2500', 'Galant', 'fortwo',\n",
       "       'GLI', '5 Series Gran Turismo', 'XC90', 'Tiguan', 'GTI', 'Q7',\n",
       "       'Highlander Hybrid', 'Prius Plug-in', 'CR-Z', 'EX', 'Sierra 1500',\n",
       "       'LaCrosse', 'HHR', 'Accord Crosstour', 'CTS', 'Nitro', 'Tahoe',\n",
       "       'Challenger', 'CTS-V', 'Escape Hybrid', 'X6 M', 'Ranger',\n",
       "       'Insight', 'Fusion Hybrid', 'CTS-V Coupe', 'F-250 Super Duty',\n",
       "       'Acadia', 'Impala Limited', 'Dart', 'Spark', 'M37', 'Sprinter',\n",
       "       'Town Car', 'CLS-Class', 'CX-7', 'MKT', 'QX56', 'Aveo', 'Outback',\n",
       "       'Caliber', 'Routan', 'g1500', 'Sebring', 'Corvette',\n",
       "       'Continental GT Speed', 'malibu', 'Land Cruiser', 'town', 'V50',\n",
       "       'Commander', 'Altima Hybrid', 'G37 Convertible', 'g6',\n",
       "       'New Beetle', 'Golf', 'LR2', 'Lancer Sportback', 'G5', 'Yukon XL',\n",
       "       'Escalade Hybrid', 'Avalanche', 'Titan', 'Spectra', 'Rondo',\n",
       "       'Borrego', 'G-Class', 'MKS', 'CLK-Class', 'Tahoe Hybrid',\n",
       "       'Econoline Cargo', 'Econoline Wagon', 'PT Cruiser', 'STS',\n",
       "       'Ridgeline', 'F-450 Super Duty', 'Magnum', 'Durango', 'S40',\n",
       "       'Malibu Classic', 'TT', 'Taurus X', 'Explorer Sport Trac',\n",
       "       'Ram Pickup 1500', 'impala', 'Cobalt', 'Pacifica', 'S6', 'Rabbit',\n",
       "       'C70', 'Sierra 2500HD', 'C30', 'VUE', 'GranTurismo', 'G6',\n",
       "       'Grand Prix', '350Z', 'Raider', 'Mazdaspeed Mazda3', 'Solstice',\n",
       "       'Milan', 'GX 470', 'Aura', 'RX 400h', 'Matrix', 'H3', 'CL-Class',\n",
       "       'Outlook', '7', 'G37', 'IS F', 'Touareg 2', 'Lancer Evolution',\n",
       "       'G35', 'xD', 'XJ-Series', 'G8', 'hhr', 'H2', 'DTS', 'lr3', 'sts',\n",
       "       'Silverado 1500 Classic', 'M45', 'Uplander', 'GS 450h', 'corvette',\n",
       "       'rangerover', 'Rendezvous', 'Monte Carlo', 'FX35', 'range', 'ION',\n",
       "       'R-Class', 'lancer', 'Eclipse', 'c230wz', 'cx-7', 'B9 Tribeca',\n",
       "       'matrix', 'tundra', 'RSX', 'mazda5', 'Mariner', 'gx',\n",
       "       'Five Hundred', 'Envoy XL', 'S-Type', 'Element',\n",
       "       'Continental Flying Spur', 'S2000', 'FX45', 'sr', 'pilot',\n",
       "       'GS 430', 'Cayman S', 'Mark LT', 'ES 330', 'GS 300', '350z',\n",
       "       'Camry Solara', 'rx8', 'Touareg', 'Relay', 'lx', 'allroad quattro',\n",
       "       '9-3', '500L', 'C-Max Hybrid', 'pacifica', 'Freestyle',\n",
       "       'Ram Pickup 3500', 'Sprinter Cargo', 'DeVille', 'H2 SUT',\n",
       "       'TrailBlazer', 'Canyon', 'srx', 'Dakota', 'Continental GT', 'Neon',\n",
       "       'Stratus', 'Q45', 'Freestar', 'Montana', 'Grand Marquis', 'XLR',\n",
       "       'Aviator', 'g55', 'MPV', 'LS 430', 'Verona', 'Forenza', 'RX 330',\n",
       "       '300M', 'SC 430', 'discovery', 'Excursion', 'Envoy XUV', 'Envoy',\n",
       "       'Concorde', 'Monterey', 'stratus', 'Mountaineer', 'Amanti',\n",
       "       'Malibu Maxx', 'Celica', 'Grand Am', 'Endeavor', 'Marauder',\n",
       "       'escape', 'QX4', 'LS', 'Blazer', 'Ram Pickup 2500', 'LeSabre',\n",
       "       'V40', 'Mazdaspeed Protege', 'Montero', 'ES 300', 'focus',\n",
       "       'Thunderbird', 'Century', 'Cavalier', 'Venture', 'S-10', 's55',\n",
       "       'Cougar', 'XL-7', 'Windstar', 'Silverado 1500HD', 'Explorer Sport',\n",
       "       'Savana Cargo', 'X-Type', 'Sonoma', 'IS 300', 'forester',\n",
       "       'Protege5', 'sprinter', 'RL', 'Alero', 'Grand Vitara', 'RX 300',\n",
       "       'L-Series', 'V70', 'Intrigue', 'XC', 'Discovery Series II',\n",
       "       'S-Series', 'alero', 'santa', 'ECHO', 'MX-5 Miata', 'Continental',\n",
       "       'Seville', 'camry', 'Park Avenue', 'Millenia', 'I30', 'gr',\n",
       "       'sienna', 'camaro', 'Cherokee', 'Z3', 'civic', 'ram', 'odyssey',\n",
       "       'taurus', 'expedition', 'Prizm', 'Escort', 's10', 'LHS',\n",
       "       'windstar', 'f250', 'Regal', 'explorer', 'G20', 'Bonneville',\n",
       "       'Eldorado', 'voyager', 'venture', 'durango', 'Intrepid', 'Contour',\n",
       "       'S90', 'Sunfire', 'mpv', 'caravan', '200SX', 'Rodeo', 'wrangler',\n",
       "       'f150', 'Tercel', 'S70', 'Discovery', 'Mustang SVT Cobra', '300e',\n",
       "       'pickup', 'ciera', 'Legend', 'LS 400', 'Cutlass Ciera',\n",
       "       'Santa Fe Sport', 'Cadenza', 'Q50', 'Elantra GT', 'F-TYPE',\n",
       "       'Shelby GT500', 'QX70', 'QX60', 'Q60 Convertible',\n",
       "       'Cooper Roadster', 'CX-5', 'Cooper Paceman', 'Rogue Select',\n",
       "       'Cayman', 'CLA-Class', 'allroad', 'ATS', 'Prius v',\n",
       "       'Continental GTC', 'XV Crosstrek', '3500', 'C-Max Energi',\n",
       "       'Focus ST', 'RS 7', 'GX 460', 'CTS Wagon', 'SLS AMG', 'Aspen',\n",
       "       'Eclipse Spyder', 'Vibe', 'Eos', 'Entourage', 'expeditn', 'rl',\n",
       "       'Caravan', 'Quattroporte', 'M35', '9-5', 'SSR', 'Astro Cargo',\n",
       "       'Safari Cargo', 'passat', 'Tribute', 'Diamante', 'Sable',\n",
       "       'Silverado 3500', 'Phaeton', 'R32', 'I35', 'g500', 'Bravada',\n",
       "       'Tahoe Limited/Z71', 'Truck', 'C/K 1500 Series', 'grand', 'SC 300',\n",
       "       'Roadmaster', 'SC 400', '420sel', 'LX 570', 'QX80', 'RS 5',\n",
       "       'Jetta GLI', 'ES 300h', 'capt', 'M4', 'SX4', 'iQ', 'Kizashi',\n",
       "       'C/V Cargo Van', 'Prius c', '750lxi', 'alp', 'Lucerne',\n",
       "       'Escalade EXT', 'Silverado 3500HD', 'Crown Victoria',\n",
       "       'Sierra 3500HD', 'M56', 'rio', 'IS 250 C', '3', 'endeavor',\n",
       "       'corolla', 'jetta', 'ActiveHybrid X6', 'a4', 'dts', 'g3500',\n",
       "       'colorado', 'sebring', 'e250', 'police', 'Elantra Touring',\n",
       "       'G37 Coupe', 'HS 250h', 'journey', 'Mazdaspeed3', 'Milan Hybrid',\n",
       "       'Ghost', 'Silverado 1500 Hybrid', 'crown', 'Yukon Hybrid',\n",
       "       'elantra', 'optima', 'borrego', 'mazda6', '6', 'Mariner Hybrid',\n",
       "       'montana', 'Torrent', 'VUE Hybrid', 'G3', '9-7X', 'vibe',\n",
       "       'Expedition EL', 'Tiburon', 'patriot', 'LR3', 'Navigator L',\n",
       "       'Astra', 'Tribeca', 'XL7', 'sx4', 'Sky', 'Reno', 'M6', 'S8',\n",
       "       'Terraza', 'Silverado 2500HD Classic', 'uplander', 'ram3500',\n",
       "       'Sierra 1500 Classic', 'Sierra 2500HD Classic', 'Fusion Energi',\n",
       "       'XK-Series', 'quattroporte', 'B-Series Truck', 'mazda3', 'b200',\n",
       "       'Mazdaspeed Mazda6', 'Montego', 'g5', 'yaris', 'Rainier',\n",
       "       'TrailBlazer EXT', 'optra', 'Crossfire', 'magnum', 'savana',\n",
       "       'Sierra 1500HD', 'ridgelin', 'Savana', 'Zephyr', 'rrs', 'tribute',\n",
       "       'carrera', 'Montana SV6', 'wave', 'tt', 'Classic', 'pt',\n",
       "       'freestyle', 'Ascender', 'XG350', 'Q60 Coupe', 'Q70', 'QX50',\n",
       "       'pursuit', 'x-trail', 'GTO', 'xA', 'L300', 'Baja', '9-2X', 'Aerio',\n",
       "       'el', 'rainier', 'Silverado 2500', 'Astro', 'Tracker', 'intrepid',\n",
       "       'F-150 Heritage', 'expedit', 'accord', 'Freelander', 'c240w',\n",
       "       'MR2 Spyder', 'RS 6', '320i', 'Voyager', 'Axiom', 'cl55',\n",
       "       'Montero Sport', 'sl55', 'Protege', 'Silhouette', 'b1500',\n",
       "       'concorde', '626', 'Blackwood', 'Rodeo Sport', 'LX 470',\n",
       "       'Villager', 'Firebird', 'Aztek', 'Aurora', 'CL', 'EuroVan',\n",
       "       'Catera', 'Leganza', 'XG300', 'Prelude', 'Trooper', 'Prowler',\n",
       "       'Cabrio', 'Integra', 'cavalier', 'astro', 'excurs', 'dakota',\n",
       "       'Cirrus', 'twn&country', 'Jimmy', 'safari', 'ranger', 'sonoma',\n",
       "       'Sierra 2500', 'yukon', 'Sephia', 'Passport', 'Mirage', 'breeze',\n",
       "       'silhouette', 'villager', 'beetle', 'suburban', 'Lumina', 'Amigo',\n",
       "       'mountaineer', 'Esteem', 'pathfinder', 'quest', 'Breeze', 'e300dt',\n",
       "       'intrigue', 'lumina', 'Cabriolet', 'envoy', 'Cutlass', 'GS 400',\n",
       "       'E-150', 'Regency', 'thunderbird', 'B-Series Pickup', 'legacy',\n",
       "       'corsica', 'bronco', 'Le Baron', 'Caprice', 'Pickup', 'century',\n",
       "       '500-Class', '300-Class', 'previa', 'Murano CrossCabriolet',\n",
       "       'NV Cargo', 'Jetta Hybrid', 'S7', 'Encore', 'XTS',\n",
       "       'Black Diamond Avalanche', 'RLX', '2 Series', 'M6 Gran Coupe',\n",
       "       'regal', 'versa', 'BRZ', 'C/V Tradesman', 'Model S',\n",
       "       'Beetle Convertible', 'Golf R', 'routan', 'TSX Sport Wagon',\n",
       "       'interstate', 'a6', 'Corvette Stingray', 'SS', 'Mazdaspeed 3',\n",
       "       'i-MiEV', 'F430', 'EX35', 'swift', 'GranSport', 'escalade', 'neon',\n",
       "       'f350', 'Yukon Denali', 'Ghibli', '960', 'Cutlass Supreme',\n",
       "       'cougar', 'IS 350 C', 'lacrosse', 'tucson', '323i', 'cobalt', 'x3',\n",
       "       'Mazdaspeed MX-5 Miata', 'Ram Cargo', 'Safari', 'Eighty-Eight',\n",
       "       '850', 'J30', 'Promaster Cargo Van', 'sonic', 'rr', '1',\n",
       "       'Malibu Hybrid', '350', 'twn/cntry', 'Spirit', 'Accord Hybrid',\n",
       "       '3 Series Gran Turismo', 'e', 'cruze', 'c230', 'crossfire',\n",
       "       'Viper', 'Riviera', 'compass', 'Avalon Hybrid', 'RX-8',\n",
       "       'V8 Vantage', 'Equator', 'sportage', 'C/K 3500 Series',\n",
       "       'Mark VIII', 'charger', 'GranTurismo Convertible', 'avenger',\n",
       "       'equinox', 'allure', 'c240s', 'Vitara', 'avalon', 'eurovan',\n",
       "       'siera', 'pathfind', 'Eighty-Eight Royale', 'cherokee',\n",
       "       'ActiveHybrid 7', 'aveo', 'GS 460', 'Tribute Hybrid',\n",
       "       'Aura Hybrid', 'tahoe', 'g2500', '300ZX', 'Golf GTI', 'i-Series',\n",
       "       'golf', 'MKZ Hybrid', 'Macan', 'FX50', 'comm', 'STS-V',\n",
       "       'Windstar Cargo', 'CTS-V Wagon', 'Karma', '328i', 'Z4 M', '42c',\n",
       "       'subrbn', 'b2300', 'mountnr', 'Coupe', 'uplandr', 'Ram Van',\n",
       "       'Tempo', 'Tracer', 'CV Tradesman', 'DB9', 'C/K 2500 Series', 'i8',\n",
       "       'Rapide', 'Nubira', 'Corsica', 'NV Passenger', 'Spyder',\n",
       "       'LS 600h L', '400-Class', 'H3T', 'LX 450', 'WRX',\n",
       "       'Silverado 3500 Classic', '500e', 'Continental Supersports',\n",
       "       'Sierra 3500', 'Mystique', 'F-150 SVT Lightning', '190-Class',\n",
       "       'MKC', 'Aspire', '940', 'Gallardo',\n",
       "       'Continental Flying Spur Speed', '3000GT', 'TT RS', 'B-Series',\n",
       "       'ActiveHybrid 5', 'Sierra 1500 Hybrid', 'ML55 AMG', 'S-10 Blazer',\n",
       "       'RS 4', 'T100', 'Continental GTC Speed', 'mdx', 'Transit Van',\n",
       "       'F-250', 'Sidekick', 'E-250', '8 Series', '420-Class', 'E-350',\n",
       "       'Achieva', 'B-Class Electric Drive', 'Fleetwood', 'Paseo',\n",
       "       'Civic del Sol', 'Exige', 'X4', 'Spark EV', 'Transit Wagon', 'H1',\n",
       "       'SLS AMG GT', 'Flying Spur', 'Metro', 'Grand Cherokee SRT', 'RC F',\n",
       "       'Q3', '4 Series Gran Coupe', 'RC 350', '360', 'GLA-Class', 'TLX',\n",
       "       '458 Italia'], dtype=object)"
      ]
     },
     "execution_count": 41,
     "metadata": {},
     "output_type": "execute_result"
    }
   ],
   "source": [
    "cat_temp_data['model'].unique()"
   ]
  },
  {
   "cell_type": "code",
   "execution_count": 42,
   "id": "b68e2558-88f1-4c6b-85fa-fa08ad1bb436",
   "metadata": {},
   "outputs": [
    {
     "data": {
      "text/plain": [
       "(10399, 1)"
      ]
     },
     "execution_count": 42,
     "metadata": {},
     "output_type": "execute_result"
    }
   ],
   "source": [
    "cat_temp_data[cat_temp_data['model'].isnull()].shape"
   ]
  },
  {
   "cell_type": "code",
   "execution_count": 43,
   "id": "faa80465-35cf-4bcd-903f-ceec5a1f9f01",
   "metadata": {},
   "outputs": [
    {
     "data": {
      "text/plain": [
       "array([['Sorento'],\n",
       "       ['Sorento'],\n",
       "       ['3 Series'],\n",
       "       ...,\n",
       "       ['X5'],\n",
       "       ['Altima'],\n",
       "       ['F-150']], dtype=object)"
      ]
     },
     "execution_count": 43,
     "metadata": {},
     "output_type": "execute_result"
    }
   ],
   "source": [
    "# Импьютация наиболее частыми значениями\n",
    "imp2 = SimpleImputer(missing_values=np.nan, strategy='most_frequent')\n",
    "data_imp2 = imp2.fit_transform(cat_temp_data)\n",
    "data[['model']] = data_imp2\n",
    "data_imp2"
   ]
  },
  {
   "cell_type": "code",
   "execution_count": 44,
   "id": "3e8b4b23-66fa-4a3c-9450-0d3dbc9507a6",
   "metadata": {},
   "outputs": [
    {
     "data": {
      "text/plain": [
       "array(['1', '1 Series', '1500', '190-Class', '2 Series', '200', '200SX',\n",
       "       '2500', '3', '3 Series', '3 Series Gran Turismo', '300',\n",
       "       '300-Class', '3000GT', '300M', '300ZX', '300e', '320i', '323i',\n",
       "       '328i', '350', '3500', '350Z', '350z', '360', '370Z', '4 Series',\n",
       "       '4 Series Gran Coupe', '400-Class', '420-Class', '420sel', '42c',\n",
       "       '458 Italia', '4Runner', '5 Series', '5 Series Gran Turismo',\n",
       "       '500', '500-Class', '500L', '500e', '6', '6 Series',\n",
       "       '6 Series Gran Coupe', '626', '7', '7 Series', '750i', '750li',\n",
       "       '750lxi', '8 Series', '850', '9-2X', '9-3', '9-5', '9-7X', '911',\n",
       "       '940', '960', 'A3', 'A4', 'A5', 'A6', 'A7', 'A8', 'ATS', 'Acadia',\n",
       "       'Accent', 'Accord', 'Accord Crosstour', 'Accord Hybrid', 'Achieva',\n",
       "       'ActiveHybrid 5', 'ActiveHybrid 7', 'ActiveHybrid X6', 'Aerio',\n",
       "       'Alero', 'Altima', 'Altima Hybrid', 'Amanti', 'Amigo', 'Armada',\n",
       "       'Ascender', 'Aspen', 'Aspire', 'Astra', 'Astro', 'Astro Cargo',\n",
       "       'Aura', 'Aura Hybrid', 'Aurora', 'Avalanche', 'Avalon',\n",
       "       'Avalon Hybrid', 'Avenger', 'Aveo', 'Aviator', 'Axiom', 'Azera',\n",
       "       'Aztek', 'B-Class Electric Drive', 'B-Series', 'B-Series Pickup',\n",
       "       'B-Series Truck', 'B9 Tribeca', 'BRZ', 'Baja', 'Beetle',\n",
       "       'Beetle Convertible', 'Black Diamond Avalanche', 'Blackwood',\n",
       "       'Blazer', 'Bonneville', 'Borrego', 'Boxster', 'Bravada', 'Breeze',\n",
       "       'C-Class', 'C-Max Energi', 'C-Max Hybrid', 'C/K 1500 Series',\n",
       "       'C/K 2500 Series', 'C/K 3500 Series', 'C/V Cargo Van',\n",
       "       'C/V Tradesman', 'C30', 'C70', 'CC', 'CL', 'CL-Class', 'CLA-Class',\n",
       "       'CLK-Class', 'CLS-Class', 'CR-V', 'CR-Z', 'CT 200h', 'CTS',\n",
       "       'CTS Coupe', 'CTS Wagon', 'CTS-V', 'CTS-V Coupe', 'CTS-V Wagon',\n",
       "       'CV Tradesman', 'CX-5', 'CX-7', 'CX-9', 'Cabrio', 'Cabriolet',\n",
       "       'Cadenza', 'Caliber', 'California', 'Camaro', 'Camry',\n",
       "       'Camry Hybrid', 'Camry Solara', 'Canyon', 'Caprice',\n",
       "       'Captiva Sport', 'Caravan', 'Catera', 'Cavalier', 'Cayenne',\n",
       "       'Cayman', 'Cayman S', 'Celica', 'Century', 'Challenger', 'Charger',\n",
       "       'Cherokee', 'Cirrus', 'Civic', 'Civic del Sol', 'Classic',\n",
       "       'Cobalt', 'Colorado', 'Commander', 'Compass', 'Concorde',\n",
       "       'Continental', 'Continental Flying Spur',\n",
       "       'Continental Flying Spur Speed', 'Continental GT',\n",
       "       'Continental GT Speed', 'Continental GTC', 'Continental GTC Speed',\n",
       "       'Continental Supersports', 'Contour', 'Cooper', 'Cooper Clubman',\n",
       "       'Cooper Countryman', 'Cooper Coupe', 'Cooper Paceman',\n",
       "       'Cooper Roadster', 'Corolla', 'Corsica', 'Corvette',\n",
       "       'Corvette Stingray', 'Cougar', 'Coupe', 'Crossfire', 'Crosstour',\n",
       "       'Crown Victoria', 'Cruze', 'Cube', 'Cutlass', 'Cutlass Ciera',\n",
       "       'Cutlass Supreme', 'DB9', 'DTS', 'Dakota', 'Dart', 'DeVille',\n",
       "       'Diamante', 'Discovery', 'Discovery Series II', 'Durango', 'E-150',\n",
       "       'E-250', 'E-350', 'E-Class', 'E-Series Van', 'E-Series Wagon',\n",
       "       'ECHO', 'ELR', 'ES 300', 'ES 300h', 'ES 330', 'ES 350', 'EX',\n",
       "       'EX35', 'Eclipse', 'Eclipse Spyder', 'Econoline Cargo',\n",
       "       'Econoline Wagon', 'Edge', 'Eighty-Eight', 'Eighty-Eight Royale',\n",
       "       'Elantra', 'Elantra Coupe', 'Elantra GT', 'Elantra Touring',\n",
       "       'Eldorado', 'Element', 'Enclave', 'Encore', 'Endeavor',\n",
       "       'Entourage', 'Envoy', 'Envoy XL', 'Envoy XUV', 'Eos', 'Equator',\n",
       "       'Equinox', 'Equus', 'Escalade', 'Escalade ESV', 'Escalade EXT',\n",
       "       'Escalade Hybrid', 'Escape', 'Escape Hybrid', 'Escort', 'Esteem',\n",
       "       'EuroVan', 'Excursion', 'Exige', 'Expedition', 'Expedition EL',\n",
       "       'Explorer', 'Explorer Sport', 'Explorer Sport Trac', 'Express',\n",
       "       'Express Cargo', 'F-150', 'F-150 Heritage', 'F-150 SVT Lightning',\n",
       "       'F-250', 'F-250 Super Duty', 'F-350 Super Duty',\n",
       "       'F-450 Super Duty', 'F-TYPE', 'F430', 'FJ Cruiser', 'FR-S', 'FX',\n",
       "       'FX35', 'FX45', 'FX50', 'Fiesta', 'Firebird', 'Fit',\n",
       "       'Five Hundred', 'Fleetwood', 'Flex', 'Flying Spur', 'Focus',\n",
       "       'Focus ST', 'Forenza', 'Forester', 'Forte', 'Freelander',\n",
       "       'Freestar', 'Freestyle', 'Frontier', 'Fusion', 'Fusion Energi',\n",
       "       'Fusion Hybrid', 'G Convertible', 'G Coupe', 'G Sedan', 'G-Class',\n",
       "       'G20', 'G3', 'G35', 'G37', 'G37 Convertible', 'G37 Coupe', 'G5',\n",
       "       'G6', 'G8', 'GL-Class', 'GLA-Class', 'GLI', 'GLK-Class', 'GS 300',\n",
       "       'GS 350', 'GS 400', 'GS 430', 'GS 450h', 'GS 460', 'GT-R', 'GTI',\n",
       "       'GTO', 'GX 460', 'GX 470', 'Galant', 'Gallardo', 'Genesis',\n",
       "       'Genesis Coupe', 'Ghibli', 'Ghost', 'Golf', 'Golf GTI', 'Golf R',\n",
       "       'GranSport', 'GranTurismo', 'GranTurismo Convertible', 'Grand Am',\n",
       "       'Grand Caravan', 'Grand Cherokee', 'Grand Cherokee SRT',\n",
       "       'Grand Marquis', 'Grand Prix', 'Grand Vitara', 'H1', 'H2',\n",
       "       'H2 SUT', 'H3', 'H3T', 'HHR', 'HS 250h', 'Highlander',\n",
       "       'Highlander Hybrid', 'I30', 'I35', 'ILX', 'ION', 'IS 250',\n",
       "       'IS 250 C', 'IS 300', 'IS 350', 'IS 350 C', 'IS F', 'Impala',\n",
       "       'Impala Limited', 'Impreza', 'Impreza WRX', 'Insight', 'Integra',\n",
       "       'Intrepid', 'Intrigue', 'J30', 'JX', 'Jetta', 'Jetta GLI',\n",
       "       'Jetta Hybrid', 'Jetta SportWagen', 'Jimmy', 'Journey', 'Juke',\n",
       "       'K900', 'Karma', 'Kizashi', 'L-Series', 'L300', 'LHS', 'LR2',\n",
       "       'LR3', 'LR4', 'LS', 'LS 400', 'LS 430', 'LS 460', 'LS 600h L',\n",
       "       'LX 450', 'LX 470', 'LX 570', 'LaCrosse', 'Lancer',\n",
       "       'Lancer Evolution', 'Lancer Sportback', 'Land Cruiser', 'Le Baron',\n",
       "       'LeSabre', 'Leaf', 'Legacy', 'Leganza', 'Legend', 'Liberty',\n",
       "       'Lucerne', 'Lumina', 'M', 'M-Class', 'M3', 'M35', 'M37', 'M4',\n",
       "       'M45', 'M5', 'M56', 'M6', 'M6 Gran Coupe', 'MDX', 'MKC', 'MKS',\n",
       "       'MKT', 'MKX', 'MKZ', 'MKZ Hybrid', 'ML55 AMG', 'MPV', 'MR2 Spyder',\n",
       "       'MX-5 Miata', 'Macan', 'Magnum', 'Malibu', 'Malibu Classic',\n",
       "       'Malibu Hybrid', 'Malibu Maxx', 'Marauder', 'Mariner',\n",
       "       'Mariner Hybrid', 'Mark LT', 'Mark VIII', 'Matrix', 'Maxima',\n",
       "       'Mazda2', 'Mazda3', 'Mazda5', 'Mazda6', 'Mazdaspeed 3',\n",
       "       'Mazdaspeed MX-5 Miata', 'Mazdaspeed Mazda3', 'Mazdaspeed Mazda6',\n",
       "       'Mazdaspeed Protege', 'Mazdaspeed3', 'Metro', 'Milan',\n",
       "       'Milan Hybrid', 'Millenia', 'Mirage', 'Model S', 'Montana',\n",
       "       'Montana SV6', 'Monte Carlo', 'Montego', 'Monterey', 'Montero',\n",
       "       'Montero Sport', 'Mountaineer', 'Murano', 'Murano CrossCabriolet',\n",
       "       'Mustang', 'Mustang SVT Cobra', 'Mystique', 'NV', 'NV Cargo',\n",
       "       'NV Passenger', 'NV200', 'Navigator', 'Navigator L', 'Neon',\n",
       "       'New Beetle', 'Nitro', 'Nubira', 'Odyssey', 'Optima', 'Outback',\n",
       "       'Outlander', 'Outlander Sport', 'Outlook', 'PT Cruiser',\n",
       "       'Pacifica', 'Panamera', 'Park Avenue', 'Paseo', 'Passat',\n",
       "       'Passport', 'Pathfinder', 'Patriot', 'Phaeton', 'Pickup', 'Pilot',\n",
       "       'Prelude', 'Prius', 'Prius Plug-in', 'Prius c', 'Prius v', 'Prizm',\n",
       "       'Promaster Cargo Van', 'Protege', 'Protege5', 'Prowler', 'Q3',\n",
       "       'Q45', 'Q5', 'Q50', 'Q60 Convertible', 'Q60 Coupe', 'Q7', 'Q70',\n",
       "       'QX', 'QX4', 'QX50', 'QX56', 'QX60', 'QX70', 'QX80',\n",
       "       'Quattroporte', 'Quest', 'R-Class', 'R32', 'R8', 'RAV4', 'RC 350',\n",
       "       'RC F', 'RDX', 'RL', 'RLX', 'RS 4', 'RS 5', 'RS 6', 'RS 7', 'RSX',\n",
       "       'RX 300', 'RX 330', 'RX 350', 'RX 400h', 'RX 450h', 'RX-8',\n",
       "       'Rabbit', 'Raider', 'Rainier', 'Ram Cargo', 'Ram Pickup 1500',\n",
       "       'Ram Pickup 2500', 'Ram Pickup 3500', 'Ram Van', 'Range Rover',\n",
       "       'Range Rover Evoque', 'Range Rover Sport', 'Ranger', 'Rapide',\n",
       "       'Regal', 'Regency', 'Relay', 'Rendezvous', 'Reno', 'Ridgeline',\n",
       "       'Rio', 'Riviera', 'Roadmaster', 'Rodeo', 'Rodeo Sport', 'Rogue',\n",
       "       'Rogue Select', 'Rondo', 'Routan', 'S-10', 'S-10 Blazer',\n",
       "       'S-Class', 'S-Series', 'S-Type', 'S2000', 'S4', 'S40', 'S5', 'S6',\n",
       "       'S60', 'S7', 'S70', 'S8', 'S80', 'S90', 'SC 300', 'SC 400',\n",
       "       'SC 430', 'SL-Class', 'SLK-Class', 'SLS AMG', 'SLS AMG GT', 'SQ5',\n",
       "       'SRX', 'SS', 'SSR', 'STS', 'STS-V', 'SX4', 'Sable', 'Safari',\n",
       "       'Safari Cargo', 'Santa Fe', 'Santa Fe Sport', 'Savana',\n",
       "       'Savana Cargo', 'Sebring', 'Sedona', 'Sentra', 'Sephia', 'Sequoia',\n",
       "       'Seville', 'Shelby GT500', 'Sidekick', 'Sienna', 'Sierra 1500',\n",
       "       'Sierra 1500 Classic', 'Sierra 1500 Hybrid', 'Sierra 1500HD',\n",
       "       'Sierra 2500', 'Sierra 2500HD', 'Sierra 2500HD Classic',\n",
       "       'Sierra 3500', 'Sierra 3500HD', 'Silhouette', 'Silverado 1500',\n",
       "       'Silverado 1500 Classic', 'Silverado 1500 Hybrid',\n",
       "       'Silverado 1500HD', 'Silverado 2500', 'Silverado 2500HD',\n",
       "       'Silverado 2500HD Classic', 'Silverado 3500',\n",
       "       'Silverado 3500 Classic', 'Silverado 3500HD', 'Sky', 'Solstice',\n",
       "       'Sonata', 'Sonata Hybrid', 'Sonic', 'Sonoma', 'Sorento', 'Soul',\n",
       "       'Spark', 'Spark EV', 'Spectra', 'Spirit', 'Sportage', 'Sprinter',\n",
       "       'Sprinter Cargo', 'Spyder', 'Stratus', 'Suburban', 'Sunfire',\n",
       "       'T100', 'TL', 'TLX', 'TSX', 'TSX Sport Wagon', 'TT', 'TT RS',\n",
       "       'TTS', 'Tacoma', 'Tahoe', 'Tahoe Hybrid', 'Tahoe Limited/Z71',\n",
       "       'Taurus', 'Taurus X', 'Tempo', 'Tercel', 'Terrain', 'Terraza',\n",
       "       'Thunderbird', 'Tiburon', 'Tiguan', 'Titan', 'Torrent', 'Touareg',\n",
       "       'Touareg 2', 'Town Car', 'Town and Country', 'Tracer', 'Tracker',\n",
       "       'TrailBlazer', 'TrailBlazer EXT', 'Transit Connect', 'Transit Van',\n",
       "       'Transit Wagon', 'Traverse', 'Tribeca', 'Tribute',\n",
       "       'Tribute Hybrid', 'Trooper', 'Truck', 'Tucson', 'Tundra',\n",
       "       'Uplander', 'V40', 'V50', 'V60', 'V70', 'V8 Vantage', 'VUE',\n",
       "       'VUE Hybrid', 'Veloster', 'Venture', 'Venza', 'Veracruz', 'Verano',\n",
       "       'Verona', 'Versa', 'Versa Note', 'Vibe', 'Villager', 'Viper',\n",
       "       'Vitara', 'Volt', 'Voyager', 'WRX', 'Windstar', 'Windstar Cargo',\n",
       "       'Wrangler', 'X-Type', 'X1', 'X3', 'X4', 'X5', 'X5 M', 'X6', 'X6 M',\n",
       "       'XC', 'XC60', 'XC70', 'XC90', 'XF', 'XG300', 'XG350', 'XJ',\n",
       "       'XJ-Series', 'XK', 'XK-Series', 'XL-7', 'XL7', 'XLR', 'XTS',\n",
       "       'XV Crosstrek', 'Xterra', 'Yaris', 'Yukon', 'Yukon Denali',\n",
       "       'Yukon Hybrid', 'Yukon XL', 'Z3', 'Z4', 'Z4 M', 'ZDX', 'Zephyr',\n",
       "       'a4', 'a6', 'accord', 'alero', 'allroad', 'allroad quattro',\n",
       "       'allure', 'alp', 'astro', 'avalon', 'avenger', 'aveo', 'b1500',\n",
       "       'b200', 'b2300', 'beetle', 'borrego', 'breeze', 'bronco', 'c230',\n",
       "       'c230wz', 'c240s', 'c240w', 'camaro', 'camry', 'capt', 'caravan',\n",
       "       'carrera', 'cavalier', 'century', 'charger', 'cherokee', 'ciera',\n",
       "       'civic', 'cl55', 'cobalt', 'colorado', 'comm', 'compass',\n",
       "       'concorde', 'corolla', 'corsica', 'corvette', 'cougar',\n",
       "       'crossfire', 'crown', 'cruze', 'cx-7', 'dakota', 'discovery',\n",
       "       'dts', 'durango', 'e', 'e150', 'e250', 'e300dt', 'e350', 'el',\n",
       "       'elantra', 'endeavor', 'envoy', 'equinox', 'escalade', 'escape',\n",
       "       'eurovan', 'excurs', 'expedit', 'expedition', 'expeditn',\n",
       "       'explorer', 'f150', 'f250', 'f350', 'focus', 'forester', 'fortwo',\n",
       "       'freestyle', 'g1500', 'g2500', 'g3500', 'g5', 'g500', 'g55', 'g6',\n",
       "       'galant', 'golf', 'gr', 'grand', 'gx', 'hhr', 'i-MiEV', 'i-Series',\n",
       "       'i8', 'iQ', 'impala', 'interstate', 'intrepid', 'intrigue',\n",
       "       'jetta', 'journey', 'lacrosse', 'lancer', 'legacy', 'lr3',\n",
       "       'lumina', 'lx', 'magnum', 'malibu', 'matrix', 'mazda3', 'mazda5',\n",
       "       'mazda6', 'mdx', 'mkt', 'montana', 'mountaineer', 'mountnr', 'mpv',\n",
       "       'neon', 'odyssey', 'optima', 'optra', 'pacifica', 'passat',\n",
       "       'pathfind', 'pathfinder', 'patriot', 'pickup', 'pilot', 'police',\n",
       "       'previa', 'pt', 'pursuit', 'quattroporte', 'quest', 'rainier',\n",
       "       'ram', 'ram3500', 'range', 'ranger', 'rangerover', 'regal',\n",
       "       'ridgelin', 'rio', 'rl', 'routan', 'rr', 'rrs', 'rx8', 's10',\n",
       "       's55', 'safari', 'santa', 'savana', 'sebring', 'sienna', 'siera',\n",
       "       'silhouette', 'sl55', 'sonic', 'sonoma', 'sportage', 'sprinter',\n",
       "       'sr', 'srx', 'stratus', 'sts', 'subrbn', 'suburban', 'swift',\n",
       "       'sx4', 'tC', 'tahoe', 'taurus', 'thunderbird', 'town', 'tribute',\n",
       "       'tt', 'tucson', 'tundra', 'twn&country', 'twn/cntry', 'uplander',\n",
       "       'uplandr', 'venture', 'versa', 'vibe', 'villager', 'voyager',\n",
       "       'wave', 'windstar', 'wrangler', 'x-trail', 'x3', 'xA', 'xB', 'xD',\n",
       "       'yaris', 'yukon'], dtype=object)"
      ]
     },
     "execution_count": 44,
     "metadata": {},
     "output_type": "execute_result"
    }
   ],
   "source": [
    "np.unique(data_imp2)"
   ]
  },
  {
   "cell_type": "code",
   "execution_count": 45,
   "id": "620c7f2d-0af9-47d8-9d48-6a51575c9dab",
   "metadata": {},
   "outputs": [
    {
     "data": {
      "text/html": [
       "<div>\n",
       "<style scoped>\n",
       "    .dataframe tbody tr th:only-of-type {\n",
       "        vertical-align: middle;\n",
       "    }\n",
       "\n",
       "    .dataframe tbody tr th {\n",
       "        vertical-align: top;\n",
       "    }\n",
       "\n",
       "    .dataframe thead th {\n",
       "        text-align: right;\n",
       "    }\n",
       "</style>\n",
       "<table border=\"1\" class=\"dataframe\">\n",
       "  <thead>\n",
       "    <tr style=\"text-align: right;\">\n",
       "      <th></th>\n",
       "      <th>trim</th>\n",
       "    </tr>\n",
       "  </thead>\n",
       "  <tbody>\n",
       "    <tr>\n",
       "      <th>0</th>\n",
       "      <td>LX</td>\n",
       "    </tr>\n",
       "    <tr>\n",
       "      <th>1</th>\n",
       "      <td>LX</td>\n",
       "    </tr>\n",
       "    <tr>\n",
       "      <th>2</th>\n",
       "      <td>328i SULEV</td>\n",
       "    </tr>\n",
       "    <tr>\n",
       "      <th>3</th>\n",
       "      <td>T5</td>\n",
       "    </tr>\n",
       "    <tr>\n",
       "      <th>4</th>\n",
       "      <td>650i</td>\n",
       "    </tr>\n",
       "  </tbody>\n",
       "</table>\n",
       "</div>"
      ],
      "text/plain": [
       "         trim\n",
       "0          LX\n",
       "1          LX\n",
       "2  328i SULEV\n",
       "3          T5\n",
       "4        650i"
      ]
     },
     "execution_count": 45,
     "metadata": {},
     "output_type": "execute_result"
    }
   ],
   "source": [
    "cat_temp_data = data[['trim']]\n",
    "cat_temp_data.head()"
   ]
  },
  {
   "cell_type": "code",
   "execution_count": 46,
   "id": "2f1cc217-9a3d-432a-96d8-dd9aa9b148f0",
   "metadata": {},
   "outputs": [
    {
     "data": {
      "text/plain": [
       "array(['LX', '328i SULEV', 'T5', ..., 'pure', 'EWB', 'Power Wagon'],\n",
       "      dtype=object)"
      ]
     },
     "execution_count": 46,
     "metadata": {},
     "output_type": "execute_result"
    }
   ],
   "source": [
    "cat_temp_data['trim'].unique()"
   ]
  },
  {
   "cell_type": "code",
   "execution_count": 47,
   "id": "cec3f3e2-55b7-4e0c-9608-8828ed24cf93",
   "metadata": {},
   "outputs": [
    {
     "data": {
      "text/plain": [
       "(10651, 1)"
      ]
     },
     "execution_count": 47,
     "metadata": {},
     "output_type": "execute_result"
    }
   ],
   "source": [
    "cat_temp_data[cat_temp_data['trim'].isnull()].shape"
   ]
  },
  {
   "cell_type": "code",
   "execution_count": 48,
   "id": "241063ef-c819-4380-af91-99c9b51c6eb5",
   "metadata": {},
   "outputs": [
    {
     "data": {
      "text/plain": [
       "array([['LX'],\n",
       "       ['LX'],\n",
       "       ['328i SULEV'],\n",
       "       ...,\n",
       "       ['xDrive35d'],\n",
       "       ['2.5 S'],\n",
       "       ['XLT']], dtype=object)"
      ]
     },
     "execution_count": 48,
     "metadata": {},
     "output_type": "execute_result"
    }
   ],
   "source": [
    "# Импьютация наиболее частыми значениями\n",
    "imp2 = SimpleImputer(missing_values=np.nan, strategy='most_frequent')\n",
    "data_imp2 = imp2.fit_transform(cat_temp_data)\n",
    "data[['trim']] = data_imp2\n",
    "data_imp2"
   ]
  },
  {
   "cell_type": "code",
   "execution_count": 49,
   "id": "28bf8cfa-ae35-4e39-8b90-04b2c8eef654",
   "metadata": {},
   "outputs": [
    {
     "data": {
      "text/plain": [
       "array(['!', '& coun fwd', '& coun fwd limited', ..., 'yuk xl 4x2 slt',\n",
       "       'z06', 'zx3'], dtype=object)"
      ]
     },
     "execution_count": 49,
     "metadata": {},
     "output_type": "execute_result"
    }
   ],
   "source": [
    "np.unique(data_imp2)"
   ]
  },
  {
   "cell_type": "code",
   "execution_count": 50,
   "id": "894d75db-400e-4908-9ef7-881c4c3ed27c",
   "metadata": {},
   "outputs": [
    {
     "data": {
      "text/html": [
       "<div>\n",
       "<style scoped>\n",
       "    .dataframe tbody tr th:only-of-type {\n",
       "        vertical-align: middle;\n",
       "    }\n",
       "\n",
       "    .dataframe tbody tr th {\n",
       "        vertical-align: top;\n",
       "    }\n",
       "\n",
       "    .dataframe thead th {\n",
       "        text-align: right;\n",
       "    }\n",
       "</style>\n",
       "<table border=\"1\" class=\"dataframe\">\n",
       "  <thead>\n",
       "    <tr style=\"text-align: right;\">\n",
       "      <th></th>\n",
       "      <th>body</th>\n",
       "    </tr>\n",
       "  </thead>\n",
       "  <tbody>\n",
       "    <tr>\n",
       "      <th>0</th>\n",
       "      <td>SUV</td>\n",
       "    </tr>\n",
       "    <tr>\n",
       "      <th>1</th>\n",
       "      <td>SUV</td>\n",
       "    </tr>\n",
       "    <tr>\n",
       "      <th>2</th>\n",
       "      <td>Sedan</td>\n",
       "    </tr>\n",
       "    <tr>\n",
       "      <th>3</th>\n",
       "      <td>Sedan</td>\n",
       "    </tr>\n",
       "    <tr>\n",
       "      <th>4</th>\n",
       "      <td>Sedan</td>\n",
       "    </tr>\n",
       "  </tbody>\n",
       "</table>\n",
       "</div>"
      ],
      "text/plain": [
       "    body\n",
       "0    SUV\n",
       "1    SUV\n",
       "2  Sedan\n",
       "3  Sedan\n",
       "4  Sedan"
      ]
     },
     "execution_count": 50,
     "metadata": {},
     "output_type": "execute_result"
    }
   ],
   "source": [
    "cat_temp_data = data[['body']]\n",
    "cat_temp_data.head()"
   ]
  },
  {
   "cell_type": "code",
   "execution_count": 51,
   "id": "c9dbcb57-3b75-49fa-a863-f575ad0b0a9b",
   "metadata": {},
   "outputs": [
    {
     "data": {
      "text/plain": [
       "(13195, 1)"
      ]
     },
     "execution_count": 51,
     "metadata": {},
     "output_type": "execute_result"
    }
   ],
   "source": [
    "cat_temp_data[cat_temp_data['body'].isnull()].shape"
   ]
  },
  {
   "cell_type": "code",
   "execution_count": 52,
   "id": "a9b50e0b-92bf-4f6c-aca4-77bbb8b5da2a",
   "metadata": {},
   "outputs": [
    {
     "data": {
      "text/plain": [
       "array([['SUV'],\n",
       "       ['SUV'],\n",
       "       ['Sedan'],\n",
       "       ...,\n",
       "       ['SUV'],\n",
       "       ['sedan'],\n",
       "       ['SuperCrew']], dtype=object)"
      ]
     },
     "execution_count": 52,
     "metadata": {},
     "output_type": "execute_result"
    }
   ],
   "source": [
    "# Импьютация наиболее частыми значениями\n",
    "imp2 = SimpleImputer(missing_values=np.nan, strategy='most_frequent')\n",
    "data_imp2 = imp2.fit_transform(cat_temp_data)\n",
    "data[['body']] = data_imp2\n",
    "data_imp2"
   ]
  },
  {
   "cell_type": "code",
   "execution_count": 53,
   "id": "91fdf170-bc06-4f65-992c-ab13aa7fa7d5",
   "metadata": {},
   "outputs": [
    {
     "data": {
      "text/plain": [
       "array(['Access Cab', 'Beetle Convertible', 'CTS Coupe', 'CTS Wagon',\n",
       "       'CTS-V Coupe', 'CTS-V Wagon', 'Cab Plus', 'Cab Plus 4', 'Club Cab',\n",
       "       'Convertible', 'Coupe', 'Crew Cab', 'CrewMax Cab', 'Double Cab',\n",
       "       'E-Series Van', 'Elantra Coupe', 'Extended Cab', 'G Convertible',\n",
       "       'G Coupe', 'G Sedan', 'G37 Convertible', 'G37 Coupe',\n",
       "       'Genesis Coupe', 'GranTurismo Convertible', 'Hatchback',\n",
       "       'King Cab', 'Koup', 'Mega Cab', 'Minivan', 'Navitgation',\n",
       "       'Promaster Cargo Van', 'Q60 Convertible', 'Q60 Coupe', 'Quad Cab',\n",
       "       'Ram Van', 'Regular Cab', 'SUV', 'Sedan', 'SuperCab', 'SuperCrew',\n",
       "       'TSX Sport Wagon', 'Transit Van', 'Van', 'Wagon', 'Xtracab',\n",
       "       'access cab', 'beetle convertible', 'cab plus 4', 'club cab',\n",
       "       'convertible', 'coupe', 'crew cab', 'crewmax cab', 'cts coupe',\n",
       "       'cts wagon', 'cts-v coupe', 'double cab', 'e-series van',\n",
       "       'elantra coupe', 'extended cab', 'g convertible', 'g coupe',\n",
       "       'g sedan', 'g37 convertible', 'g37 coupe', 'genesis coupe',\n",
       "       'granturismo convertible', 'hatchback', 'king cab', 'koup',\n",
       "       'mega cab', 'minivan', 'promaster cargo van', 'q60 convertible',\n",
       "       'q60 coupe', 'quad cab', 'regular cab', 'regular-cab', 'sedan',\n",
       "       'supercab', 'supercrew', 'suv', 'transit van', 'tsx sport wagon',\n",
       "       'van', 'wagon', 'xtracab'], dtype=object)"
      ]
     },
     "execution_count": 53,
     "metadata": {},
     "output_type": "execute_result"
    }
   ],
   "source": [
    "np.unique(data_imp2)"
   ]
  },
  {
   "cell_type": "code",
   "execution_count": 54,
   "id": "c463f5a6-e533-4dca-a80d-a082e160ee6c",
   "metadata": {},
   "outputs": [
    {
     "data": {
      "text/html": [
       "<div>\n",
       "<style scoped>\n",
       "    .dataframe tbody tr th:only-of-type {\n",
       "        vertical-align: middle;\n",
       "    }\n",
       "\n",
       "    .dataframe tbody tr th {\n",
       "        vertical-align: top;\n",
       "    }\n",
       "\n",
       "    .dataframe thead th {\n",
       "        text-align: right;\n",
       "    }\n",
       "</style>\n",
       "<table border=\"1\" class=\"dataframe\">\n",
       "  <thead>\n",
       "    <tr style=\"text-align: right;\">\n",
       "      <th></th>\n",
       "      <th>transmission</th>\n",
       "    </tr>\n",
       "  </thead>\n",
       "  <tbody>\n",
       "    <tr>\n",
       "      <th>0</th>\n",
       "      <td>automatic</td>\n",
       "    </tr>\n",
       "    <tr>\n",
       "      <th>1</th>\n",
       "      <td>automatic</td>\n",
       "    </tr>\n",
       "    <tr>\n",
       "      <th>2</th>\n",
       "      <td>automatic</td>\n",
       "    </tr>\n",
       "    <tr>\n",
       "      <th>3</th>\n",
       "      <td>automatic</td>\n",
       "    </tr>\n",
       "    <tr>\n",
       "      <th>4</th>\n",
       "      <td>automatic</td>\n",
       "    </tr>\n",
       "  </tbody>\n",
       "</table>\n",
       "</div>"
      ],
      "text/plain": [
       "  transmission\n",
       "0    automatic\n",
       "1    automatic\n",
       "2    automatic\n",
       "3    automatic\n",
       "4    automatic"
      ]
     },
     "execution_count": 54,
     "metadata": {},
     "output_type": "execute_result"
    }
   ],
   "source": [
    "cat_temp_data = data[['transmission']]\n",
    "cat_temp_data.head()"
   ]
  },
  {
   "cell_type": "code",
   "execution_count": 55,
   "id": "cf11261f-59db-4e96-b74e-446f1bb33306",
   "metadata": {},
   "outputs": [
    {
     "data": {
      "text/plain": [
       "array(['automatic', nan, 'manual', 'Sedan', 'sedan'], dtype=object)"
      ]
     },
     "execution_count": 55,
     "metadata": {},
     "output_type": "execute_result"
    }
   ],
   "source": [
    "cat_temp_data['transmission'].unique()"
   ]
  },
  {
   "cell_type": "code",
   "execution_count": 56,
   "id": "4c790dd8-9a80-4dd8-80f1-bfddd37993a7",
   "metadata": {},
   "outputs": [
    {
     "data": {
      "text/plain": [
       "(65352, 1)"
      ]
     },
     "execution_count": 56,
     "metadata": {},
     "output_type": "execute_result"
    }
   ],
   "source": [
    "cat_temp_data[cat_temp_data['transmission'].isnull()].shape"
   ]
  },
  {
   "cell_type": "code",
   "execution_count": 57,
   "id": "c31690c7-706a-4f73-a00d-099efeb70cf8",
   "metadata": {},
   "outputs": [
    {
     "data": {
      "text/plain": [
       "array([['automatic'],\n",
       "       ['automatic'],\n",
       "       ['automatic'],\n",
       "       ...,\n",
       "       ['automatic'],\n",
       "       ['automatic'],\n",
       "       ['automatic']], dtype=object)"
      ]
     },
     "execution_count": 57,
     "metadata": {},
     "output_type": "execute_result"
    }
   ],
   "source": [
    "# Импьютация наиболее частыми значениями\n",
    "imp2 = SimpleImputer(missing_values=np.nan, strategy='most_frequent')\n",
    "data_imp2 = imp2.fit_transform(cat_temp_data)\n",
    "data[['ransmission']] = data_imp2\n",
    "data_imp2"
   ]
  },
  {
   "cell_type": "code",
   "execution_count": 58,
   "id": "8d6bf5c3-5058-476a-a1ae-62b9f25286b6",
   "metadata": {},
   "outputs": [
    {
     "data": {
      "text/plain": [
       "array(['Sedan', 'automatic', 'manual', 'sedan'], dtype=object)"
      ]
     },
     "execution_count": 58,
     "metadata": {},
     "output_type": "execute_result"
    }
   ],
   "source": [
    "np.unique(data_imp2)"
   ]
  },
  {
   "cell_type": "code",
   "execution_count": 65,
   "id": "42b205f0-ab42-447e-846a-4bb7770a1b83",
   "metadata": {},
   "outputs": [
    {
     "data": {
      "text/plain": [
       "((558837, 17), (492791, 17))"
      ]
     },
     "execution_count": 65,
     "metadata": {},
     "output_type": "execute_result"
    }
   ],
   "source": [
    "# Удаление строк, содержащих пустые значения\n",
    "data_new_2 = data.dropna(axis=0, how='any')\n",
    "(data.shape, data_new_2.shape)"
   ]
  },
  {
   "cell_type": "markdown",
   "id": "43492c23-fb6f-4ea4-9f75-312fe3d65ff9",
   "metadata": {},
   "source": [
    "## Преобразование категориальных признаков в числовые"
   ]
  },
  {
   "cell_type": "markdown",
   "id": "79098b18-32b4-44c3-9539-7ff8921b19f1",
   "metadata": {},
   "source": [
    "### Кодирование категорий целочисленными значениями"
   ]
  },
  {
   "cell_type": "code",
   "execution_count": 68,
   "id": "4145d307-fc77-40a1-b0d6-30a17edd5403",
   "metadata": {},
   "outputs": [],
   "source": [
    "from sklearn.preprocessing import OrdinalEncoder"
   ]
  },
  {
   "cell_type": "code",
   "execution_count": 69,
   "id": "31570833-0d67-4152-a50f-15f72ee8ec50",
   "metadata": {},
   "outputs": [
    {
     "data": {
      "text/html": [
       "<div>\n",
       "<style scoped>\n",
       "    .dataframe tbody tr th:only-of-type {\n",
       "        vertical-align: middle;\n",
       "    }\n",
       "\n",
       "    .dataframe tbody tr th {\n",
       "        vertical-align: top;\n",
       "    }\n",
       "\n",
       "    .dataframe thead th {\n",
       "        text-align: right;\n",
       "    }\n",
       "</style>\n",
       "<table border=\"1\" class=\"dataframe\">\n",
       "  <thead>\n",
       "    <tr style=\"text-align: right;\">\n",
       "      <th></th>\n",
       "      <th>make</th>\n",
       "      <th>color</th>\n",
       "    </tr>\n",
       "  </thead>\n",
       "  <tbody>\n",
       "    <tr>\n",
       "      <th>0</th>\n",
       "      <td>Kia</td>\n",
       "      <td>white</td>\n",
       "    </tr>\n",
       "    <tr>\n",
       "      <th>1</th>\n",
       "      <td>Kia</td>\n",
       "      <td>white</td>\n",
       "    </tr>\n",
       "    <tr>\n",
       "      <th>2</th>\n",
       "      <td>BMW</td>\n",
       "      <td>gray</td>\n",
       "    </tr>\n",
       "    <tr>\n",
       "      <th>3</th>\n",
       "      <td>Volvo</td>\n",
       "      <td>white</td>\n",
       "    </tr>\n",
       "    <tr>\n",
       "      <th>4</th>\n",
       "      <td>BMW</td>\n",
       "      <td>gray</td>\n",
       "    </tr>\n",
       "  </tbody>\n",
       "</table>\n",
       "</div>"
      ],
      "text/plain": [
       "    make  color\n",
       "0    Kia  white\n",
       "1    Kia  white\n",
       "2    BMW   gray\n",
       "3  Volvo  white\n",
       "4    BMW   gray"
      ]
     },
     "execution_count": 69,
     "metadata": {},
     "output_type": "execute_result"
    }
   ],
   "source": [
    "data_oe = data[['make', 'color']]\n",
    "data_oe.head()"
   ]
  },
  {
   "cell_type": "code",
   "execution_count": 70,
   "id": "ef2eaa90-8342-4803-993e-9684637fab5d",
   "metadata": {},
   "outputs": [
    {
     "data": {
      "text/plain": [
       "array([['Kia', 'white'],\n",
       "       ['Kia', 'white'],\n",
       "       ['BMW', 'gray'],\n",
       "       ...,\n",
       "       ['BMW', 'black'],\n",
       "       ['Nissan', 'white'],\n",
       "       ['Ford', 'gray']], dtype=object)"
      ]
     },
     "execution_count": 70,
     "metadata": {},
     "output_type": "execute_result"
    }
   ],
   "source": [
    "imp4 = SimpleImputer(missing_values=np.nan, strategy='constant', fill_value='NA')\n",
    "data_oe_filled = imp4.fit_transform(data_oe)\n",
    "data_oe_filled"
   ]
  },
  {
   "cell_type": "code",
   "execution_count": 71,
   "id": "0eb0bac4-c599-45d2-8224-77468ea6ca3f",
   "metadata": {},
   "outputs": [
    {
     "data": {
      "text/plain": [
       "array([[24., 44.],\n",
       "       [24., 44.],\n",
       "       [ 3., 34.],\n",
       "       ...,\n",
       "       [ 3., 28.],\n",
       "       [36., 44.],\n",
       "       [14., 34.]])"
      ]
     },
     "execution_count": 71,
     "metadata": {},
     "output_type": "execute_result"
    }
   ],
   "source": [
    "oe = OrdinalEncoder()\n",
    "cat_enc_oe = oe.fit_transform(data_oe_filled)\n",
    "cat_enc_oe"
   ]
  },
  {
   "cell_type": "code",
   "execution_count": 72,
   "id": "41460c0c-b7b3-4de8-9fc8-99ab9b0acdd9",
   "metadata": {},
   "outputs": [
    {
     "data": {
      "text/plain": [
       "array([ 0.,  1.,  2.,  3.,  4.,  5.,  6.,  7.,  8.,  9., 10., 11., 12.,\n",
       "       13., 14., 15., 16., 17., 18., 19., 20., 21., 22., 23., 24., 25.,\n",
       "       26., 27., 28., 29., 30., 31., 32., 33., 34., 35., 36., 37., 38.,\n",
       "       39., 40., 41., 42., 43., 44., 45., 46., 47., 48., 49., 50., 51.,\n",
       "       52., 53., 54., 55., 56., 57., 58., 59., 60., 61., 62., 63., 64.,\n",
       "       65., 66., 67., 68., 69., 70., 71., 72., 73., 74., 75., 76., 77.,\n",
       "       78., 79., 80., 81., 82., 83., 84., 85., 86., 87., 88., 89., 90.,\n",
       "       91., 92., 93., 94., 95.])"
      ]
     },
     "execution_count": 72,
     "metadata": {},
     "output_type": "execute_result"
    }
   ],
   "source": [
    "# Уникальные значения 1 признака\n",
    "np.unique(cat_enc_oe[:, 0])"
   ]
  },
  {
   "cell_type": "code",
   "execution_count": 73,
   "id": "f5f2e7aa-4776-464d-a640-ab14c471c76e",
   "metadata": {},
   "outputs": [
    {
     "data": {
      "text/plain": [
       "array([ 0.,  1.,  2.,  3.,  4.,  5.,  6.,  7.,  8.,  9., 10., 11., 12.,\n",
       "       13., 14., 15., 16., 17., 18., 19., 20., 21., 22., 23., 24., 25.,\n",
       "       26., 27., 28., 29., 30., 31., 32., 33., 34., 35., 36., 37., 38.,\n",
       "       39., 40., 41., 42., 43., 44., 45., 46.])"
      ]
     },
     "execution_count": 73,
     "metadata": {},
     "output_type": "execute_result"
    }
   ],
   "source": [
    "# Уникальные значения 2 признака\n",
    "np.unique(cat_enc_oe[:, 1])"
   ]
  },
  {
   "cell_type": "code",
   "execution_count": 74,
   "id": "00077eaf-7f62-4f6f-a180-7ea8ac004e8f",
   "metadata": {},
   "outputs": [
    {
     "data": {
      "text/plain": [
       "[array(['Acura', 'Aston Martin', 'Audi', 'BMW', 'Bentley', 'Buick',\n",
       "        'Cadillac', 'Chevrolet', 'Chrysler', 'Daewoo', 'Dodge', 'FIAT',\n",
       "        'Ferrari', 'Fisker', 'Ford', 'GMC', 'Geo', 'HUMMER', 'Honda',\n",
       "        'Hyundai', 'Infiniti', 'Isuzu', 'Jaguar', 'Jeep', 'Kia',\n",
       "        'Lamborghini', 'Land Rover', 'Lexus', 'Lincoln', 'Lotus', 'MINI',\n",
       "        'Maserati', 'Mazda', 'Mercedes-Benz', 'Mercury', 'Mitsubishi',\n",
       "        'Nissan', 'Oldsmobile', 'Plymouth', 'Pontiac', 'Porsche', 'Ram',\n",
       "        'Rolls-Royce', 'Saab', 'Saturn', 'Scion', 'Subaru', 'Suzuki',\n",
       "        'Tesla', 'Toyota', 'Volkswagen', 'Volvo', 'acura', 'airstream',\n",
       "        'audi', 'bmw', 'buick', 'cadillac', 'chev truck', 'chevrolet',\n",
       "        'chrysler', 'dodge', 'dodge tk', 'dot', 'ford', 'ford tk',\n",
       "        'ford truck', 'gmc', 'gmc truck', 'honda', 'hyundai', 'hyundai tk',\n",
       "        'jeep', 'kia', 'land rover', 'landrover', 'lexus', 'lincoln',\n",
       "        'maserati', 'mazda', 'mazda tk', 'mercedes', 'mercedes-b',\n",
       "        'mercury', 'mitsubishi', 'nissan', 'oldsmobile', 'plymouth',\n",
       "        'pontiac', 'porsche', 'smart', 'subaru', 'suzuki', 'toyota',\n",
       "        'volkswagen', 'vw'], dtype=object),\n",
       " array(['11034', '1167', '12655', '14872', '15719', '16633', '18384',\n",
       "        '18561', '20379', '20627', '2172', '2711', '2817', '2846', '339',\n",
       "        '4802', '5001', '5705', '6158', '6388', '6864', '721', '9410',\n",
       "        '9562', '9837', '9887', 'NA', 'beige', 'black', 'blue', 'brown',\n",
       "        'burgundy', 'charcoal', 'gold', 'gray', 'green', 'lime',\n",
       "        'off-white', 'orange', 'pink', 'purple', 'red', 'silver',\n",
       "        'turquoise', 'white', 'yellow', '—'], dtype=object)]"
      ]
     },
     "execution_count": 74,
     "metadata": {},
     "output_type": "execute_result"
    }
   ],
   "source": [
    "# Наименования категорий в соответствии с порядковыми номерами\n",
    "oe.categories_"
   ]
  },
  {
   "cell_type": "markdown",
   "id": "f6f5d592-491b-48ec-a916-fb8bf5319984",
   "metadata": {},
   "source": [
    "## Масштабирование данных"
   ]
  },
  {
   "cell_type": "code",
   "execution_count": 75,
   "id": "51de9e0b-9615-452c-bc14-32aaccf8b424",
   "metadata": {},
   "outputs": [],
   "source": [
    "from sklearn.preprocessing import MinMaxScaler, StandardScaler, Normalizer"
   ]
  },
  {
   "cell_type": "markdown",
   "id": "0c4e0b7a-afbb-4c13-b9d2-e3d7e7a4b9c1",
   "metadata": {},
   "source": [
    "### MinMax масштабирование"
   ]
  },
  {
   "cell_type": "code",
   "execution_count": 76,
   "id": "2baa39c7-4e53-4627-9b01-f0c0a9d23286",
   "metadata": {},
   "outputs": [],
   "source": [
    "sc1 = MinMaxScaler()\n",
    "sc1_data = sc1.fit_transform(data[['condition']])"
   ]
  },
  {
   "cell_type": "code",
   "execution_count": 77,
   "id": "2979697c-59f5-4f33-ab15-e95e4859b743",
   "metadata": {},
   "outputs": [
    {
     "data": {
      "image/png": "[encoded data removed]",
      "text/plain": [
       "<Figure size 640x480 with 1 Axes>"
      ]
     },
     "metadata": {},
     "output_type": "display_data"
    }
   ],
   "source": [
    "plt.hist(data['condition'], 50)\n",
    "plt.show()"
   ]
  },
  {
   "cell_type": "code",
   "execution_count": 78,
   "id": "7be8c8e3-a586-437d-874b-3df5d2743f38",
   "metadata": {},
   "outputs": [
    {
     "data": {
      "image/png": "[encoded data removed]",
      "text/plain": [
       "<Figure size 640x480 with 1 Axes>"
      ]
     },
     "metadata": {},
     "output_type": "display_data"
    }
   ],
   "source": [
    "plt.hist(sc1_data, 50)\n",
    "plt.show()"
   ]
  },
  {
   "cell_type": "markdown",
   "id": "e35f98be-376f-4a2a-b952-0d7a604bf3ed",
   "metadata": {},
   "source": [
    "**Вывод:** данные отмасштабированы от 0 до 1."
   ]
  }
 ],
 "metadata": {
  "kernelspec": {
   "display_name": "Python 3 (ipykernel)",
   "language": "python",
   "name": "python3"
  },
  "language_info": {
   "codemirror_mode": {
    "name": "ipython",
    "version": 3
   },
   "file_extension": ".py",
   "mimetype": "text/x-python",
   "name": "python",
   "nbconvert_exporter": "python",
   "pygments_lexer": "ipython3",
   "version": "3.11.7"
  }
 },
 "nbformat": 4,
 "nbformat_minor": 5
}
